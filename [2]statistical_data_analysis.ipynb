{
 "cells": [
  {
   "cell_type": "markdown",
   "id": "34aacc4a",
   "metadata": {},
   "source": [
    "# Исследование данных об аренде самокатов\n",
    "\n",
    "## Введение\n",
    "\n",
    "**Краткое описание проекта:** В нашем распоряжении данные о некоторых пользователях из нескольких городов, а также об их поездках. Необходимо проанализировать данные и проверить несколько гипотез, которые могут помочь бизнесу вырасти.\n",
    "\n",
    "**Цель проекта:** Проверить статистические гипотезы, а как следствие получить информацию, которая может помочь сервису аренды самокатов стать лучше и вырасти как бизнес.\n",
    "\n",
    "**Описание данных:** В основных данных есть информация о пользователях, их поездках и подписках (3 датасета).\n",
    "\n",
    "1. **Пользователи — `users_go.csv`**\n",
    "\n",
    "- `user_id` - уникальный идентификатор пользователя\n",
    "\n",
    "- `name` - имя пользователя\n",
    "\n",
    "- `age` - возраст\n",
    "\n",
    "- `city` - город\n",
    "\n",
    "- `subscription_type` - тип подписки (free, ultra)\n",
    "\n",
    "\n",
    "2. **Поездки — `rides_go.csv`**\n",
    "\n",
    "- `user_id` - уникальный идентификатор пользователя\n",
    "\n",
    "- `distance` - расстояние, которое пользователь проехал в текущей сессии (в метрах)\n",
    "\n",
    "- `duration` - продолжительность сессии (в минутах) — время с того момента, как пользователь нажал кнопку «Начать поездку» до момента, как он нажал кнопку «Завершить поездку»\n",
    "\n",
    "- `date` - дата совершения поездки\n",
    "\n",
    "3. **Подписки — `subscriptions_go.csv`**\n",
    "\n",
    "- `subscription_type` - тип подписки\n",
    "\n",
    "- `minute_price` - стоимость одной минуты поездки по данной подписке\n",
    "\n",
    "- `start_ride_price` - стоимость начала поездки\n",
    "\n",
    "- `subscription_fee` - стоимость ежемесячного платежа\n",
    "\n",
    "**План работ:**\n",
    "- Изучить данные\n",
    "- Провести предобработку данных: обработать пропуски, устранить дубликаты, обработать типы данных\n",
    "- Провести исследовательский анализ данных (описать и визуализируйте общую информацию о пользователях и поездках в следующих разрезах: частота встречаемости городов; соотношение пользователей с подпиской и без подписки; возраст пользователей; расстояние, которое пользователь преодолел за одну поездку; продолжительность поездок).\n",
    "- Объединить данные в один датафрейм\n",
    "- Рассчитать выручку\n",
    "- Проверить гипотезы\n",
    "- Построить распределения"
   ]
  },
  {
   "cell_type": "markdown",
   "id": "3c1b6bdf",
   "metadata": {},
   "source": [
    "## Загрузка и первоначальное изучение данных"
   ]
  },
  {
   "cell_type": "code",
   "execution_count": 1,
   "id": "99a18a1a",
   "metadata": {},
   "outputs": [],
   "source": [
    "# Импорты\n",
    "import pandas as pd\n",
    "import scipy.stats as st\n",
    "import matplotlib.pyplot as plt\n",
    "import numpy as np"
   ]
  },
  {
   "cell_type": "code",
   "execution_count": 2,
   "id": "703698be",
   "metadata": {},
   "outputs": [],
   "source": [
    "# Загрузка с Google Drive\n",
    "users_df = pd.read_csv('https://drive.google.com/uc?export=download&id=1QzCHinXigi14LxXMoYwH1i4QYxzECYUD', sep=',')\n",
    "rides_df = pd.read_csv('https://drive.google.com/uc?export=download&id=11rEIIP6AXCXD5F6GVTLbHiDn0oR1GCij', sep=',')\n",
    "subscriptions_df = pd.read_csv('https://drive.google.com/uc?export=download&id=1DG_L3qx3AFq1PDh6GWuspi5goa9yomwr', sep=',')"
   ]
  },
  {
   "cell_type": "markdown",
   "id": "9167f584",
   "metadata": {},
   "source": [
    "Выведем на экран первые 10 строк датафрейма `users_df`"
   ]
  },
  {
   "cell_type": "code",
   "execution_count": 3,
   "id": "29a34e1a",
   "metadata": {},
   "outputs": [
    {
     "data": {
      "text/html": [
       "<div>\n",
       "<style scoped>\n",
       "    .dataframe tbody tr th:only-of-type {\n",
       "        vertical-align: middle;\n",
       "    }\n",
       "\n",
       "    .dataframe tbody tr th {\n",
       "        vertical-align: top;\n",
       "    }\n",
       "\n",
       "    .dataframe thead th {\n",
       "        text-align: right;\n",
       "    }\n",
       "</style>\n",
       "<table border=\"1\" class=\"dataframe\">\n",
       "  <thead>\n",
       "    <tr style=\"text-align: right;\">\n",
       "      <th></th>\n",
       "      <th>user_id</th>\n",
       "      <th>name</th>\n",
       "      <th>age</th>\n",
       "      <th>city</th>\n",
       "      <th>subscription_type</th>\n",
       "    </tr>\n",
       "  </thead>\n",
       "  <tbody>\n",
       "    <tr>\n",
       "      <th>0</th>\n",
       "      <td>1</td>\n",
       "      <td>Кира</td>\n",
       "      <td>22</td>\n",
       "      <td>Тюмень</td>\n",
       "      <td>ultra</td>\n",
       "    </tr>\n",
       "    <tr>\n",
       "      <th>1</th>\n",
       "      <td>2</td>\n",
       "      <td>Станислав</td>\n",
       "      <td>31</td>\n",
       "      <td>Омск</td>\n",
       "      <td>ultra</td>\n",
       "    </tr>\n",
       "    <tr>\n",
       "      <th>2</th>\n",
       "      <td>3</td>\n",
       "      <td>Алексей</td>\n",
       "      <td>20</td>\n",
       "      <td>Москва</td>\n",
       "      <td>ultra</td>\n",
       "    </tr>\n",
       "    <tr>\n",
       "      <th>3</th>\n",
       "      <td>4</td>\n",
       "      <td>Константин</td>\n",
       "      <td>26</td>\n",
       "      <td>Ростов-на-Дону</td>\n",
       "      <td>ultra</td>\n",
       "    </tr>\n",
       "    <tr>\n",
       "      <th>4</th>\n",
       "      <td>5</td>\n",
       "      <td>Адель</td>\n",
       "      <td>28</td>\n",
       "      <td>Омск</td>\n",
       "      <td>ultra</td>\n",
       "    </tr>\n",
       "    <tr>\n",
       "      <th>5</th>\n",
       "      <td>6</td>\n",
       "      <td>Регина</td>\n",
       "      <td>25</td>\n",
       "      <td>Краснодар</td>\n",
       "      <td>ultra</td>\n",
       "    </tr>\n",
       "    <tr>\n",
       "      <th>6</th>\n",
       "      <td>7</td>\n",
       "      <td>Игорь</td>\n",
       "      <td>23</td>\n",
       "      <td>Омск</td>\n",
       "      <td>ultra</td>\n",
       "    </tr>\n",
       "    <tr>\n",
       "      <th>7</th>\n",
       "      <td>8</td>\n",
       "      <td>Юрий</td>\n",
       "      <td>23</td>\n",
       "      <td>Краснодар</td>\n",
       "      <td>ultra</td>\n",
       "    </tr>\n",
       "    <tr>\n",
       "      <th>8</th>\n",
       "      <td>9</td>\n",
       "      <td>Ян</td>\n",
       "      <td>21</td>\n",
       "      <td>Пятигорск</td>\n",
       "      <td>ultra</td>\n",
       "    </tr>\n",
       "    <tr>\n",
       "      <th>9</th>\n",
       "      <td>10</td>\n",
       "      <td>Валерий</td>\n",
       "      <td>18</td>\n",
       "      <td>Екатеринбург</td>\n",
       "      <td>ultra</td>\n",
       "    </tr>\n",
       "  </tbody>\n",
       "</table>\n",
       "</div>"
      ],
      "text/plain": [
       "   user_id        name  age            city subscription_type\n",
       "0        1        Кира   22          Тюмень             ultra\n",
       "1        2   Станислав   31            Омск             ultra\n",
       "2        3     Алексей   20          Москва             ultra\n",
       "3        4  Константин   26  Ростов-на-Дону             ultra\n",
       "4        5       Адель   28            Омск             ultra\n",
       "5        6      Регина   25       Краснодар             ultra\n",
       "6        7       Игорь   23            Омск             ultra\n",
       "7        8        Юрий   23       Краснодар             ultra\n",
       "8        9          Ян   21       Пятигорск             ultra\n",
       "9       10     Валерий   18    Екатеринбург             ultra"
      ]
     },
     "execution_count": 3,
     "metadata": {},
     "output_type": "execute_result"
    }
   ],
   "source": [
    "users_df.head(10)"
   ]
  },
  {
   "cell_type": "markdown",
   "id": "a4bc8938",
   "metadata": {},
   "source": [
    "Изучим также общую информацию о данных"
   ]
  },
  {
   "cell_type": "code",
   "execution_count": 4,
   "id": "2f14f5c7",
   "metadata": {},
   "outputs": [
    {
     "name": "stdout",
     "output_type": "stream",
     "text": [
      "<class 'pandas.core.frame.DataFrame'>\n",
      "RangeIndex: 1565 entries, 0 to 1564\n",
      "Data columns (total 5 columns):\n",
      " #   Column             Non-Null Count  Dtype \n",
      "---  ------             --------------  ----- \n",
      " 0   user_id            1565 non-null   int64 \n",
      " 1   name               1565 non-null   object\n",
      " 2   age                1565 non-null   int64 \n",
      " 3   city               1565 non-null   object\n",
      " 4   subscription_type  1565 non-null   object\n",
      "dtypes: int64(2), object(3)\n",
      "memory usage: 61.3+ KB\n"
     ]
    }
   ],
   "source": [
    "users_df.info()"
   ]
  },
  {
   "cell_type": "markdown",
   "id": "7905c913",
   "metadata": {},
   "source": [
    "В данных отсутствуют пропуски, типы данных приведены к оптимальным.\n",
    "\n",
    "Выведем на экран первые 10 строк датафрейма `rides_df`"
   ]
  },
  {
   "cell_type": "code",
   "execution_count": 5,
   "id": "b77a2729",
   "metadata": {},
   "outputs": [
    {
     "data": {
      "text/html": [
       "<div>\n",
       "<style scoped>\n",
       "    .dataframe tbody tr th:only-of-type {\n",
       "        vertical-align: middle;\n",
       "    }\n",
       "\n",
       "    .dataframe tbody tr th {\n",
       "        vertical-align: top;\n",
       "    }\n",
       "\n",
       "    .dataframe thead th {\n",
       "        text-align: right;\n",
       "    }\n",
       "</style>\n",
       "<table border=\"1\" class=\"dataframe\">\n",
       "  <thead>\n",
       "    <tr style=\"text-align: right;\">\n",
       "      <th></th>\n",
       "      <th>user_id</th>\n",
       "      <th>distance</th>\n",
       "      <th>duration</th>\n",
       "      <th>date</th>\n",
       "    </tr>\n",
       "  </thead>\n",
       "  <tbody>\n",
       "    <tr>\n",
       "      <th>0</th>\n",
       "      <td>1</td>\n",
       "      <td>4409.919140</td>\n",
       "      <td>25.599769</td>\n",
       "      <td>2021-01-01</td>\n",
       "    </tr>\n",
       "    <tr>\n",
       "      <th>1</th>\n",
       "      <td>1</td>\n",
       "      <td>2617.592153</td>\n",
       "      <td>15.816871</td>\n",
       "      <td>2021-01-18</td>\n",
       "    </tr>\n",
       "    <tr>\n",
       "      <th>2</th>\n",
       "      <td>1</td>\n",
       "      <td>754.159807</td>\n",
       "      <td>6.232113</td>\n",
       "      <td>2021-04-20</td>\n",
       "    </tr>\n",
       "    <tr>\n",
       "      <th>3</th>\n",
       "      <td>1</td>\n",
       "      <td>2694.783254</td>\n",
       "      <td>18.511000</td>\n",
       "      <td>2021-08-11</td>\n",
       "    </tr>\n",
       "    <tr>\n",
       "      <th>4</th>\n",
       "      <td>1</td>\n",
       "      <td>4028.687306</td>\n",
       "      <td>26.265803</td>\n",
       "      <td>2021-08-28</td>\n",
       "    </tr>\n",
       "    <tr>\n",
       "      <th>5</th>\n",
       "      <td>1</td>\n",
       "      <td>2770.890808</td>\n",
       "      <td>16.650138</td>\n",
       "      <td>2021-10-09</td>\n",
       "    </tr>\n",
       "    <tr>\n",
       "      <th>6</th>\n",
       "      <td>1</td>\n",
       "      <td>3039.020292</td>\n",
       "      <td>14.927879</td>\n",
       "      <td>2021-10-19</td>\n",
       "    </tr>\n",
       "    <tr>\n",
       "      <th>7</th>\n",
       "      <td>1</td>\n",
       "      <td>2842.118050</td>\n",
       "      <td>23.117468</td>\n",
       "      <td>2021-11-06</td>\n",
       "    </tr>\n",
       "    <tr>\n",
       "      <th>8</th>\n",
       "      <td>1</td>\n",
       "      <td>3412.690668</td>\n",
       "      <td>15.238072</td>\n",
       "      <td>2021-11-14</td>\n",
       "    </tr>\n",
       "    <tr>\n",
       "      <th>9</th>\n",
       "      <td>1</td>\n",
       "      <td>748.690645</td>\n",
       "      <td>15.041884</td>\n",
       "      <td>2021-11-22</td>\n",
       "    </tr>\n",
       "  </tbody>\n",
       "</table>\n",
       "</div>"
      ],
      "text/plain": [
       "   user_id     distance   duration        date\n",
       "0        1  4409.919140  25.599769  2021-01-01\n",
       "1        1  2617.592153  15.816871  2021-01-18\n",
       "2        1   754.159807   6.232113  2021-04-20\n",
       "3        1  2694.783254  18.511000  2021-08-11\n",
       "4        1  4028.687306  26.265803  2021-08-28\n",
       "5        1  2770.890808  16.650138  2021-10-09\n",
       "6        1  3039.020292  14.927879  2021-10-19\n",
       "7        1  2842.118050  23.117468  2021-11-06\n",
       "8        1  3412.690668  15.238072  2021-11-14\n",
       "9        1   748.690645  15.041884  2021-11-22"
      ]
     },
     "execution_count": 5,
     "metadata": {},
     "output_type": "execute_result"
    }
   ],
   "source": [
    "rides_df.head(10)"
   ]
  },
  {
   "cell_type": "markdown",
   "id": "6c8a0f71",
   "metadata": {},
   "source": [
    "Изучим также общую информацию о данных"
   ]
  },
  {
   "cell_type": "code",
   "execution_count": 6,
   "id": "6250a89d",
   "metadata": {},
   "outputs": [
    {
     "name": "stdout",
     "output_type": "stream",
     "text": [
      "<class 'pandas.core.frame.DataFrame'>\n",
      "RangeIndex: 18068 entries, 0 to 18067\n",
      "Data columns (total 4 columns):\n",
      " #   Column    Non-Null Count  Dtype  \n",
      "---  ------    --------------  -----  \n",
      " 0   user_id   18068 non-null  int64  \n",
      " 1   distance  18068 non-null  float64\n",
      " 2   duration  18068 non-null  float64\n",
      " 3   date      18068 non-null  object \n",
      "dtypes: float64(2), int64(1), object(1)\n",
      "memory usage: 564.8+ KB\n"
     ]
    }
   ],
   "source": [
    "rides_df.info()"
   ]
  },
  {
   "cell_type": "markdown",
   "id": "0a8f91fb",
   "metadata": {},
   "source": [
    "В данных отсутствуют пропуски, но тип данных столбца `'date'` необходимо будет перевести в тип `datetime`, это одна из будущих подзадач следующего раздела - Предобработка данных.\n",
    "\n",
    "Перейдем к последнему датасету - `'subscriptions_df'`. Выведем весь датафрейм на экран (в нем всего 2 строки)"
   ]
  },
  {
   "cell_type": "code",
   "execution_count": 7,
   "id": "a4dfe838",
   "metadata": {},
   "outputs": [
    {
     "data": {
      "text/html": [
       "<div>\n",
       "<style scoped>\n",
       "    .dataframe tbody tr th:only-of-type {\n",
       "        vertical-align: middle;\n",
       "    }\n",
       "\n",
       "    .dataframe tbody tr th {\n",
       "        vertical-align: top;\n",
       "    }\n",
       "\n",
       "    .dataframe thead th {\n",
       "        text-align: right;\n",
       "    }\n",
       "</style>\n",
       "<table border=\"1\" class=\"dataframe\">\n",
       "  <thead>\n",
       "    <tr style=\"text-align: right;\">\n",
       "      <th></th>\n",
       "      <th>subscription_type</th>\n",
       "      <th>minute_price</th>\n",
       "      <th>start_ride_price</th>\n",
       "      <th>subscription_fee</th>\n",
       "    </tr>\n",
       "  </thead>\n",
       "  <tbody>\n",
       "    <tr>\n",
       "      <th>0</th>\n",
       "      <td>free</td>\n",
       "      <td>8</td>\n",
       "      <td>50</td>\n",
       "      <td>0</td>\n",
       "    </tr>\n",
       "    <tr>\n",
       "      <th>1</th>\n",
       "      <td>ultra</td>\n",
       "      <td>6</td>\n",
       "      <td>0</td>\n",
       "      <td>199</td>\n",
       "    </tr>\n",
       "  </tbody>\n",
       "</table>\n",
       "</div>"
      ],
      "text/plain": [
       "  subscription_type  minute_price  start_ride_price  subscription_fee\n",
       "0              free             8                50                 0\n",
       "1             ultra             6                 0               199"
      ]
     },
     "execution_count": 7,
     "metadata": {},
     "output_type": "execute_result"
    }
   ],
   "source": [
    "subscriptions_df.head()"
   ]
  },
  {
   "cell_type": "markdown",
   "id": "559505e7",
   "metadata": {},
   "source": [
    "Выведем общую информацию"
   ]
  },
  {
   "cell_type": "code",
   "execution_count": 8,
   "id": "e53edb52",
   "metadata": {},
   "outputs": [
    {
     "name": "stdout",
     "output_type": "stream",
     "text": [
      "<class 'pandas.core.frame.DataFrame'>\n",
      "RangeIndex: 2 entries, 0 to 1\n",
      "Data columns (total 4 columns):\n",
      " #   Column             Non-Null Count  Dtype \n",
      "---  ------             --------------  ----- \n",
      " 0   subscription_type  2 non-null      object\n",
      " 1   minute_price       2 non-null      int64 \n",
      " 2   start_ride_price   2 non-null      int64 \n",
      " 3   subscription_fee   2 non-null      int64 \n",
      "dtypes: int64(3), object(1)\n",
      "memory usage: 196.0+ bytes\n"
     ]
    }
   ],
   "source": [
    "subscriptions_df.info()"
   ]
  },
  {
   "cell_type": "markdown",
   "id": "d4ee4ca1",
   "metadata": {},
   "source": [
    "Типы данных оптимальны, пропуски отсутствуют."
   ]
  },
  {
   "cell_type": "markdown",
   "id": "f8fbddd5",
   "metadata": {},
   "source": [
    "## Предобработка данных"
   ]
  },
  {
   "cell_type": "markdown",
   "id": "449aa7a9",
   "metadata": {},
   "source": [
    "В наших данных отсутствуют пропуски, поэтому начать предобработку данных можно с преобразования типов данных\n",
    "\n",
    "### Обработка типов данных\n",
    "\n",
    "Приведем столбец `date` датафрейма `rides_df` в формат `datetime` pandas."
   ]
  },
  {
   "cell_type": "code",
   "execution_count": 9,
   "id": "176e38d0",
   "metadata": {},
   "outputs": [
    {
     "name": "stdout",
     "output_type": "stream",
     "text": [
      "<class 'pandas.core.frame.DataFrame'>\n",
      "RangeIndex: 18068 entries, 0 to 18067\n",
      "Data columns (total 4 columns):\n",
      " #   Column    Non-Null Count  Dtype         \n",
      "---  ------    --------------  -----         \n",
      " 0   user_id   18068 non-null  int64         \n",
      " 1   distance  18068 non-null  float64       \n",
      " 2   duration  18068 non-null  float64       \n",
      " 3   date      18068 non-null  datetime64[ns]\n",
      "dtypes: datetime64[ns](1), float64(2), int64(1)\n",
      "memory usage: 564.8 KB\n"
     ]
    }
   ],
   "source": [
    "rides_df['date'] = pd.to_datetime(rides_df['date'], format='%Y-%m-%d')\n",
    "rides_df.info()"
   ]
  },
  {
   "cell_type": "markdown",
   "id": "46fd6144",
   "metadata": {},
   "source": [
    "Тип данных успешно изменен на необходимый нам. \n",
    "\n",
    "### Добавление вспомогательных столбцов\n",
    "\n",
    "Добавим столбец `month`, который будет хранить информацию о месяце, в котором состоялась поездка."
   ]
  },
  {
   "cell_type": "code",
   "execution_count": 10,
   "id": "035646fe",
   "metadata": {},
   "outputs": [
    {
     "data": {
      "text/html": [
       "<div>\n",
       "<style scoped>\n",
       "    .dataframe tbody tr th:only-of-type {\n",
       "        vertical-align: middle;\n",
       "    }\n",
       "\n",
       "    .dataframe tbody tr th {\n",
       "        vertical-align: top;\n",
       "    }\n",
       "\n",
       "    .dataframe thead th {\n",
       "        text-align: right;\n",
       "    }\n",
       "</style>\n",
       "<table border=\"1\" class=\"dataframe\">\n",
       "  <thead>\n",
       "    <tr style=\"text-align: right;\">\n",
       "      <th></th>\n",
       "      <th>user_id</th>\n",
       "      <th>distance</th>\n",
       "      <th>duration</th>\n",
       "      <th>date</th>\n",
       "      <th>month</th>\n",
       "    </tr>\n",
       "  </thead>\n",
       "  <tbody>\n",
       "    <tr>\n",
       "      <th>0</th>\n",
       "      <td>1</td>\n",
       "      <td>4409.919140</td>\n",
       "      <td>25.599769</td>\n",
       "      <td>2021-01-01</td>\n",
       "      <td>1</td>\n",
       "    </tr>\n",
       "    <tr>\n",
       "      <th>1</th>\n",
       "      <td>1</td>\n",
       "      <td>2617.592153</td>\n",
       "      <td>15.816871</td>\n",
       "      <td>2021-01-18</td>\n",
       "      <td>1</td>\n",
       "    </tr>\n",
       "    <tr>\n",
       "      <th>2</th>\n",
       "      <td>1</td>\n",
       "      <td>754.159807</td>\n",
       "      <td>6.232113</td>\n",
       "      <td>2021-04-20</td>\n",
       "      <td>4</td>\n",
       "    </tr>\n",
       "    <tr>\n",
       "      <th>3</th>\n",
       "      <td>1</td>\n",
       "      <td>2694.783254</td>\n",
       "      <td>18.511000</td>\n",
       "      <td>2021-08-11</td>\n",
       "      <td>8</td>\n",
       "    </tr>\n",
       "    <tr>\n",
       "      <th>4</th>\n",
       "      <td>1</td>\n",
       "      <td>4028.687306</td>\n",
       "      <td>26.265803</td>\n",
       "      <td>2021-08-28</td>\n",
       "      <td>8</td>\n",
       "    </tr>\n",
       "  </tbody>\n",
       "</table>\n",
       "</div>"
      ],
      "text/plain": [
       "   user_id     distance   duration       date  month\n",
       "0        1  4409.919140  25.599769 2021-01-01      1\n",
       "1        1  2617.592153  15.816871 2021-01-18      1\n",
       "2        1   754.159807   6.232113 2021-04-20      4\n",
       "3        1  2694.783254  18.511000 2021-08-11      8\n",
       "4        1  4028.687306  26.265803 2021-08-28      8"
      ]
     },
     "execution_count": 10,
     "metadata": {},
     "output_type": "execute_result"
    }
   ],
   "source": [
    "rides_df['month'] = pd.DatetimeIndex(rides_df['date']).month\n",
    "rides_df.head()"
   ]
  },
  {
   "cell_type": "markdown",
   "id": "a7e5977e",
   "metadata": {},
   "source": [
    "Столбец добавлен. Проверим, данные за какой период у нас в распоряжении"
   ]
  },
  {
   "cell_type": "code",
   "execution_count": 11,
   "id": "ae72bfb2",
   "metadata": {},
   "outputs": [
    {
     "name": "stdout",
     "output_type": "stream",
     "text": [
      "Начальная дата: 2021-01-01 00:00:00 \n",
      "Конечная дата: 2021-12-30 00:00:00\n"
     ]
    }
   ],
   "source": [
    "print('Начальная дата:', rides_df['date'].unique().min(), '\\nКонечная дата:', rides_df['date'].unique().max())"
   ]
  },
  {
   "cell_type": "markdown",
   "id": "b9dfc6eb",
   "metadata": {},
   "source": [
    "В нашем распоряжении данные за 2021 год."
   ]
  },
  {
   "cell_type": "markdown",
   "id": "56b34b35",
   "metadata": {},
   "source": [
    "### Обработка пропущенных значений и дубликатов\n",
    "\n",
    "В ходе изучения данных (Раздел 1), был получен вывод об **отсутствии пропусков в данных**. Перейдем к устранению дубликатов.\n",
    "\n",
    "#### Обработка дубликатов `users_df`\n",
    "Начнем с `users_df`: проверим, могли ли в данных возникнуть неявные дубликаты: посмотрим на уникальные значения столбцов `'name'`"
   ]
  },
  {
   "cell_type": "code",
   "execution_count": 12,
   "id": "d9c37ac3",
   "metadata": {},
   "outputs": [
    {
     "name": "stdout",
     "output_type": "stream",
     "text": [
      "['Агата', 'Аделина', 'Адель', 'Айдар', 'Александр', 'Александра', 'Алексей', 'Алина', 'Алиса', 'Алия', 'Алла', 'Альберт', 'Альбина', 'Алёна', 'Амалия', 'Амина', 'Амир', 'Анастасия', 'Анатолий', 'Ангелина', 'Андрей', 'Анжелика', 'Анна', 'Антон', 'Антонина', 'Ариана', 'Арина', 'Арсен', 'Арсений', 'Артемий', 'Артур', 'Артём', 'Богдан', 'Борис', 'Вадим', 'Валентина', 'Валерий', 'Валерия', 'Варвара', 'Василий', 'Василина', 'Василиса', 'Вера', 'Вероника', 'Виктор', 'Виктория', 'Виолетта', 'Виталий', 'Виталина', 'Влад', 'Влада', 'Владимир', 'Владислав', 'Владислава', 'Всеволод', 'Вячеслав', 'Галина', 'Георгий', 'Герман', 'Глеб', 'Гордей', 'Григорий', 'Давид', 'Дамир', 'Даниил', 'Данил', 'Данила', 'Даниэль', 'Дарина', 'Дарья', 'Демид', 'Денис', 'Диана', 'Дмитрий', 'Ева', 'Евгений', 'Евгения', 'Егор', 'Екатерина', 'Елена', 'Елизавета', 'Елисей', 'Есения', 'Жанна', 'Зарина', 'Захар', 'Злата', 'Иван', 'Игнат', 'Игорь', 'Ильдар', 'Илья', 'Инна', 'Ирина', 'Камилла', 'Карина', 'Каролина', 'Кира', 'Кирилл', 'Константин', 'Кристина', 'Ксения', 'Лариса', 'Лев', 'Леонид', 'Лиана', 'Лидия', 'Лилия', 'Любовь', 'Людмила', 'Мадина', 'Майя', 'Макар', 'Максим', 'Марат', 'Маргарита', 'Марина', 'Мария', 'Марк', 'Марсель', 'Матвей', 'Мелания', 'Милана', 'Милена', 'Мирон', 'Мирослав', 'Мирослава', 'Михаил', 'Назар', 'Наталия', 'Наталья', 'Наташа', 'Нелли', 'Ника', 'Никита', 'Николай', 'Нина', 'Одиссей', 'Оксана', 'Олег', 'Олеся', 'Ольга', 'Павел', 'Петр', 'Платон', 'Полина', 'Радмир', 'Рамиль', 'Регина', 'Роберт', 'Родион', 'Роман', 'Ростислав', 'Руслан', 'Рустам', 'Савелий', 'Самир', 'Самира', 'Светлана', 'Святогор', 'Святослав', 'Семен', 'Сергей', 'Снежана', 'София', 'Софья', 'Станислав', 'Степан', 'Стефания', 'Таисия', 'Тамара', 'Тамерлан', 'Татьяна', 'Тимофей', 'Тимур', 'Тихон', 'Ульяна', 'Федор', 'Эвелина', 'Эдуард', 'Элина', 'Эльвира', 'Эльмира', 'Эмилия', 'Эмиль', 'Юлиана', 'Юлия', 'Юрий', 'Ян', 'Яна', 'Яромир', 'Ярослав', 'Ярослава', 'Ясмина']\n"
     ]
    }
   ],
   "source": [
    "print(sorted(users_df['name'].unique()))"
   ]
  },
  {
   "cell_type": "markdown",
   "id": "ff7b91ca",
   "metadata": {},
   "source": [
    "Обнаружены неявные дубликаты: неполная форма имени (прим. Влад, Владислав). Обработаем такие дубликаты"
   ]
  },
  {
   "cell_type": "code",
   "execution_count": 13,
   "id": "456f4bcb",
   "metadata": {},
   "outputs": [
    {
     "name": "stdout",
     "output_type": "stream",
     "text": [
      "['Агата', 'Аделина', 'Адель', 'Айдар', 'Александр', 'Александра', 'Алексей', 'Алина', 'Алиса', 'Алия', 'Алла', 'Альберт', 'Альбина', 'Алёна', 'Амалия', 'Амина', 'Амир', 'Анастасия', 'Анатолий', 'Ангелина', 'Андрей', 'Анжелика', 'Анна', 'Антон', 'Антонина', 'Ариана', 'Арина', 'Арсен', 'Арсений', 'Артемий', 'Артур', 'Артём', 'Богдан', 'Борис', 'Вадим', 'Валентина', 'Валерий', 'Валерия', 'Варвара', 'Василий', 'Василина', 'Василиса', 'Вера', 'Вероника', 'Виктор', 'Виктория', 'Виолетта', 'Виталий', 'Виталина', 'Владимир', 'Владислав', 'Владислава', 'Всеволод', 'Вячеслав', 'Галина', 'Георгий', 'Герман', 'Глеб', 'Гордей', 'Григорий', 'Давид', 'Дамир', 'Даниил', 'Данил', 'Данила', 'Даниэль', 'Дарина', 'Дарья', 'Демид', 'Денис', 'Диана', 'Дмитрий', 'Ева', 'Евгений', 'Евгения', 'Егор', 'Екатерина', 'Елена', 'Елизавета', 'Елисей', 'Есения', 'Жанна', 'Зарина', 'Захар', 'Злата', 'Иван', 'Игнат', 'Игорь', 'Ильдар', 'Илья', 'Инна', 'Ирина', 'Камилла', 'Карина', 'Каролина', 'Кира', 'Кирилл', 'Константин', 'Кристина', 'Ксения', 'Лариса', 'Лев', 'Леонид', 'Лиана', 'Лидия', 'Лилия', 'Любовь', 'Людмила', 'Мадина', 'Майя', 'Макар', 'Максим', 'Марат', 'Маргарита', 'Марина', 'Мария', 'Марк', 'Марсель', 'Матвей', 'Мелания', 'Милана', 'Милена', 'Мирон', 'Мирослав', 'Мирослава', 'Михаил', 'Назар', 'Наталия', 'Наталья', 'Наташа', 'Нелли', 'Ника', 'Никита', 'Николай', 'Нина', 'Одиссей', 'Оксана', 'Олег', 'Олеся', 'Ольга', 'Павел', 'Петр', 'Платон', 'Полина', 'Радмир', 'Рамиль', 'Регина', 'Роберт', 'Родион', 'Роман', 'Ростислав', 'Руслан', 'Рустам', 'Савелий', 'Самир', 'Самира', 'Светлана', 'Святогор', 'Святослав', 'Семен', 'Сергей', 'Снежана', 'София', 'Софья', 'Станислав', 'Степан', 'Стефания', 'Таисия', 'Тамара', 'Тамерлан', 'Татьяна', 'Тимофей', 'Тимур', 'Тихон', 'Ульяна', 'Федор', 'Эвелина', 'Эдуард', 'Элина', 'Эльвира', 'Эльмира', 'Эмилия', 'Эмиль', 'Юлиана', 'Юлия', 'Юрий', 'Ян', 'Яна', 'Яромир', 'Ярослав', 'Ярослава', 'Ясмина']\n"
     ]
    }
   ],
   "source": [
    "users_df.loc[users_df['name'] == 'Влад', 'name'] = 'Владислав'\n",
    "users_df.loc[users_df['name'] == 'Влада', 'name'] = 'Владислава'\n",
    "print(sorted(users_df['name'].unique()))"
   ]
  },
  {
   "cell_type": "markdown",
   "id": "deeac031",
   "metadata": {},
   "source": [
    "Теперь обратимся к столбцу `'city'` и выведем его уникальные значения"
   ]
  },
  {
   "cell_type": "code",
   "execution_count": 14,
   "id": "d9c44d76",
   "metadata": {},
   "outputs": [
    {
     "data": {
      "text/plain": [
       "['Екатеринбург',\n",
       " 'Краснодар',\n",
       " 'Москва',\n",
       " 'Омск',\n",
       " 'Пятигорск',\n",
       " 'Ростов-на-Дону',\n",
       " 'Сочи',\n",
       " 'Тюмень']"
      ]
     },
     "execution_count": 14,
     "metadata": {},
     "output_type": "execute_result"
    }
   ],
   "source": [
    "sorted(users_df['city'].unique())"
   ]
  },
  {
   "cell_type": "markdown",
   "id": "95696e4e",
   "metadata": {},
   "source": [
    "В столбце  `'city'` неявные дубликаты отсутствуют.\n",
    "\n",
    "Неявные дубликаты устранены."
   ]
  },
  {
   "cell_type": "code",
   "execution_count": 15,
   "id": "130f884b",
   "metadata": {},
   "outputs": [
    {
     "name": "stdout",
     "output_type": "stream",
     "text": [
      "Количество явных дубликатов users_df: 31\n"
     ]
    }
   ],
   "source": [
    "print(f'Количество явных дубликатов users_df: {users_df.duplicated().sum()}')"
   ]
  },
  {
   "cell_type": "markdown",
   "id": "02545d7e",
   "metadata": {},
   "source": [
    "Удалим явные дубликаты"
   ]
  },
  {
   "cell_type": "code",
   "execution_count": 16,
   "id": "a56b632f",
   "metadata": {},
   "outputs": [
    {
     "name": "stdout",
     "output_type": "stream",
     "text": [
      "Количество явных дубликатов users_df: 0\n"
     ]
    }
   ],
   "source": [
    "users_df = users_df.drop_duplicates()\n",
    "print(f'Количество явных дубликатов users_df: {users_df.duplicated().sum()}')"
   ]
  },
  {
   "cell_type": "markdown",
   "id": "ef128f3c",
   "metadata": {},
   "source": [
    "Все дубликаты `users_df` устранены."
   ]
  },
  {
   "cell_type": "markdown",
   "id": "d1a3f2b2",
   "metadata": {},
   "source": [
    "#### Обработка дубликатов `rides_df`\n",
    "\n",
    "В данных не может быть неявных дубликатов, поэтому перейдем сразу к подсчету явных дубликатов"
   ]
  },
  {
   "cell_type": "code",
   "execution_count": 17,
   "id": "33ab9444",
   "metadata": {},
   "outputs": [
    {
     "name": "stdout",
     "output_type": "stream",
     "text": [
      "Количество явных дубликатов rides_df: 0\n"
     ]
    }
   ],
   "source": [
    "print(f'Количество явных дубликатов rides_df: {rides_df.duplicated().sum()}')"
   ]
  },
  {
   "cell_type": "markdown",
   "id": "7001993f",
   "metadata": {},
   "source": [
    "Дубликаты отсутствуют"
   ]
  },
  {
   "cell_type": "markdown",
   "id": "78b50aba",
   "metadata": {},
   "source": [
    "#### Обработка дубликатов `subscriptions_df`\n",
    "\n",
    "В датафрейме `subscriptions_df` всего 2 строки, и они не являются дубликатами, поэтому не имеет смысла проводить доплнительные проверки."
   ]
  },
  {
   "cell_type": "markdown",
   "id": "1e75945d",
   "metadata": {},
   "source": [
    "**Вывод:** Все дубликаты в данных устранены."
   ]
  },
  {
   "cell_type": "markdown",
   "id": "71b6edc7",
   "metadata": {},
   "source": [
    "**Общий вывод по Предобработке данных:**\n",
    "- Дубликаты в данных отсутствуют\n",
    "- Тип данных колонки с датой изменен на `datetime` pandas\n",
    "- Добавлен вспомогательный столбец `'month'` для дальнейшей группировки\n",
    "- Обработаны неявные дубликаты\n",
    "- Все дубликаты устранены"
   ]
  },
  {
   "cell_type": "markdown",
   "id": "5d3e315f",
   "metadata": {},
   "source": [
    "## Исследовательский анализ данных"
   ]
  },
  {
   "cell_type": "markdown",
   "id": "13de96c1",
   "metadata": {},
   "source": [
    "В текущем разделе будет описана и визуализирована общая информация о пользователях и поездках:\n",
    "\n",
    "**3.1** частота встречаемости городов;\n",
    "\n",
    "**3.2** соотношение пользователей с подпиской и без подписки;\n",
    "\n",
    "**3.3** возраст пользователей;\n",
    "\n",
    "**3.4** расстояние, которое пользователь преодолел за одну поездку;\n",
    "\n",
    "**3.5** продолжительность поездок."
   ]
  },
  {
   "cell_type": "markdown",
   "id": "b739b6d6",
   "metadata": {},
   "source": [
    "### Исследование частоты встречаемости городов\n",
    "\n",
    "Сгруппируем данные о поездках по городам, результат сохраним в виде сводной таблицы, выведем ее на экран"
   ]
  },
  {
   "cell_type": "code",
   "execution_count": 18,
   "id": "ba682edc",
   "metadata": {},
   "outputs": [
    {
     "data": {
      "text/html": [
       "<div>\n",
       "<style scoped>\n",
       "    .dataframe tbody tr th:only-of-type {\n",
       "        vertical-align: middle;\n",
       "    }\n",
       "\n",
       "    .dataframe tbody tr th {\n",
       "        vertical-align: top;\n",
       "    }\n",
       "\n",
       "    .dataframe thead th {\n",
       "        text-align: right;\n",
       "    }\n",
       "</style>\n",
       "<table border=\"1\" class=\"dataframe\">\n",
       "  <thead>\n",
       "    <tr style=\"text-align: right;\">\n",
       "      <th></th>\n",
       "      <th>city</th>\n",
       "      <th>amount</th>\n",
       "    </tr>\n",
       "  </thead>\n",
       "  <tbody>\n",
       "    <tr>\n",
       "      <th>0</th>\n",
       "      <td>Пятигорск</td>\n",
       "      <td>219</td>\n",
       "    </tr>\n",
       "    <tr>\n",
       "      <th>1</th>\n",
       "      <td>Екатеринбург</td>\n",
       "      <td>204</td>\n",
       "    </tr>\n",
       "    <tr>\n",
       "      <th>2</th>\n",
       "      <td>Ростов-на-Дону</td>\n",
       "      <td>198</td>\n",
       "    </tr>\n",
       "    <tr>\n",
       "      <th>3</th>\n",
       "      <td>Краснодар</td>\n",
       "      <td>193</td>\n",
       "    </tr>\n",
       "    <tr>\n",
       "      <th>4</th>\n",
       "      <td>Сочи</td>\n",
       "      <td>189</td>\n",
       "    </tr>\n",
       "    <tr>\n",
       "      <th>5</th>\n",
       "      <td>Омск</td>\n",
       "      <td>183</td>\n",
       "    </tr>\n",
       "    <tr>\n",
       "      <th>6</th>\n",
       "      <td>Тюмень</td>\n",
       "      <td>180</td>\n",
       "    </tr>\n",
       "    <tr>\n",
       "      <th>7</th>\n",
       "      <td>Москва</td>\n",
       "      <td>168</td>\n",
       "    </tr>\n",
       "  </tbody>\n",
       "</table>\n",
       "</div>"
      ],
      "text/plain": [
       "             city  amount\n",
       "0       Пятигорск     219\n",
       "1    Екатеринбург     204\n",
       "2  Ростов-на-Дону     198\n",
       "3       Краснодар     193\n",
       "4            Сочи     189\n",
       "5            Омск     183\n",
       "6          Тюмень     180\n",
       "7          Москва     168"
      ]
     },
     "execution_count": 18,
     "metadata": {},
     "output_type": "execute_result"
    }
   ],
   "source": [
    "city_frequency_pivot = (users_df.pivot_table(index='city', values='user_id', aggfunc='count')\n",
    "                        .rename(columns={'user_id': 'amount'})\n",
    "                        .sort_values(by='amount', ascending=False)\n",
    "                        .reset_index()) \n",
    "city_frequency_pivot"
   ]
  },
  {
   "cell_type": "markdown",
   "id": "275e0da7",
   "metadata": {},
   "source": [
    "Визуализируем полученные данные с помощью столбчатой диаграммы"
   ]
  },
  {
   "cell_type": "code",
   "execution_count": 19,
   "id": "db96f563",
   "metadata": {},
   "outputs": [
    {
     "data": {
      "image/png": "[encoded data removed]",
      "text/plain": [
       "<Figure size 640x480 with 1 Axes>"
      ]
     },
     "metadata": {},
     "output_type": "display_data"
    }
   ],
   "source": [
    "city_frequency_pivot.sort_values(by='amount', ascending=False).plot(kind='barh', y='amount', x='city', legend=False)\n",
    "plt.title('Частота встречаемости городов')\n",
    "plt.xlabel('Количество пользователей')\n",
    "plt.ylabel('Город')\n",
    "plt.show()"
   ]
  },
  {
   "cell_type": "markdown",
   "id": "4a587bd7",
   "metadata": {},
   "source": [
    "**Вывод:** \n",
    "- Наибольшее количество пользователей - из Пятигорска, их 219. Далее следует Екатеринбург с показателем 204 пользователя.\n",
    "- Наименьшее количество пользователей - из Москвы, их 168."
   ]
  },
  {
   "cell_type": "markdown",
   "id": "2bbeef35",
   "metadata": {},
   "source": [
    "### Исследование соотношения пользователей с подпиской и без подписки\n",
    "\n",
    "Сгруппируем данные датафрейма о пользователях по типам подписки и найдем количество пользователей с подписками `ultra` и `free`, а также их долю от общего количества. Результат сохраним в сводную таблицу. Визуализируем данные с помощью круговой диаграммы."
   ]
  },
  {
   "cell_type": "code",
   "execution_count": 20,
   "id": "0f89d7f0",
   "metadata": {},
   "outputs": [
    {
     "data": {
      "text/html": [
       "<div>\n",
       "<style scoped>\n",
       "    .dataframe tbody tr th:only-of-type {\n",
       "        vertical-align: middle;\n",
       "    }\n",
       "\n",
       "    .dataframe tbody tr th {\n",
       "        vertical-align: top;\n",
       "    }\n",
       "\n",
       "    .dataframe thead th {\n",
       "        text-align: right;\n",
       "    }\n",
       "</style>\n",
       "<table border=\"1\" class=\"dataframe\">\n",
       "  <thead>\n",
       "    <tr style=\"text-align: right;\">\n",
       "      <th></th>\n",
       "      <th>subscription_type</th>\n",
       "      <th>amount</th>\n",
       "      <th>share</th>\n",
       "    </tr>\n",
       "  </thead>\n",
       "  <tbody>\n",
       "    <tr>\n",
       "      <th>0</th>\n",
       "      <td>free</td>\n",
       "      <td>835</td>\n",
       "      <td>0.54</td>\n",
       "    </tr>\n",
       "    <tr>\n",
       "      <th>1</th>\n",
       "      <td>ultra</td>\n",
       "      <td>699</td>\n",
       "      <td>0.46</td>\n",
       "    </tr>\n",
       "  </tbody>\n",
       "</table>\n",
       "</div>"
      ],
      "text/plain": [
       "  subscription_type  amount  share\n",
       "0              free     835   0.54\n",
       "1             ultra     699   0.46"
      ]
     },
     "execution_count": 20,
     "metadata": {},
     "output_type": "execute_result"
    }
   ],
   "source": [
    "subscription_pivot = (users_df.pivot_table(index='subscription_type', values='user_id', aggfunc='count')\n",
    "                      .reset_index()\n",
    "                      .rename(columns={'user_id': 'amount'}))\n",
    "subscription_pivot['share'] = round((subscription_pivot['amount'] / subscription_pivot['amount'].sum()), 2)\n",
    "subscription_pivot"
   ]
  },
  {
   "cell_type": "code",
   "execution_count": 21,
   "id": "8ebf628c",
   "metadata": {},
   "outputs": [
    {
     "data": {
      "image/png": "[encoded data removed]",
      "text/plain": [
       "<Figure size 640x480 with 1 Axes>"
      ]
     },
     "metadata": {},
     "output_type": "display_data"
    }
   ],
   "source": [
    "subscription_pivot.plot(kind='pie', y='amount', labels=['без подписки', 'с подпиской'], legend=False, autopct='%1.0f%%')\n",
    "plt.title('Доли пользователей с подпиской и без')\n",
    "plt.ylabel('')\n",
    "plt.show()"
   ]
  },
  {
   "cell_type": "markdown",
   "id": "d637dc8d",
   "metadata": {},
   "source": [
    "**Вывод:** 835 пользователей (54%) не пользуются платной подпиской, а 699 (46%) пользуются."
   ]
  },
  {
   "cell_type": "markdown",
   "id": "9d0216e9",
   "metadata": {},
   "source": [
    "### Исследование возраста пользователей\n",
    "\n",
    "Сгруппируем данные датафрейма о пользователях по возрасту и найдем их долю от общего количества. Результат сохраним в сводную таблицу. Визуализируем данные с помощью столбчатой диаграммы."
   ]
  },
  {
   "cell_type": "code",
   "execution_count": 22,
   "id": "639ca445",
   "metadata": {},
   "outputs": [
    {
     "data": {
      "image/png": "[encoded data removed]",
      "text/plain": [
       "<Figure size 1000x500 with 1 Axes>"
      ]
     },
     "metadata": {},
     "output_type": "display_data"
    }
   ],
   "source": [
    "age_pivot = (users_df.pivot_table(index='age', values='user_id', aggfunc='count')\n",
    "                      .reset_index()\n",
    "                      .rename(columns={'user_id': 'amount'}))\n",
    "age_pivot['share'] = round(age_pivot['amount'] / age_pivot['amount'].sum(), 2)\n",
    "age_pivot.plot(kind='bar', y='amount', x='age', grid=True, figsize=(10, 5), legend=False)\n",
    "plt.title('Распределение возрастов пользователей')\n",
    "plt.xlabel('Возраст')\n",
    "plt.xticks(rotation=0)\n",
    "plt.show()"
   ]
  },
  {
   "cell_type": "markdown",
   "id": "09c5756b",
   "metadata": {},
   "source": [
    "Выведем 10 строк с данными о самых частых возрастах"
   ]
  },
  {
   "cell_type": "code",
   "execution_count": 23,
   "id": "a13fec73",
   "metadata": {},
   "outputs": [
    {
     "data": {
      "text/html": [
       "<div>\n",
       "<style scoped>\n",
       "    .dataframe tbody tr th:only-of-type {\n",
       "        vertical-align: middle;\n",
       "    }\n",
       "\n",
       "    .dataframe tbody tr th {\n",
       "        vertical-align: top;\n",
       "    }\n",
       "\n",
       "    .dataframe thead th {\n",
       "        text-align: right;\n",
       "    }\n",
       "</style>\n",
       "<table border=\"1\" class=\"dataframe\">\n",
       "  <thead>\n",
       "    <tr style=\"text-align: right;\">\n",
       "      <th></th>\n",
       "      <th>age</th>\n",
       "      <th>amount</th>\n",
       "      <th>share</th>\n",
       "    </tr>\n",
       "  </thead>\n",
       "  <tbody>\n",
       "    <tr>\n",
       "      <th>13</th>\n",
       "      <td>25</td>\n",
       "      <td>145</td>\n",
       "      <td>0.09</td>\n",
       "    </tr>\n",
       "    <tr>\n",
       "      <th>12</th>\n",
       "      <td>24</td>\n",
       "      <td>132</td>\n",
       "      <td>0.09</td>\n",
       "    </tr>\n",
       "    <tr>\n",
       "      <th>14</th>\n",
       "      <td>26</td>\n",
       "      <td>131</td>\n",
       "      <td>0.09</td>\n",
       "    </tr>\n",
       "    <tr>\n",
       "      <th>11</th>\n",
       "      <td>23</td>\n",
       "      <td>129</td>\n",
       "      <td>0.08</td>\n",
       "    </tr>\n",
       "    <tr>\n",
       "      <th>15</th>\n",
       "      <td>27</td>\n",
       "      <td>119</td>\n",
       "      <td>0.08</td>\n",
       "    </tr>\n",
       "    <tr>\n",
       "      <th>10</th>\n",
       "      <td>22</td>\n",
       "      <td>119</td>\n",
       "      <td>0.08</td>\n",
       "    </tr>\n",
       "    <tr>\n",
       "      <th>16</th>\n",
       "      <td>28</td>\n",
       "      <td>112</td>\n",
       "      <td>0.07</td>\n",
       "    </tr>\n",
       "    <tr>\n",
       "      <th>9</th>\n",
       "      <td>21</td>\n",
       "      <td>93</td>\n",
       "      <td>0.06</td>\n",
       "    </tr>\n",
       "    <tr>\n",
       "      <th>8</th>\n",
       "      <td>20</td>\n",
       "      <td>71</td>\n",
       "      <td>0.05</td>\n",
       "    </tr>\n",
       "    <tr>\n",
       "      <th>18</th>\n",
       "      <td>30</td>\n",
       "      <td>68</td>\n",
       "      <td>0.04</td>\n",
       "    </tr>\n",
       "  </tbody>\n",
       "</table>\n",
       "</div>"
      ],
      "text/plain": [
       "    age  amount  share\n",
       "13   25     145   0.09\n",
       "12   24     132   0.09\n",
       "14   26     131   0.09\n",
       "11   23     129   0.08\n",
       "15   27     119   0.08\n",
       "10   22     119   0.08\n",
       "16   28     112   0.07\n",
       "9    21      93   0.06\n",
       "8    20      71   0.05\n",
       "18   30      68   0.04"
      ]
     },
     "execution_count": 23,
     "metadata": {},
     "output_type": "execute_result"
    }
   ],
   "source": [
    "age_pivot.sort_values(by='amount', ascending=False).head(10)"
   ]
  },
  {
   "cell_type": "markdown",
   "id": "5d0dcc14",
   "metadata": {},
   "source": [
    "Выведем общее описание полученных данных"
   ]
  },
  {
   "cell_type": "code",
   "execution_count": 24,
   "id": "35b6d6db",
   "metadata": {},
   "outputs": [
    {
     "data": {
      "text/plain": [
       "count    29.000000\n",
       "mean     26.103448\n",
       "std       8.706914\n",
       "min      12.000000\n",
       "25%      19.000000\n",
       "50%      26.000000\n",
       "75%      33.000000\n",
       "max      43.000000\n",
       "Name: age, dtype: float64"
      ]
     },
     "execution_count": 24,
     "metadata": {},
     "output_type": "execute_result"
    }
   ],
   "source": [
    "age_pivot['age'].describe()"
   ]
  },
  {
   "cell_type": "markdown",
   "id": "e2b4099e",
   "metadata": {},
   "source": [
    "**Вывод**:\n",
    "- Распредедение возрастов пользователей близко к нормальному распределению со **средним 26 лет**, **стандартным отклонением 8.7**.\n",
    "- Аномалии в данных отсутствуют."
   ]
  },
  {
   "cell_type": "markdown",
   "id": "ad78a545",
   "metadata": {},
   "source": [
    "### Исследование расстояния, пройденного в ходе поездок\n",
    "\n",
    "Изучим данные о расстоянии, которое проезжают пользователи во время своих поездок. Для этого нам понадобится построить гистограмму столбца `'distance'` датафрейма `rides_df`, так как расстояние - непрерывная величина"
   ]
  },
  {
   "cell_type": "code",
   "execution_count": 25,
   "id": "e9908933",
   "metadata": {},
   "outputs": [
    {
     "data": {
      "image/png": "[encoded data removed]",
      "text/plain": [
       "<Figure size 640x480 with 1 Axes>"
      ]
     },
     "metadata": {},
     "output_type": "display_data"
    }
   ],
   "source": [
    "rides_df.plot(kind='hist', y='distance', bins=30, legend=False)\n",
    "plt.title('Расстояние, пройденное в поездках')\n",
    "plt.xlabel('Расстояние в метрах')\n",
    "plt.ylabel('Количество поездок')\n",
    "plt.show()"
   ]
  },
  {
   "cell_type": "markdown",
   "id": "bffb7049",
   "metadata": {},
   "source": [
    "Выведем также общее описание данных"
   ]
  },
  {
   "cell_type": "code",
   "execution_count": 26,
   "id": "e7c0d64c",
   "metadata": {},
   "outputs": [
    {
     "data": {
      "text/plain": [
       "count    18068.000000\n",
       "mean      3070.659976\n",
       "std       1116.831209\n",
       "min          0.855683\n",
       "25%       2543.226360\n",
       "50%       3133.609994\n",
       "75%       3776.222735\n",
       "max       7211.007745\n",
       "Name: distance, dtype: float64"
      ]
     },
     "execution_count": 26,
     "metadata": {},
     "output_type": "execute_result"
    }
   ],
   "source": [
    "rides_df['distance'].describe()"
   ]
  },
  {
   "cell_type": "markdown",
   "id": "0787521d",
   "metadata": {},
   "source": [
    "**Вывод:**\n",
    "\n",
    "- Пользователи сервиса в среднем проезжают **около 3070 метров**, это значение близко и к **медиане (3133 метра)** и к **среднему значению по выборке (3070 метров)**\n",
    "- Обычно пользователь проезжают 3776 метров или меньше (в 75% случаев)\n",
    "- Необычно долгие поездки - более 6500 метров, но они не выглядят аномально и не противоречат общей картине\n",
    "- На гистограмме присутствует локальный пик в районе 500 метров, его существование может быть связано с тем, что у пользователей могут быть разные цели поездки: *доехать из точки А в точку В* или *покататься на маленькой дистанции*"
   ]
  },
  {
   "cell_type": "markdown",
   "id": "f08d4586",
   "metadata": {},
   "source": [
    "### Исследование длительности поездок\n",
    "\n",
    "Изучим данные о расстоянии, которое проезжают пользователи во время своих поездок. Для этого нам понадобится построить гистограмму столбца `'duration'` датафрейма `rides_df`, так как длительность поездок - непрерывная величина"
   ]
  },
  {
   "cell_type": "code",
   "execution_count": 27,
   "id": "e6a10ca8",
   "metadata": {},
   "outputs": [
    {
     "data": {
      "image/png": "[encoded data removed]",
      "text/plain": [
       "<Figure size 640x480 with 1 Axes>"
      ]
     },
     "metadata": {},
     "output_type": "display_data"
    }
   ],
   "source": [
    "rides_df.plot(kind='hist', bins=50, y='duration', grid=True, legend=False)\n",
    "plt.title('Длительность поездок')\n",
    "plt.xlabel('Длительность поездки в минутах')\n",
    "plt.ylabel('Количество поездок')\n",
    "plt.show()"
   ]
  },
  {
   "cell_type": "markdown",
   "id": "590aaaa5",
   "metadata": {},
   "source": [
    "Распределение напоминает нормальное, но есть небольшой пик в районе 1 минуты. Изучим его более детально"
   ]
  },
  {
   "cell_type": "code",
   "execution_count": 28,
   "id": "d172993c",
   "metadata": {},
   "outputs": [
    {
     "data": {
      "text/html": [
       "<div>\n",
       "<style scoped>\n",
       "    .dataframe tbody tr th:only-of-type {\n",
       "        vertical-align: middle;\n",
       "    }\n",
       "\n",
       "    .dataframe tbody tr th {\n",
       "        vertical-align: top;\n",
       "    }\n",
       "\n",
       "    .dataframe thead th {\n",
       "        text-align: right;\n",
       "    }\n",
       "</style>\n",
       "<table border=\"1\" class=\"dataframe\">\n",
       "  <thead>\n",
       "    <tr style=\"text-align: right;\">\n",
       "      <th></th>\n",
       "      <th>user_id</th>\n",
       "      <th>distance</th>\n",
       "      <th>duration</th>\n",
       "      <th>date</th>\n",
       "      <th>month</th>\n",
       "    </tr>\n",
       "  </thead>\n",
       "  <tbody>\n",
       "    <tr>\n",
       "      <th>6531</th>\n",
       "      <td>701</td>\n",
       "      <td>4196.445201</td>\n",
       "      <td>0.5</td>\n",
       "      <td>2021-08-31</td>\n",
       "      <td>8</td>\n",
       "    </tr>\n",
       "    <tr>\n",
       "      <th>6570</th>\n",
       "      <td>704</td>\n",
       "      <td>4830.824371</td>\n",
       "      <td>0.5</td>\n",
       "      <td>2021-10-14</td>\n",
       "      <td>10</td>\n",
       "    </tr>\n",
       "    <tr>\n",
       "      <th>6680</th>\n",
       "      <td>712</td>\n",
       "      <td>4684.004397</td>\n",
       "      <td>0.5</td>\n",
       "      <td>2021-03-04</td>\n",
       "      <td>3</td>\n",
       "    </tr>\n",
       "    <tr>\n",
       "      <th>6695</th>\n",
       "      <td>713</td>\n",
       "      <td>5215.642710</td>\n",
       "      <td>0.5</td>\n",
       "      <td>2021-02-25</td>\n",
       "      <td>2</td>\n",
       "    </tr>\n",
       "    <tr>\n",
       "      <th>6768</th>\n",
       "      <td>718</td>\n",
       "      <td>5197.436649</td>\n",
       "      <td>0.5</td>\n",
       "      <td>2021-02-11</td>\n",
       "      <td>2</td>\n",
       "    </tr>\n",
       "    <tr>\n",
       "      <th>...</th>\n",
       "      <td>...</td>\n",
       "      <td>...</td>\n",
       "      <td>...</td>\n",
       "      <td>...</td>\n",
       "      <td>...</td>\n",
       "    </tr>\n",
       "    <tr>\n",
       "      <th>17004</th>\n",
       "      <td>1460</td>\n",
       "      <td>5531.335845</td>\n",
       "      <td>0.5</td>\n",
       "      <td>2021-01-19</td>\n",
       "      <td>1</td>\n",
       "    </tr>\n",
       "    <tr>\n",
       "      <th>17242</th>\n",
       "      <td>1477</td>\n",
       "      <td>6724.932981</td>\n",
       "      <td>0.5</td>\n",
       "      <td>2021-01-12</td>\n",
       "      <td>1</td>\n",
       "    </tr>\n",
       "    <tr>\n",
       "      <th>17314</th>\n",
       "      <td>1483</td>\n",
       "      <td>4445.481070</td>\n",
       "      <td>0.5</td>\n",
       "      <td>2021-03-06</td>\n",
       "      <td>3</td>\n",
       "    </tr>\n",
       "    <tr>\n",
       "      <th>17505</th>\n",
       "      <td>1496</td>\n",
       "      <td>5722.551787</td>\n",
       "      <td>0.5</td>\n",
       "      <td>2021-02-14</td>\n",
       "      <td>2</td>\n",
       "    </tr>\n",
       "    <tr>\n",
       "      <th>17909</th>\n",
       "      <td>1524</td>\n",
       "      <td>4103.998874</td>\n",
       "      <td>0.5</td>\n",
       "      <td>2021-06-18</td>\n",
       "      <td>6</td>\n",
       "    </tr>\n",
       "  </tbody>\n",
       "</table>\n",
       "<p>95 rows × 5 columns</p>\n",
       "</div>"
      ],
      "text/plain": [
       "       user_id     distance  duration       date  month\n",
       "6531       701  4196.445201       0.5 2021-08-31      8\n",
       "6570       704  4830.824371       0.5 2021-10-14     10\n",
       "6680       712  4684.004397       0.5 2021-03-04      3\n",
       "6695       713  5215.642710       0.5 2021-02-25      2\n",
       "6768       718  5197.436649       0.5 2021-02-11      2\n",
       "...        ...          ...       ...        ...    ...\n",
       "17004     1460  5531.335845       0.5 2021-01-19      1\n",
       "17242     1477  6724.932981       0.5 2021-01-12      1\n",
       "17314     1483  4445.481070       0.5 2021-03-06      3\n",
       "17505     1496  5722.551787       0.5 2021-02-14      2\n",
       "17909     1524  4103.998874       0.5 2021-06-18      6\n",
       "\n",
       "[95 rows x 5 columns]"
      ]
     },
     "execution_count": 28,
     "metadata": {},
     "output_type": "execute_result"
    }
   ],
   "source": [
    "rides_df.loc[rides_df['duration'] <= 1]"
   ]
  },
  {
   "cell_type": "markdown",
   "id": "1bfe1355",
   "metadata": {},
   "source": [
    "За 30 секунд проехать 4 и более километра на самокате - физически невозможно, поэтому считаем данные аномальными. Найдем их долю среди всех данных"
   ]
  },
  {
   "cell_type": "code",
   "execution_count": 29,
   "id": "758ba2a0",
   "metadata": {},
   "outputs": [
    {
     "name": "stdout",
     "output_type": "stream",
     "text": [
      "Доля аномальных значений 0.53%\n"
     ]
    }
   ],
   "source": [
    "print(f'Доля аномальных значений {(len(rides_df.loc[rides_df[\"duration\"] <= 1]) / len(rides_df[\"duration\"])):.2%}')"
   ]
  },
  {
   "cell_type": "markdown",
   "id": "1f3ae8d7",
   "metadata": {},
   "source": [
    "Аномалии занимают очень маленький процент от данных, отбросим их, чтобы не учитывать в результатах исследования"
   ]
  },
  {
   "cell_type": "code",
   "execution_count": 30,
   "id": "c7bbc10a",
   "metadata": {},
   "outputs": [
    {
     "name": "stdout",
     "output_type": "stream",
     "text": [
      "Доля аномальных значений 0.00%\n"
     ]
    }
   ],
   "source": [
    "rides_df = rides_df.loc[rides_df[\"duration\"] > 1]\n",
    "print(f'Доля аномальных значений {(len(rides_df.loc[rides_df[\"duration\"] <= 1]) / len(rides_df[\"duration\"])):.2%}')"
   ]
  },
  {
   "cell_type": "code",
   "execution_count": 31,
   "id": "597074b0",
   "metadata": {},
   "outputs": [
    {
     "data": {
      "image/png": "[encoded data removed]",
      "text/plain": [
       "<Figure size 640x480 with 1 Axes>"
      ]
     },
     "metadata": {},
     "output_type": "display_data"
    }
   ],
   "source": [
    "rides_df.plot(kind='hist', bins=50, y='duration', grid=True, legend=False)\n",
    "plt.title('Длительность поездок')\n",
    "plt.xlabel('Длительность поездок в минутах')\n",
    "plt.ylabel('Количество поездок')\n",
    "plt.show()"
   ]
  },
  {
   "cell_type": "markdown",
   "id": "fd86848a",
   "metadata": {},
   "source": [
    "Аномалия устранена, теперь распределение ближе к нормальному."
   ]
  },
  {
   "cell_type": "code",
   "execution_count": 32,
   "id": "353dd248",
   "metadata": {},
   "outputs": [
    {
     "data": {
      "text/plain": [
       "count    17973.000000\n",
       "mean        17.896480\n",
       "std          5.975424\n",
       "min          2.035632\n",
       "25%         13.670439\n",
       "50%         17.714122\n",
       "75%         21.747016\n",
       "max         40.823963\n",
       "Name: duration, dtype: float64"
      ]
     },
     "execution_count": 32,
     "metadata": {},
     "output_type": "execute_result"
    }
   ],
   "source": [
    "rides_df['duration'].describe()"
   ]
  },
  {
   "cell_type": "markdown",
   "id": "e789e180",
   "metadata": {},
   "source": [
    "**Вывод:** \n",
    "- Распредедение длительности поездок близко к нормальному распределению со **средним 17 минут**, **стандартным отклонением почти 6 минут**. Медиана составляет также 17 минут.\n",
    "- Аномалии в данных отсутствуют."
   ]
  },
  {
   "cell_type": "markdown",
   "id": "64b490e7",
   "metadata": {},
   "source": [
    "## Объединение данных и визуализация\n",
    "\n",
    "### Объединение данных\n",
    "Объединим данные о пользователях, поездках и подписках в один датафрейм. Для начала выведем количество строк датафрейма, к которому будем присоединять колонки"
   ]
  },
  {
   "cell_type": "code",
   "execution_count": 33,
   "id": "21c51439",
   "metadata": {},
   "outputs": [
    {
     "name": "stdout",
     "output_type": "stream",
     "text": [
      "17973\n"
     ]
    }
   ],
   "source": [
    "print(rides_df.shape[0])"
   ]
  },
  {
   "cell_type": "markdown",
   "id": "8c75c7ac",
   "metadata": {},
   "source": [
    "Теперь объединим датафреймы и выведем первые 5 строк получившегося датафрейма"
   ]
  },
  {
   "cell_type": "code",
   "execution_count": 34,
   "id": "1c039c6c",
   "metadata": {},
   "outputs": [
    {
     "data": {
      "text/html": [
       "<div>\n",
       "<style scoped>\n",
       "    .dataframe tbody tr th:only-of-type {\n",
       "        vertical-align: middle;\n",
       "    }\n",
       "\n",
       "    .dataframe tbody tr th {\n",
       "        vertical-align: top;\n",
       "    }\n",
       "\n",
       "    .dataframe thead th {\n",
       "        text-align: right;\n",
       "    }\n",
       "</style>\n",
       "<table border=\"1\" class=\"dataframe\">\n",
       "  <thead>\n",
       "    <tr style=\"text-align: right;\">\n",
       "      <th></th>\n",
       "      <th>user_id</th>\n",
       "      <th>distance</th>\n",
       "      <th>duration</th>\n",
       "      <th>date</th>\n",
       "      <th>month</th>\n",
       "      <th>name</th>\n",
       "      <th>age</th>\n",
       "      <th>city</th>\n",
       "      <th>subscription_type</th>\n",
       "      <th>minute_price</th>\n",
       "      <th>start_ride_price</th>\n",
       "      <th>subscription_fee</th>\n",
       "    </tr>\n",
       "  </thead>\n",
       "  <tbody>\n",
       "    <tr>\n",
       "      <th>0</th>\n",
       "      <td>1</td>\n",
       "      <td>4409.919140</td>\n",
       "      <td>25.599769</td>\n",
       "      <td>2021-01-01</td>\n",
       "      <td>1</td>\n",
       "      <td>Кира</td>\n",
       "      <td>22</td>\n",
       "      <td>Тюмень</td>\n",
       "      <td>ultra</td>\n",
       "      <td>6</td>\n",
       "      <td>0</td>\n",
       "      <td>199</td>\n",
       "    </tr>\n",
       "    <tr>\n",
       "      <th>1</th>\n",
       "      <td>1</td>\n",
       "      <td>2617.592153</td>\n",
       "      <td>15.816871</td>\n",
       "      <td>2021-01-18</td>\n",
       "      <td>1</td>\n",
       "      <td>Кира</td>\n",
       "      <td>22</td>\n",
       "      <td>Тюмень</td>\n",
       "      <td>ultra</td>\n",
       "      <td>6</td>\n",
       "      <td>0</td>\n",
       "      <td>199</td>\n",
       "    </tr>\n",
       "    <tr>\n",
       "      <th>2</th>\n",
       "      <td>1</td>\n",
       "      <td>754.159807</td>\n",
       "      <td>6.232113</td>\n",
       "      <td>2021-04-20</td>\n",
       "      <td>4</td>\n",
       "      <td>Кира</td>\n",
       "      <td>22</td>\n",
       "      <td>Тюмень</td>\n",
       "      <td>ultra</td>\n",
       "      <td>6</td>\n",
       "      <td>0</td>\n",
       "      <td>199</td>\n",
       "    </tr>\n",
       "    <tr>\n",
       "      <th>3</th>\n",
       "      <td>1</td>\n",
       "      <td>2694.783254</td>\n",
       "      <td>18.511000</td>\n",
       "      <td>2021-08-11</td>\n",
       "      <td>8</td>\n",
       "      <td>Кира</td>\n",
       "      <td>22</td>\n",
       "      <td>Тюмень</td>\n",
       "      <td>ultra</td>\n",
       "      <td>6</td>\n",
       "      <td>0</td>\n",
       "      <td>199</td>\n",
       "    </tr>\n",
       "    <tr>\n",
       "      <th>4</th>\n",
       "      <td>1</td>\n",
       "      <td>4028.687306</td>\n",
       "      <td>26.265803</td>\n",
       "      <td>2021-08-28</td>\n",
       "      <td>8</td>\n",
       "      <td>Кира</td>\n",
       "      <td>22</td>\n",
       "      <td>Тюмень</td>\n",
       "      <td>ultra</td>\n",
       "      <td>6</td>\n",
       "      <td>0</td>\n",
       "      <td>199</td>\n",
       "    </tr>\n",
       "  </tbody>\n",
       "</table>\n",
       "</div>"
      ],
      "text/plain": [
       "   user_id     distance   duration       date  month  name  age    city  \\\n",
       "0        1  4409.919140  25.599769 2021-01-01      1  Кира   22  Тюмень   \n",
       "1        1  2617.592153  15.816871 2021-01-18      1  Кира   22  Тюмень   \n",
       "2        1   754.159807   6.232113 2021-04-20      4  Кира   22  Тюмень   \n",
       "3        1  2694.783254  18.511000 2021-08-11      8  Кира   22  Тюмень   \n",
       "4        1  4028.687306  26.265803 2021-08-28      8  Кира   22  Тюмень   \n",
       "\n",
       "  subscription_type  minute_price  start_ride_price  subscription_fee  \n",
       "0             ultra             6                 0               199  \n",
       "1             ultra             6                 0               199  \n",
       "2             ultra             6                 0               199  \n",
       "3             ultra             6                 0               199  \n",
       "4             ultra             6                 0               199  "
      ]
     },
     "execution_count": 34,
     "metadata": {},
     "output_type": "execute_result"
    }
   ],
   "source": [
    "data_general = rides_df.merge(users_df, how='left', on='user_id')\n",
    "data_general = data_general.merge(subscriptions_df, how='left', on='subscription_type')\n",
    "data_general.head()"
   ]
  },
  {
   "cell_type": "markdown",
   "id": "4dc26e6a",
   "metadata": {},
   "source": [
    "Теперь выведем общую информацию о получившемся датафрейме, чтобы убедиться в отсутствии пропусков и в том, что не добавлено лишних строк"
   ]
  },
  {
   "cell_type": "code",
   "execution_count": 35,
   "id": "865af05d",
   "metadata": {},
   "outputs": [
    {
     "name": "stdout",
     "output_type": "stream",
     "text": [
      "<class 'pandas.core.frame.DataFrame'>\n",
      "RangeIndex: 17973 entries, 0 to 17972\n",
      "Data columns (total 12 columns):\n",
      " #   Column             Non-Null Count  Dtype         \n",
      "---  ------             --------------  -----         \n",
      " 0   user_id            17973 non-null  int64         \n",
      " 1   distance           17973 non-null  float64       \n",
      " 2   duration           17973 non-null  float64       \n",
      " 3   date               17973 non-null  datetime64[ns]\n",
      " 4   month              17973 non-null  int32         \n",
      " 5   name               17973 non-null  object        \n",
      " 6   age                17973 non-null  int64         \n",
      " 7   city               17973 non-null  object        \n",
      " 8   subscription_type  17973 non-null  object        \n",
      " 9   minute_price       17973 non-null  int64         \n",
      " 10  start_ride_price   17973 non-null  int64         \n",
      " 11  subscription_fee   17973 non-null  int64         \n",
      "dtypes: datetime64[ns](1), float64(2), int32(1), int64(5), object(3)\n",
      "memory usage: 1.6+ MB\n"
     ]
    }
   ],
   "source": [
    "data_general.info()"
   ]
  },
  {
   "cell_type": "markdown",
   "id": "6b7b1e4e",
   "metadata": {},
   "source": [
    "Пропусков, лишних строк не появилось. Можно двигаться дальше."
   ]
  },
  {
   "cell_type": "markdown",
   "id": "c3143c12",
   "metadata": {},
   "source": [
    "### Разделение данных о пользователях с подпиской и без\n",
    "Для дальнейшего удобства, создадим два датафрейма - `ultra_df` и `free_df`. Они будут хранить в себе данные о поездках с платной подпиской и без нее соответственно."
   ]
  },
  {
   "cell_type": "markdown",
   "id": "8c7eeb1e",
   "metadata": {},
   "source": [
    "Создадим датафрейм `ultra_df` и выведем на экран первые 5 строк "
   ]
  },
  {
   "cell_type": "code",
   "execution_count": 36,
   "id": "67a62aa7",
   "metadata": {},
   "outputs": [
    {
     "data": {
      "text/html": [
       "<div>\n",
       "<style scoped>\n",
       "    .dataframe tbody tr th:only-of-type {\n",
       "        vertical-align: middle;\n",
       "    }\n",
       "\n",
       "    .dataframe tbody tr th {\n",
       "        vertical-align: top;\n",
       "    }\n",
       "\n",
       "    .dataframe thead th {\n",
       "        text-align: right;\n",
       "    }\n",
       "</style>\n",
       "<table border=\"1\" class=\"dataframe\">\n",
       "  <thead>\n",
       "    <tr style=\"text-align: right;\">\n",
       "      <th></th>\n",
       "      <th>user_id</th>\n",
       "      <th>distance</th>\n",
       "      <th>duration</th>\n",
       "      <th>date</th>\n",
       "      <th>month</th>\n",
       "      <th>name</th>\n",
       "      <th>age</th>\n",
       "      <th>city</th>\n",
       "      <th>subscription_type</th>\n",
       "      <th>minute_price</th>\n",
       "      <th>start_ride_price</th>\n",
       "      <th>subscription_fee</th>\n",
       "    </tr>\n",
       "  </thead>\n",
       "  <tbody>\n",
       "    <tr>\n",
       "      <th>0</th>\n",
       "      <td>1</td>\n",
       "      <td>4409.919140</td>\n",
       "      <td>25.599769</td>\n",
       "      <td>2021-01-01</td>\n",
       "      <td>1</td>\n",
       "      <td>Кира</td>\n",
       "      <td>22</td>\n",
       "      <td>Тюмень</td>\n",
       "      <td>ultra</td>\n",
       "      <td>6</td>\n",
       "      <td>0</td>\n",
       "      <td>199</td>\n",
       "    </tr>\n",
       "    <tr>\n",
       "      <th>1</th>\n",
       "      <td>1</td>\n",
       "      <td>2617.592153</td>\n",
       "      <td>15.816871</td>\n",
       "      <td>2021-01-18</td>\n",
       "      <td>1</td>\n",
       "      <td>Кира</td>\n",
       "      <td>22</td>\n",
       "      <td>Тюмень</td>\n",
       "      <td>ultra</td>\n",
       "      <td>6</td>\n",
       "      <td>0</td>\n",
       "      <td>199</td>\n",
       "    </tr>\n",
       "    <tr>\n",
       "      <th>2</th>\n",
       "      <td>1</td>\n",
       "      <td>754.159807</td>\n",
       "      <td>6.232113</td>\n",
       "      <td>2021-04-20</td>\n",
       "      <td>4</td>\n",
       "      <td>Кира</td>\n",
       "      <td>22</td>\n",
       "      <td>Тюмень</td>\n",
       "      <td>ultra</td>\n",
       "      <td>6</td>\n",
       "      <td>0</td>\n",
       "      <td>199</td>\n",
       "    </tr>\n",
       "    <tr>\n",
       "      <th>3</th>\n",
       "      <td>1</td>\n",
       "      <td>2694.783254</td>\n",
       "      <td>18.511000</td>\n",
       "      <td>2021-08-11</td>\n",
       "      <td>8</td>\n",
       "      <td>Кира</td>\n",
       "      <td>22</td>\n",
       "      <td>Тюмень</td>\n",
       "      <td>ultra</td>\n",
       "      <td>6</td>\n",
       "      <td>0</td>\n",
       "      <td>199</td>\n",
       "    </tr>\n",
       "    <tr>\n",
       "      <th>4</th>\n",
       "      <td>1</td>\n",
       "      <td>4028.687306</td>\n",
       "      <td>26.265803</td>\n",
       "      <td>2021-08-28</td>\n",
       "      <td>8</td>\n",
       "      <td>Кира</td>\n",
       "      <td>22</td>\n",
       "      <td>Тюмень</td>\n",
       "      <td>ultra</td>\n",
       "      <td>6</td>\n",
       "      <td>0</td>\n",
       "      <td>199</td>\n",
       "    </tr>\n",
       "  </tbody>\n",
       "</table>\n",
       "</div>"
      ],
      "text/plain": [
       "   user_id     distance   duration       date  month  name  age    city  \\\n",
       "0        1  4409.919140  25.599769 2021-01-01      1  Кира   22  Тюмень   \n",
       "1        1  2617.592153  15.816871 2021-01-18      1  Кира   22  Тюмень   \n",
       "2        1   754.159807   6.232113 2021-04-20      4  Кира   22  Тюмень   \n",
       "3        1  2694.783254  18.511000 2021-08-11      8  Кира   22  Тюмень   \n",
       "4        1  4028.687306  26.265803 2021-08-28      8  Кира   22  Тюмень   \n",
       "\n",
       "  subscription_type  minute_price  start_ride_price  subscription_fee  \n",
       "0             ultra             6                 0               199  \n",
       "1             ultra             6                 0               199  \n",
       "2             ultra             6                 0               199  \n",
       "3             ultra             6                 0               199  \n",
       "4             ultra             6                 0               199  "
      ]
     },
     "execution_count": 36,
     "metadata": {},
     "output_type": "execute_result"
    }
   ],
   "source": [
    "ultra_df = data_general.loc[data_general['subscription_type'] == 'ultra'].reset_index(drop=True)\n",
    "ultra_df.head()"
   ]
  },
  {
   "cell_type": "markdown",
   "id": "8102c932",
   "metadata": {},
   "source": [
    "Создадим датафрейм `free_df` и выведем на экран первые 5 строк "
   ]
  },
  {
   "cell_type": "code",
   "execution_count": 37,
   "id": "479e7499",
   "metadata": {},
   "outputs": [
    {
     "data": {
      "text/html": [
       "<div>\n",
       "<style scoped>\n",
       "    .dataframe tbody tr th:only-of-type {\n",
       "        vertical-align: middle;\n",
       "    }\n",
       "\n",
       "    .dataframe tbody tr th {\n",
       "        vertical-align: top;\n",
       "    }\n",
       "\n",
       "    .dataframe thead th {\n",
       "        text-align: right;\n",
       "    }\n",
       "</style>\n",
       "<table border=\"1\" class=\"dataframe\">\n",
       "  <thead>\n",
       "    <tr style=\"text-align: right;\">\n",
       "      <th></th>\n",
       "      <th>user_id</th>\n",
       "      <th>distance</th>\n",
       "      <th>duration</th>\n",
       "      <th>date</th>\n",
       "      <th>month</th>\n",
       "      <th>name</th>\n",
       "      <th>age</th>\n",
       "      <th>city</th>\n",
       "      <th>subscription_type</th>\n",
       "      <th>minute_price</th>\n",
       "      <th>start_ride_price</th>\n",
       "      <th>subscription_fee</th>\n",
       "    </tr>\n",
       "  </thead>\n",
       "  <tbody>\n",
       "    <tr>\n",
       "      <th>0</th>\n",
       "      <td>700</td>\n",
       "      <td>2515.690719</td>\n",
       "      <td>14.944286</td>\n",
       "      <td>2021-01-02</td>\n",
       "      <td>1</td>\n",
       "      <td>Айдар</td>\n",
       "      <td>22</td>\n",
       "      <td>Омск</td>\n",
       "      <td>free</td>\n",
       "      <td>8</td>\n",
       "      <td>50</td>\n",
       "      <td>0</td>\n",
       "    </tr>\n",
       "    <tr>\n",
       "      <th>1</th>\n",
       "      <td>700</td>\n",
       "      <td>846.932642</td>\n",
       "      <td>16.234663</td>\n",
       "      <td>2021-02-01</td>\n",
       "      <td>2</td>\n",
       "      <td>Айдар</td>\n",
       "      <td>22</td>\n",
       "      <td>Омск</td>\n",
       "      <td>free</td>\n",
       "      <td>8</td>\n",
       "      <td>50</td>\n",
       "      <td>0</td>\n",
       "    </tr>\n",
       "    <tr>\n",
       "      <th>2</th>\n",
       "      <td>700</td>\n",
       "      <td>4004.434142</td>\n",
       "      <td>20.016628</td>\n",
       "      <td>2021-02-04</td>\n",
       "      <td>2</td>\n",
       "      <td>Айдар</td>\n",
       "      <td>22</td>\n",
       "      <td>Омск</td>\n",
       "      <td>free</td>\n",
       "      <td>8</td>\n",
       "      <td>50</td>\n",
       "      <td>0</td>\n",
       "    </tr>\n",
       "    <tr>\n",
       "      <th>3</th>\n",
       "      <td>700</td>\n",
       "      <td>1205.911290</td>\n",
       "      <td>9.782872</td>\n",
       "      <td>2021-02-10</td>\n",
       "      <td>2</td>\n",
       "      <td>Айдар</td>\n",
       "      <td>22</td>\n",
       "      <td>Омск</td>\n",
       "      <td>free</td>\n",
       "      <td>8</td>\n",
       "      <td>50</td>\n",
       "      <td>0</td>\n",
       "    </tr>\n",
       "    <tr>\n",
       "      <th>4</th>\n",
       "      <td>700</td>\n",
       "      <td>3047.379435</td>\n",
       "      <td>17.427673</td>\n",
       "      <td>2021-02-14</td>\n",
       "      <td>2</td>\n",
       "      <td>Айдар</td>\n",
       "      <td>22</td>\n",
       "      <td>Омск</td>\n",
       "      <td>free</td>\n",
       "      <td>8</td>\n",
       "      <td>50</td>\n",
       "      <td>0</td>\n",
       "    </tr>\n",
       "  </tbody>\n",
       "</table>\n",
       "</div>"
      ],
      "text/plain": [
       "   user_id     distance   duration       date  month   name  age  city  \\\n",
       "0      700  2515.690719  14.944286 2021-01-02      1  Айдар   22  Омск   \n",
       "1      700   846.932642  16.234663 2021-02-01      2  Айдар   22  Омск   \n",
       "2      700  4004.434142  20.016628 2021-02-04      2  Айдар   22  Омск   \n",
       "3      700  1205.911290   9.782872 2021-02-10      2  Айдар   22  Омск   \n",
       "4      700  3047.379435  17.427673 2021-02-14      2  Айдар   22  Омск   \n",
       "\n",
       "  subscription_type  minute_price  start_ride_price  subscription_fee  \n",
       "0              free             8                50                 0  \n",
       "1              free             8                50                 0  \n",
       "2              free             8                50                 0  \n",
       "3              free             8                50                 0  \n",
       "4              free             8                50                 0  "
      ]
     },
     "execution_count": 37,
     "metadata": {},
     "output_type": "execute_result"
    }
   ],
   "source": [
    "free_df = data_general.loc[data_general['subscription_type'] == 'free'].reset_index(drop=True)\n",
    "free_df.head()"
   ]
  },
  {
   "cell_type": "markdown",
   "id": "c879a4d2",
   "metadata": {},
   "source": [
    "### Визуализация информации о расстоянии и времени поездок с подпиской и без \n",
    "\n",
    "Для визуализации данных будем использовать гистограммы, как и ранее, так как расстояние и время - непрерывные величины.\n",
    "\n",
    "Сначала проанализируем поездки с подпиской и без независимо, а далее проведем сравнение.\n",
    "\n",
    "#### Поездки с подпиской\n",
    "Рассмотрим сначала датафрейм `ultra_df`, он содержит информацию о поездках с подпиской. Построим гистограмму расстояния и выведем общее описание данных"
   ]
  },
  {
   "cell_type": "code",
   "execution_count": 38,
   "id": "0e2a17a9",
   "metadata": {},
   "outputs": [
    {
     "data": {
      "image/png": "[encoded data removed]",
      "text/plain": [
       "<Figure size 640x480 with 1 Axes>"
      ]
     },
     "metadata": {},
     "output_type": "display_data"
    },
    {
     "data": {
      "text/plain": [
       "count    6500.000000\n",
       "mean     3115.445388\n",
       "std       836.895330\n",
       "min       244.210438\n",
       "25%      2785.444017\n",
       "50%      3148.637229\n",
       "75%      3560.574425\n",
       "max      5699.769662\n",
       "Name: distance, dtype: float64"
      ]
     },
     "execution_count": 38,
     "metadata": {},
     "output_type": "execute_result"
    }
   ],
   "source": [
    "ultra_df.plot(kind='hist', y='distance', bins=30, legend=False)\n",
    "plt.title('Распределение расстояния, пройденного в поездках среди пользоваталей с подпиской')\n",
    "plt.xlabel('Расстояние, пройденное в поездке в метрах')\n",
    "plt.ylabel('Количество поездок')\n",
    "plt.show()\n",
    "ultra_df['distance'].describe()"
   ]
  },
  {
   "cell_type": "markdown",
   "id": "9f5ba560",
   "metadata": {},
   "source": [
    "**Вывод:**\n",
    "- Количество поездок - 6500\n",
    "- Среднее значение - **3115 метров**, медиана - **3148 метров**. \n",
    "- В 75% поездок было пройдено **3560 метров** или меньше.\n",
    "- На графике присутствует локальный пик в районе 1000 метров, но на аномалию этот пик не похож."
   ]
  },
  {
   "cell_type": "markdown",
   "id": "e188c300",
   "metadata": {},
   "source": [
    "Теперь перейдем к **времени в поездке**. Построим для него гистограмму и выведем общую информацию"
   ]
  },
  {
   "cell_type": "code",
   "execution_count": 39,
   "id": "058887d8",
   "metadata": {},
   "outputs": [
    {
     "data": {
      "image/png": "[encoded data removed]",
      "text/plain": [
       "<Figure size 640x480 with 1 Axes>"
      ]
     },
     "metadata": {},
     "output_type": "display_data"
    },
    {
     "data": {
      "text/plain": [
       "count    6500.000000\n",
       "mean       18.541985\n",
       "std         5.572048\n",
       "min         3.760353\n",
       "25%        14.524654\n",
       "50%        18.178153\n",
       "75%        21.884129\n",
       "max        40.823963\n",
       "Name: duration, dtype: float64"
      ]
     },
     "execution_count": 39,
     "metadata": {},
     "output_type": "execute_result"
    }
   ],
   "source": [
    "ultra_df.plot(kind='hist', y='duration', bins=30, legend=False)\n",
    "plt.title('Распределение длительности поездки среди пользоваталей с подпиской')\n",
    "plt.xlabel('Длительность поездки в минутах')\n",
    "plt.ylabel('Количество поездок')\n",
    "plt.show()\n",
    "ultra_df['duration'].describe()"
   ]
  },
  {
   "cell_type": "markdown",
   "id": "9b6292ff",
   "metadata": {},
   "source": [
    "**Вывод:**\n",
    "- Распределение времени в поездке близко к нормальному, со **средним 18.5 минут**, стандартное отклонение **5.5 минут**. Медианное значение **18 минут**.\n",
    "- Более 75% поездок заканчиваются за 22 минуты или меньше"
   ]
  },
  {
   "cell_type": "markdown",
   "id": "c12e6802",
   "metadata": {},
   "source": [
    "#### Поездки без подписки\n",
    "Теперь рассмотрим датафрейм `free_df`, он содержит информацию о поездках без подписки. Построим гистограмму расстояния и выведем общее описание данных"
   ]
  },
  {
   "cell_type": "code",
   "execution_count": 40,
   "id": "da81dca9",
   "metadata": {},
   "outputs": [
    {
     "data": {
      "image/png": "[encoded data removed]",
      "text/plain": [
       "<Figure size 640x480 with 1 Axes>"
      ]
     },
     "metadata": {},
     "output_type": "display_data"
    },
    {
     "data": {
      "text/plain": [
       "count    11473.000000\n",
       "mean      3028.374239\n",
       "std       1235.541051\n",
       "min          0.855683\n",
       "25%       2360.878149\n",
       "50%       3102.083025\n",
       "75%       3883.979311\n",
       "max       7066.003772\n",
       "Name: distance, dtype: float64"
      ]
     },
     "execution_count": 40,
     "metadata": {},
     "output_type": "execute_result"
    }
   ],
   "source": [
    "free_df.plot(kind='hist', y='distance', bins=30, legend=False)\n",
    "plt.title('Распределение расстояния, пройденного в поездках среди пользоваталей без подписки')\n",
    "plt.xlabel('Расстояние, пройденное в поездке в метрах')\n",
    "plt.ylabel('Количество поездок')\n",
    "plt.show()\n",
    "free_df['distance'].describe()"
   ]
  },
  {
   "cell_type": "markdown",
   "id": "03526d7a",
   "metadata": {},
   "source": [
    "**Вывод:**\n",
    "- Количество поездок - 11473\n",
    "- Среднее значение - **3028 метров**, медиана - **3102 метров**. \n",
    "- В 75% поездок было пройдено **3883 метра** или меньше.\n",
    "- На графике присутствует локальный пик в районе 500 метров, но на аномалию этот пик не похож."
   ]
  },
  {
   "cell_type": "markdown",
   "id": "a38af81f",
   "metadata": {},
   "source": [
    "Теперь перейдем к **времени в поездке**. Построим для него гистограмму и выведем общую информацию"
   ]
  },
  {
   "cell_type": "code",
   "execution_count": 41,
   "id": "5fa801cc",
   "metadata": {},
   "outputs": [
    {
     "data": {
      "image/png": "[encoded data removed]",
      "text/plain": [
       "<Figure size 640x480 with 1 Axes>"
      ]
     },
     "metadata": {},
     "output_type": "display_data"
    },
    {
     "data": {
      "text/plain": [
       "count    11473.000000\n",
       "mean        17.530771\n",
       "std          6.162609\n",
       "min          2.035632\n",
       "25%         13.085688\n",
       "50%         17.383807\n",
       "75%         21.638038\n",
       "max         34.948498\n",
       "Name: duration, dtype: float64"
      ]
     },
     "execution_count": 41,
     "metadata": {},
     "output_type": "execute_result"
    }
   ],
   "source": [
    "free_df.plot(kind='hist', y='duration', bins=30, legend=False)\n",
    "plt.title('Длительность поездок среди пользователей без подписки')\n",
    "plt.xlabel('Длительность поездки в минутах')\n",
    "plt.ylabel('Количество поездок')\n",
    "plt.show()\n",
    "free_df['duration'].describe()"
   ]
  },
  {
   "cell_type": "markdown",
   "id": "9d77e269",
   "metadata": {},
   "source": [
    "**Вывод:**\n",
    "- Распределение близко к нормальному со **средним 17.5 минут**, стандартным отклонением 6.1, **медианой 17.4**\n",
    "- 75% поездок длились не более 21 минуты"
   ]
  },
  {
   "cell_type": "markdown",
   "id": "d5a17bc5",
   "metadata": {},
   "source": [
    "#### Сравнение (общий вывод к подразделу 4.3)"
   ]
  },
  {
   "cell_type": "markdown",
   "id": "a1219d72",
   "metadata": {},
   "source": [
    "Для наглядности наложим распределения на один график"
   ]
  },
  {
   "cell_type": "code",
   "execution_count": 42,
   "id": "250e6214",
   "metadata": {},
   "outputs": [
    {
     "data": {
      "image/png": "[encoded data removed]",
      "text/plain": [
       "<Figure size 1500x700 with 1 Axes>"
      ]
     },
     "metadata": {},
     "output_type": "display_data"
    },
    {
     "data": {
      "image/png": "[encoded data removed]",
      "text/plain": [
       "<Figure size 1500x700 with 1 Axes>"
      ]
     },
     "metadata": {},
     "output_type": "display_data"
    }
   ],
   "source": [
    "# Расстояние\n",
    "plt.figure(figsize=(15, 7))\n",
    "free_df['distance'].hist(bins=30, \n",
    "             color='#FFD89C', alpha=0.7, label='Пользователи без подписки')\n",
    "ultra_df['distance'].hist(bins=30,\n",
    "              color='#A0C49D', alpha=0.7, label='Пользователи с подпиской')\n",
    "plt.vlines(x=free_df['distance'].mean(), ymin=0, ymax=1001, color='y')\n",
    "plt.vlines(x=ultra_df['distance'].mean(), ymin=0, ymax=1001, color='g')\n",
    "plt.title('Распределение расстояния,\\n пройденного в поездках среди пользоваталей с подпиской')\n",
    "plt.xlabel('Расстояние, пройденное в поездке в метрах')\n",
    "plt.ylabel('Количество поездок')\n",
    "plt.legend()\n",
    "plt.show()\n",
    "\n",
    "# Длительность\n",
    "plt.figure(figsize=(15, 7))\n",
    "free_df['duration'].hist(bins=30, \n",
    "             color='#FFD89C', alpha=0.7, label='Пользователи без подписки')\n",
    "ultra_df['duration'].hist(bins=30,\n",
    "              color='#A0C49D', alpha=0.7, label='Пользователи с подпиской')\n",
    "plt.vlines(x=free_df['duration'].mean(), ymin=0, ymax=1001, color='y')\n",
    "plt.vlines(x=ultra_df['duration'].mean(), ymin=0, ymax=1001, color='g')\n",
    "plt.title('Распределение длительности поездки\\n среди пользоваталей с подпиской')\n",
    "plt.xlabel('Длительность поездки в минутах')\n",
    "plt.ylabel('Количество поездок')\n",
    "plt.legend()\n",
    "plt.show()"
   ]
  },
  {
   "cell_type": "markdown",
   "id": "4592f5a9",
   "metadata": {},
   "source": [
    "- Поездок без подписок почти в 2 раза больше (6500 с подпиской и 115473 без)\n",
    "- **Среднее расстояние** у поездок с подписками немного выше *(3115 против 3028 метров)*, это может быть связано с тем, что среди поездок без подписки есть некоторое количество поездок с расстоянием **менее 500** метров. Медианы почти не отличаются. В 75% поездок с подписками было пройдено **3560 метров** или меньше, а в 75% поездок без подписки расстояние было **3883**, это значительная разница\n",
    "- **Средняя длительность** поездок с подписками почти на 1 минуту больше, чем без подписок *(18.5 против 17.5)*, медианная на 0.7 минуты больше *(18.1 против 17.4)*. 75% поездок с подпиской завершены за 22 минуты или меньше, а без подписки - 21.6 минут или меньше, разница не так значительна."
   ]
  },
  {
   "cell_type": "markdown",
   "id": "48e287fa",
   "metadata": {},
   "source": [
    "## Подсчет выручки\n",
    "\n",
    "\n",
    "Составим таблицу, в которой вычислим суммарное расстояние, количество поездок и суммарное время для каждого пользователя за каждый месяц. До этого предварительно округлим до ближайшего большего целого числа значения длительности поездок в исходном датафрейме.\n",
    "\n",
    "Также добавим вспомогателный столбец с типом подписки, а также из датафрейма с данными о подписках добавим в получившуюся таблицу информацию о стоимости минуты, старта и подписки *(это нужно для подсчета выручки)*. Выведем первые 5 строк "
   ]
  },
  {
   "cell_type": "code",
   "execution_count": 43,
   "id": "ce9a44b3",
   "metadata": {},
   "outputs": [
    {
     "name": "stderr",
     "output_type": "stream",
     "text": [
      "/var/folders/m0/94b7zrt17lv3szp310d4y2bh0000gn/T/ipykernel_58105/3785943452.py:11: FutureWarning: Setting an item of incompatible dtype is deprecated and will raise an error in a future version of pandas. Value 'ultra' has dtype incompatible with int64, please explicitly cast to a compatible dtype first.\n",
      "  revenue_pivot.loc[revenue_pivot['user_id'].isin(ultra_df['user_id']), 'subscription_type'] = 'ultra'\n"
     ]
    },
    {
     "data": {
      "text/html": [
       "<div>\n",
       "<style scoped>\n",
       "    .dataframe tbody tr th:only-of-type {\n",
       "        vertical-align: middle;\n",
       "    }\n",
       "\n",
       "    .dataframe tbody tr th {\n",
       "        vertical-align: top;\n",
       "    }\n",
       "\n",
       "    .dataframe thead th {\n",
       "        text-align: right;\n",
       "    }\n",
       "</style>\n",
       "<table border=\"1\" class=\"dataframe\">\n",
       "  <thead>\n",
       "    <tr style=\"text-align: right;\">\n",
       "      <th></th>\n",
       "      <th>user_id</th>\n",
       "      <th>month</th>\n",
       "      <th>distance</th>\n",
       "      <th>duration</th>\n",
       "      <th>amount</th>\n",
       "      <th>subscription_type</th>\n",
       "      <th>minute_price</th>\n",
       "      <th>start_ride_price</th>\n",
       "      <th>subscription_fee</th>\n",
       "    </tr>\n",
       "  </thead>\n",
       "  <tbody>\n",
       "    <tr>\n",
       "      <th>0</th>\n",
       "      <td>1</td>\n",
       "      <td>1</td>\n",
       "      <td>7027.511294</td>\n",
       "      <td>42.0</td>\n",
       "      <td>2</td>\n",
       "      <td>ultra</td>\n",
       "      <td>6</td>\n",
       "      <td>0</td>\n",
       "      <td>199</td>\n",
       "    </tr>\n",
       "    <tr>\n",
       "      <th>1</th>\n",
       "      <td>1</td>\n",
       "      <td>4</td>\n",
       "      <td>754.159807</td>\n",
       "      <td>7.0</td>\n",
       "      <td>1</td>\n",
       "      <td>ultra</td>\n",
       "      <td>6</td>\n",
       "      <td>0</td>\n",
       "      <td>199</td>\n",
       "    </tr>\n",
       "    <tr>\n",
       "      <th>2</th>\n",
       "      <td>1</td>\n",
       "      <td>8</td>\n",
       "      <td>6723.470560</td>\n",
       "      <td>46.0</td>\n",
       "      <td>2</td>\n",
       "      <td>ultra</td>\n",
       "      <td>6</td>\n",
       "      <td>0</td>\n",
       "      <td>199</td>\n",
       "    </tr>\n",
       "    <tr>\n",
       "      <th>3</th>\n",
       "      <td>1</td>\n",
       "      <td>10</td>\n",
       "      <td>5809.911100</td>\n",
       "      <td>32.0</td>\n",
       "      <td>2</td>\n",
       "      <td>ultra</td>\n",
       "      <td>6</td>\n",
       "      <td>0</td>\n",
       "      <td>199</td>\n",
       "    </tr>\n",
       "    <tr>\n",
       "      <th>4</th>\n",
       "      <td>1</td>\n",
       "      <td>11</td>\n",
       "      <td>7003.499363</td>\n",
       "      <td>56.0</td>\n",
       "      <td>3</td>\n",
       "      <td>ultra</td>\n",
       "      <td>6</td>\n",
       "      <td>0</td>\n",
       "      <td>199</td>\n",
       "    </tr>\n",
       "  </tbody>\n",
       "</table>\n",
       "</div>"
      ],
      "text/plain": [
       "   user_id  month     distance  duration  amount subscription_type  \\\n",
       "0        1      1  7027.511294      42.0       2             ultra   \n",
       "1        1      4   754.159807       7.0       1             ultra   \n",
       "2        1      8  6723.470560      46.0       2             ultra   \n",
       "3        1     10  5809.911100      32.0       2             ultra   \n",
       "4        1     11  7003.499363      56.0       3             ultra   \n",
       "\n",
       "   minute_price  start_ride_price  subscription_fee  \n",
       "0             6                 0               199  \n",
       "1             6                 0               199  \n",
       "2             6                 0               199  \n",
       "3             6                 0               199  \n",
       "4             6                 0               199  "
      ]
     },
     "execution_count": 43,
     "metadata": {},
     "output_type": "execute_result"
    }
   ],
   "source": [
    "# Округлим длительность поездок\n",
    "data_general['duration'] = np.ceil(data_general['duration'])\n",
    "\n",
    "revenue_pivot = (data_general\n",
    "                 .pivot_table(index=['user_id', 'month'],\n",
    "                              values=['distance', 'duration'],\n",
    "                              aggfunc=['sum', 'count']).reset_index())\n",
    "revenue_pivot.columns = ['user_id', 'month', 'distance', 'duration', 'amount', 'subscription_type']\n",
    "\n",
    "# Добавим столбец с типом подписки\n",
    "revenue_pivot.loc[revenue_pivot['user_id'].isin(ultra_df['user_id']), 'subscription_type'] = 'ultra'\n",
    "revenue_pivot.loc[revenue_pivot['user_id'].isin(free_df['user_id']), 'subscription_type'] = 'free'\n",
    "revenue_pivot = revenue_pivot.merge(subscriptions_df, how='left', on='subscription_type')\n",
    "\n",
    "revenue_pivot.head()"
   ]
  },
  {
   "cell_type": "markdown",
   "id": "94f6cf94",
   "metadata": {},
   "source": [
    "Добавим в получившуюся таблицу столбец `'revenue'`, который будет хранить информацию о суммарной выручке за месяц. Выведем на экран первые 5 строк"
   ]
  },
  {
   "cell_type": "code",
   "execution_count": 44,
   "id": "84dda646",
   "metadata": {
    "scrolled": true
   },
   "outputs": [
    {
     "data": {
      "text/html": [
       "<div>\n",
       "<style scoped>\n",
       "    .dataframe tbody tr th:only-of-type {\n",
       "        vertical-align: middle;\n",
       "    }\n",
       "\n",
       "    .dataframe tbody tr th {\n",
       "        vertical-align: top;\n",
       "    }\n",
       "\n",
       "    .dataframe thead th {\n",
       "        text-align: right;\n",
       "    }\n",
       "</style>\n",
       "<table border=\"1\" class=\"dataframe\">\n",
       "  <thead>\n",
       "    <tr style=\"text-align: right;\">\n",
       "      <th></th>\n",
       "      <th>user_id</th>\n",
       "      <th>month</th>\n",
       "      <th>distance</th>\n",
       "      <th>duration</th>\n",
       "      <th>amount</th>\n",
       "      <th>subscription_type</th>\n",
       "      <th>minute_price</th>\n",
       "      <th>start_ride_price</th>\n",
       "      <th>subscription_fee</th>\n",
       "      <th>revenue</th>\n",
       "    </tr>\n",
       "  </thead>\n",
       "  <tbody>\n",
       "    <tr>\n",
       "      <th>0</th>\n",
       "      <td>1</td>\n",
       "      <td>1</td>\n",
       "      <td>7027.511294</td>\n",
       "      <td>42.0</td>\n",
       "      <td>2</td>\n",
       "      <td>ultra</td>\n",
       "      <td>6</td>\n",
       "      <td>0</td>\n",
       "      <td>199</td>\n",
       "      <td>451.0</td>\n",
       "    </tr>\n",
       "    <tr>\n",
       "      <th>1</th>\n",
       "      <td>1</td>\n",
       "      <td>4</td>\n",
       "      <td>754.159807</td>\n",
       "      <td>7.0</td>\n",
       "      <td>1</td>\n",
       "      <td>ultra</td>\n",
       "      <td>6</td>\n",
       "      <td>0</td>\n",
       "      <td>199</td>\n",
       "      <td>241.0</td>\n",
       "    </tr>\n",
       "    <tr>\n",
       "      <th>2</th>\n",
       "      <td>1</td>\n",
       "      <td>8</td>\n",
       "      <td>6723.470560</td>\n",
       "      <td>46.0</td>\n",
       "      <td>2</td>\n",
       "      <td>ultra</td>\n",
       "      <td>6</td>\n",
       "      <td>0</td>\n",
       "      <td>199</td>\n",
       "      <td>475.0</td>\n",
       "    </tr>\n",
       "    <tr>\n",
       "      <th>3</th>\n",
       "      <td>1</td>\n",
       "      <td>10</td>\n",
       "      <td>5809.911100</td>\n",
       "      <td>32.0</td>\n",
       "      <td>2</td>\n",
       "      <td>ultra</td>\n",
       "      <td>6</td>\n",
       "      <td>0</td>\n",
       "      <td>199</td>\n",
       "      <td>391.0</td>\n",
       "    </tr>\n",
       "    <tr>\n",
       "      <th>4</th>\n",
       "      <td>1</td>\n",
       "      <td>11</td>\n",
       "      <td>7003.499363</td>\n",
       "      <td>56.0</td>\n",
       "      <td>3</td>\n",
       "      <td>ultra</td>\n",
       "      <td>6</td>\n",
       "      <td>0</td>\n",
       "      <td>199</td>\n",
       "      <td>535.0</td>\n",
       "    </tr>\n",
       "  </tbody>\n",
       "</table>\n",
       "</div>"
      ],
      "text/plain": [
       "   user_id  month     distance  duration  amount subscription_type  \\\n",
       "0        1      1  7027.511294      42.0       2             ultra   \n",
       "1        1      4   754.159807       7.0       1             ultra   \n",
       "2        1      8  6723.470560      46.0       2             ultra   \n",
       "3        1     10  5809.911100      32.0       2             ultra   \n",
       "4        1     11  7003.499363      56.0       3             ultra   \n",
       "\n",
       "   minute_price  start_ride_price  subscription_fee  revenue  \n",
       "0             6                 0               199    451.0  \n",
       "1             6                 0               199    241.0  \n",
       "2             6                 0               199    475.0  \n",
       "3             6                 0               199    391.0  \n",
       "4             6                 0               199    535.0  "
      ]
     },
     "execution_count": 44,
     "metadata": {},
     "output_type": "execute_result"
    }
   ],
   "source": [
    "revenue_pivot['revenue'] = (revenue_pivot['duration'] * revenue_pivot['minute_price'] \n",
    "                            + revenue_pivot['start_ride_price'] * revenue_pivot['amount'] \n",
    "                            + revenue_pivot['subscription_fee'])\n",
    "revenue_pivot.head()"
   ]
  },
  {
   "cell_type": "markdown",
   "id": "2bfc8b2f",
   "metadata": {},
   "source": [
    "## Статистический анализ данных\n",
    "\n",
    "В текущем разделе будет проведен статистический анализ данных, чтобы получить ответы на вопросы:\n",
    "\n",
    "6.1 Тратят ли пользователи с подпиской больше времени на поездки? \n",
    "\n",
    "6.2 Превышает ли среднее расстояние, которое проезжают пользователи с подпиской за одну поездку 3130 метров?\n",
    "\n",
    "6.3 Будет ли помесячная выручка от пользователей с подпиской по месяцам выше, чем выручка от пользователей без подписки?\n",
    "\n",
    "6.4 *Дополнительный вопрос:* Представим такую ситуацию: техническая команда сервиса обновила сервера, с которыми взаимодействует мобильное приложение. Она надеется, что из-за этого количество обращений в техподдержку значимо снизилось. Некоторый файл содержит для каждого пользователя данные о количестве обращений до обновления и после него. Какой тест вам понадобился бы для проверки этой гипотезы?"
   ]
  },
  {
   "cell_type": "markdown",
   "id": "41e68093",
   "metadata": {},
   "source": [
    "### Тратят ли пользователи с подпиской больше времени на поездки?\n",
    "\n",
    "Для ответа на вопрос, сформулируем нулевую и альтернативную гипотезы для дальнейшей проверки:\n",
    "- **Нулевая гипотеза (H0)**: Пользователи с подпиской тратят столько же времени на поездки, как и пользователи без подписки\n",
    "- **Альтернативная гипотеза (H1)**: Пользователи с подпиской тратят больше времени на поездки\n",
    "\n",
    "Для того, чтобы проверить выдвинутые гипотезы, проведем двухвыборочный правосторонний Т-тест для независимых выборок. Уровень статистической значимости установим на уровне 0.01."
   ]
  },
  {
   "cell_type": "code",
   "execution_count": 45,
   "id": "cc078fb4",
   "metadata": {},
   "outputs": [
    {
     "name": "stdout",
     "output_type": "stream",
     "text": [
      "Значение p-value: 4.704468074453899e-28\n",
      "Имеем достаточные основания отклонить H0\n"
     ]
    }
   ],
   "source": [
    "alpha = 0.01\n",
    "duration_comparement = st.ttest_ind(ultra_df['duration'], free_df['duration'], alternative='greater')\n",
    "\n",
    "print(f'Значение p-value: {duration_comparement.pvalue}')\n",
    "if duration_comparement.pvalue < alpha:\n",
    "    print('Имеем достаточные основания отклонить H0')\n",
    "else:\n",
    "    print('Не имеем достаточных оснований отклонить H0 в пользу H1')"
   ]
  },
  {
   "cell_type": "markdown",
   "id": "6812a83c",
   "metadata": {},
   "source": [
    "**Вывод:** Статистически доказано, что есть достаточные основания отклонить гипотезу о равенстве средних расстояний в пользу альтернативной правосторонней гипотезы, что среднее расстояние у пользователей с подпиской больше, чем у пользователей без подписки."
   ]
  },
  {
   "cell_type": "markdown",
   "id": "75dac33c",
   "metadata": {},
   "source": [
    "### Превышает ли среднее расстояние, которое проезжают пользователи с подпиской за одну поездку 3130 метров?\n",
    "\n",
    "Для ответа на вопрос, сформулируем нулевую и альтернативную гипотезы:\n",
    "- **Нулевая гипотеза (H0)**: Среднее расстояние, которое проезжают пользователи с подпиской за одну поездку равно 3130 метров.\n",
    "- **Альтернативная гипотеза (H1)**: Среднее расстояние, которое проезжают пользователи с подпиской за одну поездку, больше 3130 метров.\n",
    "\n",
    "Для того, чтобы проверить выдвинутые гипотезы, проведем одновыборочный правосторонний Т-тест. Уровень статистической значимости установим на уровне 0.01"
   ]
  },
  {
   "cell_type": "code",
   "execution_count": 46,
   "id": "1d9a62a4",
   "metadata": {},
   "outputs": [
    {
     "name": "stdout",
     "output_type": "stream",
     "text": [
      "P-value: 0.9195368847849785\n",
      "Не имеем достаточных оснований отклонить H0 в пользу H1\n"
     ]
    }
   ],
   "source": [
    "h0_distance = 3130\n",
    "distance_test = st.ttest_1samp(ultra_df['distance'], h0_distance, alternative='greater')\n",
    "\n",
    "print(f'P-value: {distance_test.pvalue}')\n",
    "if distance_test.pvalue < alpha:\n",
    "    print('Имеем достаточные основания отклонить H0')\n",
    "else:\n",
    "    print('Не имеем достаточных оснований отклонить H0 в пользу H1')"
   ]
  },
  {
   "cell_type": "markdown",
   "id": "d15c016d",
   "metadata": {},
   "source": [
    "Так как мы получили p-value равное почти 0.92, мы не можем отвергнуть нулевую гипотезу о равенстве в пользу H1."
   ]
  },
  {
   "cell_type": "markdown",
   "id": "afb4a45c",
   "metadata": {},
   "source": [
    "**Вывод:**\n",
    "- Среднее расстояние, которое проезжают пользователи с подпиской за одну поездку, не превышает 3130 метров.\n",
    "- Износ самокатов оптимален."
   ]
  },
  {
   "cell_type": "markdown",
   "id": "921ea99d",
   "metadata": {},
   "source": [
    "### Будет ли помесячная выручка от пользователей с подпиской по месяцам выше, чем выручка от пользователей без подписки?\n",
    "\n",
    "Для ответа на вопрос, сформулируем нулевую и альтернативную гипотезы:\n",
    "- **Нулевая гипотеза (H0)**: Средняя выручка по месяцам от пользователей с подпиской равна средней выручке по месяцам от пользователей без подписки\n",
    "- **Альтернативная гипотеза (H1)**: Средняя выручка по месяцам от пользователей с подпиской больше средней выручке по месяцам от пользователей без подписки\n",
    "\n",
    "Для того, чтобы проверить выдвинутые гипотезы, проведем двухвыборочный правосторонний Т-тест для независимых выборок. Уровень статистической значимости установим на уровне 0.01"
   ]
  },
  {
   "cell_type": "code",
   "execution_count": 47,
   "id": "c58158d5",
   "metadata": {},
   "outputs": [
    {
     "name": "stdout",
     "output_type": "stream",
     "text": [
      "P-value: 2.0314113674863288e-30\n",
      "Имеем основания отвергнуть H0\n"
     ]
    }
   ],
   "source": [
    "# Проверка гипотезы\n",
    "revenue_test = (st.ttest_ind\n",
    "                (revenue_pivot.loc[revenue_pivot['subscription_type'] == 'ultra', 'revenue'],\n",
    "                revenue_pivot.loc[revenue_pivot['subscription_type'] == 'free', 'revenue'], \n",
    "                alternative='greater')\n",
    "               )\n",
    "print(f'P-value: {revenue_test.pvalue}')\n",
    "if revenue_test.pvalue < alpha:\n",
    "    print('Имеем основания отвергнуть H0')\n",
    "else:\n",
    "    print('Не имеем достаточно оснований отвергнуть H0 в пользу H1')"
   ]
  },
  {
   "cell_type": "markdown",
   "id": "fd84a2e7",
   "metadata": {},
   "source": [
    "**Вывод:** \n",
    "- Статистически доказано, что есть основания отвергнуть гипотезу о равенстве выручки в пользу правосторонней альтернативной гипотезы (средняя помесячная выручка пользователей с подпиской выше, чем без подписки)\n",
    "- Пользователи с подпиской приносят больше выручки, а значит они выгоднее"
   ]
  },
  {
   "cell_type": "markdown",
   "id": "124536f3",
   "metadata": {},
   "source": [
    "### Ответ на вопрос\n",
    "\n",
    "Представим такую ситуацию: техническая команда сервиса обновила сервера, с которыми взаимодействует мобильное приложение. Она надеется, что из-за этого количество обращений в техподдержку значимо снизилось. Некоторый файл содержит для каждого пользователя данные о количестве обращений до обновления и после него. Какой тест нам понадобился бы для проверки этой гипотезы?\n",
    "\n",
    "Сформулируем гипотезу и альтернативную:\n",
    "- **Нулевая гипотеза (H0)**: Количество обращений в техподдержку после обновления серверов не изменилось\n",
    "- **Альтернативная гипотеза (H1)**: Количество обращений в техподдержку после обновления серверов снизилось\n",
    "\n",
    "Так как предполагается, что над выборкой будут произведены некоторые действия, и полученную в результате выборку необходимо будет сравнить с первоначальной, подойдет двухвыборочный правосторонний Т-тест для зависимых выборок. Он проводится с помощью метода `scipy.stats.ttest_rel(sample_before, sample_after, alternative='greater')`."
   ]
  },
  {
   "cell_type": "markdown",
   "id": "82e365f4",
   "metadata": {},
   "source": [
    "**Общий вывод к Проверке гипотез:**\n",
    "- Так как статистически доказано, что есть достаточные основания отклонить гипотезу о равенстве средних расстояний в пользу альтернативной правосторонней гипотезы, что среднее расстояние у пользователей с подпиской больше, чем у пользователей без подписки, **пользователи с подпиской выгоднее, чем без подписки**\n",
    "- Так как у нас недостаточно оснований отвергнуть гипотезу о равенстве среднего расстояния в поездке оптимальному значению 3130 метров, но достаточно оснований отклонить ее в пользу левосторонней гипотезы при значении 3140 метров, можно заключить, что износ самокатов не минимален.\n",
    "- Так как статистически доказано, что есть основания отвергнуть гипотезу о равенстве выручки в пользу правосторонней альтернативной гипотезы (средняя помесячная выручка пользователей с подпиской выше, чем без подписки), пользователи с подпиской будут приносить больше денег"
   ]
  },
  {
   "cell_type": "markdown",
   "id": "f5883ccb",
   "metadata": {},
   "source": [
    "## Распределения\n",
    "\n",
    "### Найти количество писем, при отправке которого вероятность получить 100 продлений около 5%\n",
    "\n",
    "Отделу маркетинга GoFast поставили задачу: нужно провести акцию с раздачей промокодов на один бесплатный месяц подписки, в рамках которой как минимум 100 существующих клиентов должны продлить эту подписку. То есть по завершении периода действия подписки пользователь может либо отказаться от неё, либо продлить, совершив соответствующий платёж. \n",
    "\n",
    "Эта акция уже проводилась ранее и по итогу выяснилось, что после бесплатного пробного периода подписку продлевают 10% пользователей. Выясним, какое минимальное количество промокодов нужно разослать, чтобы вероятность не выполнить план была примерно 5%.\n",
    "\n",
    "Для этого подберем соответствующий параметр `n` для биномиального распределения, а далее рассчитаем с помощью функции `cdf()` вероятность хвоста слева от 100 продлений, она должна быть около 0.05. Используем аппроксимацию нормальным распределением."
   ]
  },
  {
   "cell_type": "code",
   "execution_count": 48,
   "id": "804d842f",
   "metadata": {},
   "outputs": [
    {
     "name": "stdout",
     "output_type": "stream",
     "text": [
      "Вероятность левого хвоста от 100: 0.054543717104487396 достигается при N равном 1164\n"
     ]
    }
   ],
   "source": [
    "# Зададим распределение\n",
    "success_prob = 0.1\n",
    "n = 100\n",
    "goal_amount = 100\n",
    "\n",
    "goal_prob = 1\n",
    "\n",
    "while round(goal_prob, 2) > 0.05:\n",
    "    n += 1\n",
    "    mu = n * success_prob\n",
    "    sigma = np.sqrt(n*success_prob*(1-success_prob))\n",
    "    renewal_distr = st.norm(mu, sigma)\n",
    "    goal_prob = renewal_distr.cdf(100)\n",
    "\n",
    "print(f'Вероятность левого хвоста от 100: {renewal_distr.cdf(goal_amount)} достигается при N равном {n}')"
   ]
  },
  {
   "cell_type": "markdown",
   "id": "9e585057",
   "metadata": {},
   "source": [
    "Построим график распределения"
   ]
  },
  {
   "cell_type": "code",
   "execution_count": 49,
   "id": "7addfbf0",
   "metadata": {},
   "outputs": [
    {
     "data": {
      "image/png": "[encoded data removed]",
      "text/plain": [
       "<Figure size 640x480 with 1 Axes>"
      ]
     },
     "metadata": {},
     "output_type": "display_data"
    }
   ],
   "source": [
    "x = list(range(max(0, int(mu - 4 * sigma)), int(mu + 4 * sigma)))\n",
    "plt.plot(x, st.binom.pmf(x, n, success_prob), 'bo')\n",
    "plt.title('Распределение вероятностей продления платной подписки после активации промокода')\n",
    "plt.xlabel('Количество продлений')\n",
    "plt.ylabel('Плотность вероятности')\n",
    "plt.show()"
   ]
  },
  {
   "cell_type": "markdown",
   "id": "527bc24b",
   "metadata": {},
   "source": [
    "**Вывод:** При отправке 1164 промокодов вероятность получить менее 100 продлений около 0.05 *(вероятность выполнить план - 100 продлений примерно 95%, как в условии)*"
   ]
  },
  {
   "cell_type": "markdown",
   "id": "c3ca101c",
   "metadata": {},
   "source": [
    "### Оценка вероятности открытия 399.5 тысяч уведомлений из 1 миллиона отправленных \n",
    "\n",
    "Отдел маркетинга рассылает клиентам push-уведомления в мобильном приложении. Клиенты могут открыть его или не открывать. Известно, что уведомления открывают около 40% получивших клиентов. Отдел планирует разослать 1 млн уведомлений. С помощью аппроксимации построим примерный график распределения"
   ]
  },
  {
   "cell_type": "code",
   "execution_count": 50,
   "id": "80e31650",
   "metadata": {},
   "outputs": [
    {
     "data": {
      "image/png": "[encoded data removed]",
      "text/plain": [
       "<Figure size 640x480 with 1 Axes>"
      ]
     },
     "metadata": {},
     "output_type": "display_data"
    }
   ],
   "source": [
    "success_prob = 0.4\n",
    "n = 1000000\n",
    "goal_amount = 399500\n",
    "\n",
    "mu = n * success_prob\n",
    "sigma = np.sqrt(n*success_prob*(1-success_prob))\n",
    "\n",
    "x = list(range(max(0, int(mu - 4 * sigma)), int(mu + 4 * sigma)))\n",
    "\n",
    "graph = plt.plot(x, st.binom.pmf(x, n, success_prob))\n",
    "plt.title('Распределение вероятностей открытия уведомления')\n",
    "plt.xlabel('Количество уведомлений')\n",
    "plt.ylabel('Вероятность')\n",
    "plt.show()"
   ]
  },
  {
   "cell_type": "markdown",
   "id": "099a83fe",
   "metadata": {},
   "source": [
    "А теперь оценим вероятность левого хвоста от 399.5 с помощью функции `cdf()`"
   ]
  },
  {
   "cell_type": "code",
   "execution_count": 51,
   "id": "7b6f187f",
   "metadata": {},
   "outputs": [
    {
     "name": "stdout",
     "output_type": "stream",
     "text": [
      "Вероятность, что откроют не более 399.5 тысяч писем: 0.15371708296369768\n"
     ]
    }
   ],
   "source": [
    "openning_distr = st.norm(mu, sigma)\n",
    "print(f'Вероятность, что откроют не более 399.5 тысяч писем: {openning_distr.cdf(399500)}')"
   ]
  },
  {
   "cell_type": "markdown",
   "id": "578002c5",
   "metadata": {},
   "source": [
    "**Вывод:** Вероятность, что письма откроют не более 399.5 тысяч пользователей составляет **0.15**"
   ]
  },
  {
   "cell_type": "markdown",
   "id": "c8ee8e3a",
   "metadata": {},
   "source": [
    "**Общий вывод по Распределениям:**\n",
    "- Чтобы вероятность выполнить план по 100 продлениям после акции с отправкой промокодов на месяц бесплатной подписки составляла 95%, необходимо отправить **1164 промокода**\n",
    "- Вероятность, что из 1 миллиона отправленных в мобильном приложении уведомлений, будут открыты не более 399.5 тысяч, составляет **0.15**"
   ]
  },
  {
   "cell_type": "markdown",
   "id": "ddd31057",
   "metadata": {},
   "source": [
    "## Общий вывод\n",
    "\n",
    "### Предобработка данных\n",
    "- Проведена проверка на отсутствие пропусков в данных\n",
    "- Столбец `'date'` датафрейма `rides_df` приведен к формату datetime\n",
    "- Устранены неявные дубликаты в столбце `'name'` датафрейма `users_df`\n",
    "\n",
    "### Исследовательский анализ данных\n",
    "- Из данных исключены поездки с аномально маленькой длительностью и большим расстоянием (0.5 минут и 4000 метров)\n",
    "- Проанализирована частота встречаемости городов среди пользователей. Наибольшее количество пользователей - из **Пятигорска, их 219**. Далее следует **Екатеринбург с показателем 204** пользователя. Наименьшее количество пользователей - из **Москвы, их 168**.\n",
    "- Проанализировано количество пользоваталей с подпиской и без, а также их доля среди общего количества пользоваталей: **835 пользователей (54%) не пользуются платной подпиской**, а **699 (46%) пользуются**.\n",
    "- Проанализированы данные о возрасте пользователей: Распредедение возрастов пользователей близко к нормальному распределению **со средним 26 лет**, стандартным отклонением 8.7. Убедились, что в данных о возрасте отсутствуют аномалии.\n",
    "- Исследованы данные о расстоянии, которое проезжают пользователи во время поездки. Пользователи сервиса в среднем проезжают **около 3100 метров**, это значение близко и к **медиане (3133 метра)** и к **среднему значению по выборке (3070 метров)**.\n",
    "- Исследованы данные о длительности поездок. Распредедение длительности поездок близко к нормальному распределению со **средним 17 минут**, **стандартным отклонением почти 6 минут**. Медиана составляет также 17 минут. Устранена аномалия (ряд поездок с расстоянием 4 километра и более, и временем 0.5 минуты).\n",
    "\n",
    "### Объединение данных и визуализация\n",
    "- Создан новый датафрейм, который содержит объединенные данные о пользователях, поездках и подписках.\n",
    "- Создано два датафрейма, которые содержат полную информацию о всех поездках пользователей с подпиской и без подписки\n",
    "- Проведена визуализация распределений длительности и расстояния в разрезе поездок с подпиской и без\n",
    "- Проведено сравнение длительности и расстояния в разрезе поездок с подпиской и без: \n",
    "    - Поездок без подписок почти в 2 раза больше (6500 с подпиской и 11473 без)\n",
    "    - **Среднее расстояние** у поездок с подписками немного выше *(3115 против 3028 метров)*, это может быть связано с тем, что среди поездок без подписки есть некоторое количество поездок с расстоянием **менее 500** метров. Медианы почти не отличаются. В 75% поездок с подписками было пройдено **3560 метров** или меньше, а в 75% поездок без подписки расстояние было **3883**, это значительная разница\n",
    "    - **Средняя длительность** поездок с подписками почти на 1 минуту больше, чем без подписок *(18.5 против 17.5)*, медианная на 0.7 минуты больше *(18.1 против 17.4)*. 75% поездок с подпиской завершены за 22 минуты или меньше, а без подписки - 21.6 минут или меньше, разница не так значительна.\n",
    "\n",
    "### Проверка статистических гипотез\n",
    "- Так как статистически доказано, что есть достаточные основания отклонить гипотезу о равенстве средних расстояний в пользу альтернативной правосторонней гипотезы, что среднее расстояние у пользователей с подпиской больше, чем у пользователей без подписки, **пользователи с подпиской выгоднее, чем без подписки**. Рекомендация: чтобы увеличить выручку и вырасти как бизнес, стоит увеличить количество пользоваталей с подпиской. Например, при помощи маркетинговой акции.\n",
    "- Так как у нас недостаточно оснований отвергнуть гипотезу о равенстве среднего расстояния в поездке оптимальному значению 3130 метров, но достаточно оснований отклонить ее в пользу левосторонней гипотезы при значении 3140 метров, можно заключить, что **износ самокатов не минимален**.\n",
    "- Так как статистически доказано, что есть основания отвергнуть гипотезу о равенстве выручки в пользу правосторонней альтернативной гипотезы (средняя помесячная выручка пользователей с подпиской выше, чем без подписки), **пользователи с подпиской будут приносить больше денег**.\n",
    "\n",
    "### Распределения\n",
    "- Чтобы вероятность выполнить план по 100 продлениям после акции отдела маркетинга с отправкой промокодов на месяц бесплатной подписки составляла 95%, необходимо отправить **1164 промокода**\n",
    "- Вероятность, что из 1 миллиона отправленных в мобильном приложении уведомлений отделом маркетинга, будут открыты не более 399.5 тысяч, составляет **0.15 или 15%**"
   ]
  }
 ],
 "metadata": {
  "ExecuteTimeLog": [
   {
    "duration": 1201,
    "start_time": "2024-08-26T17:01:32.136Z"
   },
   {
    "duration": 342,
    "start_time": "2024-08-26T17:01:33.340Z"
   },
   {
    "duration": 12,
    "start_time": "2024-08-26T17:01:33.683Z"
   },
   {
    "duration": 11,
    "start_time": "2024-08-26T17:01:33.697Z"
   },
   {
    "duration": 6,
    "start_time": "2024-08-26T17:01:33.710Z"
   },
   {
    "duration": 22,
    "start_time": "2024-08-26T17:01:33.717Z"
   },
   {
    "duration": 12,
    "start_time": "2024-08-26T17:01:33.741Z"
   },
   {
    "duration": 21,
    "start_time": "2024-08-26T17:01:33.754Z"
   },
   {
    "duration": 17,
    "start_time": "2024-08-26T17:01:33.776Z"
   },
   {
    "duration": 12,
    "start_time": "2024-08-26T17:01:33.797Z"
   },
   {
    "duration": 7,
    "start_time": "2024-08-26T17:01:33.811Z"
   },
   {
    "duration": 25,
    "start_time": "2024-08-26T17:01:33.819Z"
   },
   {
    "duration": 14,
    "start_time": "2024-08-26T17:01:33.845Z"
   },
   {
    "duration": 15,
    "start_time": "2024-08-26T17:01:33.861Z"
   },
   {
    "duration": 10,
    "start_time": "2024-08-26T17:01:33.878Z"
   },
   {
    "duration": 4,
    "start_time": "2024-08-26T17:01:33.890Z"
   },
   {
    "duration": 7,
    "start_time": "2024-08-26T17:01:33.895Z"
   },
   {
    "duration": 13,
    "start_time": "2024-08-26T17:01:33.903Z"
   },
   {
    "duration": 22,
    "start_time": "2024-08-26T17:01:33.917Z"
   },
   {
    "duration": 27,
    "start_time": "2024-08-26T17:01:33.941Z"
   },
   {
    "duration": 184,
    "start_time": "2024-08-26T17:01:33.969Z"
   },
   {
    "duration": 14,
    "start_time": "2024-08-26T17:01:34.155Z"
   },
   {
    "duration": 128,
    "start_time": "2024-08-26T17:01:34.171Z"
   },
   {
    "duration": 265,
    "start_time": "2024-08-26T17:01:34.301Z"
   },
   {
    "duration": 8,
    "start_time": "2024-08-26T17:01:34.568Z"
   },
   {
    "duration": 16,
    "start_time": "2024-08-26T17:01:34.577Z"
   },
   {
    "duration": 188,
    "start_time": "2024-08-26T17:01:34.594Z"
   },
   {
    "duration": 8,
    "start_time": "2024-08-26T17:01:34.785Z"
   },
   {
    "duration": 219,
    "start_time": "2024-08-26T17:01:34.794Z"
   },
   {
    "duration": 13,
    "start_time": "2024-08-26T17:01:35.014Z"
   },
   {
    "duration": 226,
    "start_time": "2024-08-26T17:01:35.028Z"
   },
   {
    "duration": 9,
    "start_time": "2024-08-26T17:01:35.256Z"
   },
   {
    "duration": 49,
    "start_time": "2024-08-26T17:01:35.268Z"
   },
   {
    "duration": 19,
    "start_time": "2024-08-26T17:01:35.318Z"
   },
   {
    "duration": 17,
    "start_time": "2024-08-26T17:01:35.339Z"
   },
   {
    "duration": 203,
    "start_time": "2024-08-26T17:01:35.358Z"
   },
   {
    "duration": 267,
    "start_time": "2024-08-26T17:01:35.562Z"
   },
   {
    "duration": 183,
    "start_time": "2024-08-26T17:01:35.831Z"
   },
   {
    "duration": 177,
    "start_time": "2024-08-26T17:01:36.016Z"
   },
   {
    "duration": 29,
    "start_time": "2024-08-26T17:01:36.195Z"
   },
   {
    "duration": 28,
    "start_time": "2024-08-26T17:01:36.225Z"
   },
   {
    "duration": 23,
    "start_time": "2024-08-26T17:01:36.255Z"
   },
   {
    "duration": 29,
    "start_time": "2024-08-26T17:01:36.280Z"
   },
   {
    "duration": 84,
    "start_time": "2024-08-26T17:01:36.310Z"
   },
   {
    "duration": 34,
    "start_time": "2024-08-26T17:01:36.396Z"
   },
   {
    "duration": 6,
    "start_time": "2024-08-26T17:01:36.432Z"
   },
   {
    "duration": 141,
    "start_time": "2024-08-26T17:01:36.439Z"
   },
   {
    "duration": 109,
    "start_time": "2024-08-26T17:01:36.582Z"
   },
   {
    "duration": 5,
    "start_time": "2024-08-26T17:01:36.693Z"
   },
   {
    "duration": 1073,
    "start_time": "2024-08-26T17:15:40.594Z"
   },
   {
    "duration": 121,
    "start_time": "2024-08-26T17:15:41.670Z"
   },
   {
    "duration": 15,
    "start_time": "2024-08-26T17:15:41.792Z"
   },
   {
    "duration": 14,
    "start_time": "2024-08-26T17:15:41.809Z"
   },
   {
    "duration": 27,
    "start_time": "2024-08-26T17:15:41.825Z"
   },
   {
    "duration": 21,
    "start_time": "2024-08-26T17:15:41.854Z"
   },
   {
    "duration": 23,
    "start_time": "2024-08-26T17:15:41.877Z"
   },
   {
    "duration": 8,
    "start_time": "2024-08-26T17:15:41.902Z"
   },
   {
    "duration": 7,
    "start_time": "2024-08-26T17:15:41.911Z"
   },
   {
    "duration": 28,
    "start_time": "2024-08-26T17:15:41.921Z"
   },
   {
    "duration": 11,
    "start_time": "2024-08-26T17:15:41.950Z"
   },
   {
    "duration": 27,
    "start_time": "2024-08-26T17:15:41.963Z"
   },
   {
    "duration": 12,
    "start_time": "2024-08-26T17:15:41.992Z"
   },
   {
    "duration": 4,
    "start_time": "2024-08-26T17:15:42.006Z"
   },
   {
    "duration": 33,
    "start_time": "2024-08-26T17:15:42.011Z"
   },
   {
    "duration": 17,
    "start_time": "2024-08-26T17:15:42.046Z"
   },
   {
    "duration": 9,
    "start_time": "2024-08-26T17:15:42.065Z"
   },
   {
    "duration": 17,
    "start_time": "2024-08-26T17:15:42.075Z"
   },
   {
    "duration": 9,
    "start_time": "2024-08-26T17:15:42.094Z"
   },
   {
    "duration": 20,
    "start_time": "2024-08-26T17:15:42.105Z"
   },
   {
    "duration": 183,
    "start_time": "2024-08-26T17:15:42.138Z"
   },
   {
    "duration": 23,
    "start_time": "2024-08-26T17:15:42.323Z"
   },
   {
    "duration": 119,
    "start_time": "2024-08-26T17:15:42.348Z"
   },
   {
    "duration": 278,
    "start_time": "2024-08-26T17:15:42.468Z"
   },
   {
    "duration": 9,
    "start_time": "2024-08-26T17:15:42.748Z"
   },
   {
    "duration": 42,
    "start_time": "2024-08-26T17:15:42.759Z"
   },
   {
    "duration": 207,
    "start_time": "2024-08-26T17:15:42.803Z"
   },
   {
    "duration": 8,
    "start_time": "2024-08-26T17:15:43.015Z"
   },
   {
    "duration": 243,
    "start_time": "2024-08-26T17:15:43.025Z"
   },
   {
    "duration": 14,
    "start_time": "2024-08-26T17:15:43.270Z"
   },
   {
    "duration": 273,
    "start_time": "2024-08-26T17:15:43.286Z"
   },
   {
    "duration": 10,
    "start_time": "2024-08-26T17:15:43.561Z"
   },
   {
    "duration": 44,
    "start_time": "2024-08-26T17:15:43.572Z"
   },
   {
    "duration": 21,
    "start_time": "2024-08-26T17:15:43.618Z"
   },
   {
    "duration": 15,
    "start_time": "2024-08-26T17:15:43.641Z"
   },
   {
    "duration": 196,
    "start_time": "2024-08-26T17:15:43.659Z"
   },
   {
    "duration": 270,
    "start_time": "2024-08-26T17:15:43.856Z"
   },
   {
    "duration": 182,
    "start_time": "2024-08-26T17:15:44.128Z"
   },
   {
    "duration": 195,
    "start_time": "2024-08-26T17:15:44.312Z"
   },
   {
    "duration": 42,
    "start_time": "2024-08-26T17:15:44.509Z"
   },
   {
    "duration": 19,
    "start_time": "2024-08-26T17:15:44.553Z"
   },
   {
    "duration": 15,
    "start_time": "2024-08-26T17:15:44.573Z"
   },
   {
    "duration": 7,
    "start_time": "2024-08-26T17:15:44.590Z"
   },
   {
    "duration": 11,
    "start_time": "2024-08-26T17:15:44.598Z"
   },
   {
    "duration": 41,
    "start_time": "2024-08-26T17:15:44.610Z"
   },
   {
    "duration": 5,
    "start_time": "2024-08-26T17:15:44.652Z"
   },
   {
    "duration": 174,
    "start_time": "2024-08-26T17:15:44.658Z"
   },
   {
    "duration": 129,
    "start_time": "2024-08-26T17:15:44.833Z"
   },
   {
    "duration": 4,
    "start_time": "2024-08-26T17:15:44.964Z"
   },
   {
    "duration": 1018,
    "start_time": "2024-08-28T14:04:27.328Z"
   },
   {
    "duration": 126,
    "start_time": "2024-08-28T14:04:28.348Z"
   },
   {
    "duration": 12,
    "start_time": "2024-08-28T14:04:28.476Z"
   },
   {
    "duration": 10,
    "start_time": "2024-08-28T14:04:28.490Z"
   },
   {
    "duration": 9,
    "start_time": "2024-08-28T14:04:28.501Z"
   },
   {
    "duration": 8,
    "start_time": "2024-08-28T14:04:28.511Z"
   },
   {
    "duration": 10,
    "start_time": "2024-08-28T14:04:28.521Z"
   },
   {
    "duration": 6,
    "start_time": "2024-08-28T14:04:28.532Z"
   },
   {
    "duration": 7,
    "start_time": "2024-08-28T14:04:28.539Z"
   },
   {
    "duration": 9,
    "start_time": "2024-08-28T14:04:28.548Z"
   },
   {
    "duration": 5,
    "start_time": "2024-08-28T14:04:28.558Z"
   },
   {
    "duration": 51,
    "start_time": "2024-08-28T14:04:28.564Z"
   },
   {
    "duration": 10,
    "start_time": "2024-08-28T14:04:28.617Z"
   },
   {
    "duration": 4,
    "start_time": "2024-08-28T14:04:28.628Z"
   },
   {
    "duration": 4,
    "start_time": "2024-08-28T14:04:28.633Z"
   },
   {
    "duration": 5,
    "start_time": "2024-08-28T14:04:28.639Z"
   },
   {
    "duration": 7,
    "start_time": "2024-08-28T14:04:28.645Z"
   },
   {
    "duration": 5,
    "start_time": "2024-08-28T14:04:28.653Z"
   },
   {
    "duration": 8,
    "start_time": "2024-08-28T14:04:28.659Z"
   },
   {
    "duration": 44,
    "start_time": "2024-08-28T14:04:28.668Z"
   },
   {
    "duration": 19,
    "start_time": "2024-08-28T14:04:28.714Z"
   },
   {
    "duration": 183,
    "start_time": "2024-08-28T14:04:28.734Z"
   },
   {
    "duration": 15,
    "start_time": "2024-08-28T14:04:28.919Z"
   },
   {
    "duration": 90,
    "start_time": "2024-08-28T14:04:28.935Z"
   },
   {
    "duration": 269,
    "start_time": "2024-08-28T14:04:29.027Z"
   },
   {
    "duration": 13,
    "start_time": "2024-08-28T14:04:29.297Z"
   },
   {
    "duration": 8,
    "start_time": "2024-08-28T14:04:29.311Z"
   },
   {
    "duration": 190,
    "start_time": "2024-08-28T14:04:29.322Z"
   },
   {
    "duration": 8,
    "start_time": "2024-08-28T14:04:29.514Z"
   },
   {
    "duration": 205,
    "start_time": "2024-08-28T14:04:29.523Z"
   },
   {
    "duration": 14,
    "start_time": "2024-08-28T14:04:29.730Z"
   },
   {
    "duration": 5,
    "start_time": "2024-08-28T14:04:29.745Z"
   },
   {
    "duration": 8,
    "start_time": "2024-08-28T14:04:29.751Z"
   },
   {
    "duration": 236,
    "start_time": "2024-08-28T14:04:29.760Z"
   },
   {
    "duration": 14,
    "start_time": "2024-08-28T14:04:29.998Z"
   },
   {
    "duration": 34,
    "start_time": "2024-08-28T14:04:30.013Z"
   },
   {
    "duration": 73,
    "start_time": "2024-08-28T14:04:30.048Z"
   },
   {
    "duration": 16,
    "start_time": "2024-08-28T14:04:30.122Z"
   },
   {
    "duration": 35,
    "start_time": "2024-08-28T14:04:30.139Z"
   },
   {
    "duration": 77,
    "start_time": "2024-08-28T14:04:30.176Z"
   },
   {
    "duration": 192,
    "start_time": "2024-08-28T14:04:30.254Z"
   },
   {
    "duration": 248,
    "start_time": "2024-08-28T14:04:30.448Z"
   },
   {
    "duration": 187,
    "start_time": "2024-08-28T14:04:30.697Z"
   },
   {
    "duration": 187,
    "start_time": "2024-08-28T14:04:30.885Z"
   },
   {
    "duration": 595,
    "start_time": "2024-08-28T14:04:31.073Z"
   },
   {
    "duration": 40,
    "start_time": "2024-08-28T14:04:31.669Z"
   },
   {
    "duration": 12,
    "start_time": "2024-08-28T14:04:31.710Z"
   },
   {
    "duration": 23,
    "start_time": "2024-08-28T14:04:31.723Z"
   },
   {
    "duration": 10,
    "start_time": "2024-08-28T14:04:31.748Z"
   },
   {
    "duration": 23,
    "start_time": "2024-08-28T14:04:31.759Z"
   },
   {
    "duration": 915,
    "start_time": "2024-08-28T14:04:31.783Z"
   },
   {
    "duration": 178,
    "start_time": "2024-08-28T14:04:32.699Z"
   },
   {
    "duration": 251,
    "start_time": "2024-08-28T14:04:32.878Z"
   },
   {
    "duration": 5,
    "start_time": "2024-08-28T14:04:33.131Z"
   },
   {
    "duration": 7,
    "start_time": "2024-08-28T14:06:25.217Z"
   },
   {
    "duration": 287,
    "start_time": "2024-08-28T14:07:08.224Z"
   },
   {
    "duration": 8,
    "start_time": "2024-08-28T14:07:18.527Z"
   },
   {
    "duration": 10,
    "start_time": "2024-08-28T14:07:26.641Z"
   },
   {
    "duration": 9,
    "start_time": "2024-08-28T14:07:29.654Z"
   },
   {
    "duration": 199,
    "start_time": "2024-08-28T14:10:05.144Z"
   },
   {
    "duration": 17,
    "start_time": "2024-08-28T14:10:17.043Z"
   },
   {
    "duration": 19,
    "start_time": "2024-08-28T14:10:28.419Z"
   },
   {
    "duration": 345,
    "start_time": "2024-08-28T14:10:54.087Z"
   },
   {
    "duration": 338,
    "start_time": "2024-08-28T14:11:03.879Z"
   },
   {
    "duration": 352,
    "start_time": "2024-08-28T14:11:35.855Z"
   },
   {
    "duration": 5,
    "start_time": "2024-08-28T14:12:05.849Z"
   },
   {
    "duration": 1069,
    "start_time": "2024-08-28T14:18:00.572Z"
   },
   {
    "duration": 129,
    "start_time": "2024-08-28T14:18:01.643Z"
   },
   {
    "duration": 12,
    "start_time": "2024-08-28T14:18:01.773Z"
   },
   {
    "duration": 20,
    "start_time": "2024-08-28T14:18:01.787Z"
   },
   {
    "duration": 6,
    "start_time": "2024-08-28T14:18:01.809Z"
   },
   {
    "duration": 17,
    "start_time": "2024-08-28T14:18:01.816Z"
   },
   {
    "duration": 12,
    "start_time": "2024-08-28T14:18:01.834Z"
   },
   {
    "duration": 16,
    "start_time": "2024-08-28T14:18:01.848Z"
   },
   {
    "duration": 14,
    "start_time": "2024-08-28T14:18:01.866Z"
   },
   {
    "duration": 10,
    "start_time": "2024-08-28T14:18:01.882Z"
   },
   {
    "duration": 15,
    "start_time": "2024-08-28T14:18:01.894Z"
   },
   {
    "duration": 13,
    "start_time": "2024-08-28T14:18:01.911Z"
   },
   {
    "duration": 10,
    "start_time": "2024-08-28T14:18:01.925Z"
   },
   {
    "duration": 4,
    "start_time": "2024-08-28T14:18:01.937Z"
   },
   {
    "duration": 19,
    "start_time": "2024-08-28T14:18:01.942Z"
   },
   {
    "duration": 16,
    "start_time": "2024-08-28T14:18:01.962Z"
   },
   {
    "duration": 10,
    "start_time": "2024-08-28T14:18:01.979Z"
   },
   {
    "duration": 11,
    "start_time": "2024-08-28T14:18:01.991Z"
   },
   {
    "duration": 21,
    "start_time": "2024-08-28T14:18:02.006Z"
   },
   {
    "duration": 7,
    "start_time": "2024-08-28T14:18:02.029Z"
   },
   {
    "duration": 27,
    "start_time": "2024-08-28T14:18:02.037Z"
   },
   {
    "duration": 21,
    "start_time": "2024-08-28T14:18:02.065Z"
   },
   {
    "duration": 178,
    "start_time": "2024-08-28T14:18:02.088Z"
   },
   {
    "duration": 15,
    "start_time": "2024-08-28T14:18:02.268Z"
   },
   {
    "duration": 93,
    "start_time": "2024-08-28T14:18:02.284Z"
   },
   {
    "duration": 289,
    "start_time": "2024-08-28T14:18:02.379Z"
   },
   {
    "duration": 8,
    "start_time": "2024-08-28T14:18:02.670Z"
   },
   {
    "duration": 30,
    "start_time": "2024-08-28T14:18:02.681Z"
   },
   {
    "duration": 209,
    "start_time": "2024-08-28T14:18:02.713Z"
   },
   {
    "duration": 9,
    "start_time": "2024-08-28T14:18:02.924Z"
   },
   {
    "duration": 218,
    "start_time": "2024-08-28T14:18:02.935Z"
   },
   {
    "duration": 13,
    "start_time": "2024-08-28T14:18:03.155Z"
   },
   {
    "duration": 4,
    "start_time": "2024-08-28T14:18:03.170Z"
   },
   {
    "duration": 21,
    "start_time": "2024-08-28T14:18:03.176Z"
   },
   {
    "duration": 220,
    "start_time": "2024-08-28T14:18:03.207Z"
   },
   {
    "duration": 9,
    "start_time": "2024-08-28T14:18:03.429Z"
   },
   {
    "duration": 11,
    "start_time": "2024-08-28T14:18:03.440Z"
   },
   {
    "duration": 27,
    "start_time": "2024-08-28T14:18:03.453Z"
   },
   {
    "duration": 33,
    "start_time": "2024-08-28T14:18:03.482Z"
   },
   {
    "duration": 36,
    "start_time": "2024-08-28T14:18:03.517Z"
   },
   {
    "duration": 14,
    "start_time": "2024-08-28T14:18:03.555Z"
   },
   {
    "duration": 173,
    "start_time": "2024-08-28T14:18:03.571Z"
   },
   {
    "duration": 274,
    "start_time": "2024-08-28T14:18:03.746Z"
   },
   {
    "duration": 195,
    "start_time": "2024-08-28T14:18:04.022Z"
   },
   {
    "duration": 198,
    "start_time": "2024-08-28T14:18:04.219Z"
   },
   {
    "duration": 352,
    "start_time": "2024-08-28T14:18:04.419Z"
   },
   {
    "duration": 619,
    "start_time": "2024-08-28T14:18:04.773Z"
   },
   {
    "duration": 46,
    "start_time": "2024-08-28T14:18:05.394Z"
   },
   {
    "duration": 13,
    "start_time": "2024-08-28T14:18:05.442Z"
   },
   {
    "duration": 19,
    "start_time": "2024-08-28T14:18:05.457Z"
   },
   {
    "duration": 11,
    "start_time": "2024-08-28T14:18:05.478Z"
   },
   {
    "duration": 21,
    "start_time": "2024-08-28T14:18:05.491Z"
   },
   {
    "duration": 1020,
    "start_time": "2024-08-28T14:18:05.514Z"
   },
   {
    "duration": 165,
    "start_time": "2024-08-28T14:18:06.536Z"
   },
   {
    "duration": 175,
    "start_time": "2024-08-28T14:18:06.707Z"
   },
   {
    "duration": 6,
    "start_time": "2024-08-28T14:18:06.884Z"
   },
   {
    "duration": 1074,
    "start_time": "2024-08-29T15:53:34.470Z"
   },
   {
    "duration": 140,
    "start_time": "2024-08-29T15:53:35.546Z"
   },
   {
    "duration": 13,
    "start_time": "2024-08-29T15:53:35.688Z"
   },
   {
    "duration": 22,
    "start_time": "2024-08-29T15:53:35.702Z"
   },
   {
    "duration": 11,
    "start_time": "2024-08-29T15:53:35.725Z"
   },
   {
    "duration": 22,
    "start_time": "2024-08-29T15:53:35.738Z"
   },
   {
    "duration": 30,
    "start_time": "2024-08-29T15:53:35.761Z"
   },
   {
    "duration": 7,
    "start_time": "2024-08-29T15:53:35.792Z"
   },
   {
    "duration": 10,
    "start_time": "2024-08-29T15:53:35.800Z"
   },
   {
    "duration": 24,
    "start_time": "2024-08-29T15:53:35.812Z"
   },
   {
    "duration": 33,
    "start_time": "2024-08-29T15:53:35.838Z"
   },
   {
    "duration": 37,
    "start_time": "2024-08-29T15:53:35.873Z"
   },
   {
    "duration": 14,
    "start_time": "2024-08-29T15:53:35.912Z"
   },
   {
    "duration": 19,
    "start_time": "2024-08-29T15:53:35.928Z"
   },
   {
    "duration": 21,
    "start_time": "2024-08-29T15:53:35.948Z"
   },
   {
    "duration": 9,
    "start_time": "2024-08-29T15:53:35.971Z"
   },
   {
    "duration": 7,
    "start_time": "2024-08-29T15:53:35.981Z"
   },
   {
    "duration": 5,
    "start_time": "2024-08-29T15:53:35.990Z"
   },
   {
    "duration": 7,
    "start_time": "2024-08-29T15:53:35.996Z"
   },
   {
    "duration": 7,
    "start_time": "2024-08-29T15:53:36.004Z"
   },
   {
    "duration": 15,
    "start_time": "2024-08-29T15:53:36.013Z"
   },
   {
    "duration": 9,
    "start_time": "2024-08-29T15:53:36.030Z"
   },
   {
    "duration": 197,
    "start_time": "2024-08-29T15:53:36.040Z"
   },
   {
    "duration": 16,
    "start_time": "2024-08-29T15:53:36.239Z"
   },
   {
    "duration": 91,
    "start_time": "2024-08-29T15:53:36.256Z"
   },
   {
    "duration": 274,
    "start_time": "2024-08-29T15:53:36.349Z"
   },
   {
    "duration": 10,
    "start_time": "2024-08-29T15:53:36.625Z"
   },
   {
    "duration": 20,
    "start_time": "2024-08-29T15:53:36.640Z"
   },
   {
    "duration": 188,
    "start_time": "2024-08-29T15:53:36.662Z"
   },
   {
    "duration": 8,
    "start_time": "2024-08-29T15:53:36.852Z"
   },
   {
    "duration": 211,
    "start_time": "2024-08-29T15:53:36.862Z"
   },
   {
    "duration": 14,
    "start_time": "2024-08-29T15:53:37.075Z"
   },
   {
    "duration": 17,
    "start_time": "2024-08-29T15:53:37.090Z"
   },
   {
    "duration": 11,
    "start_time": "2024-08-29T15:53:37.109Z"
   },
   {
    "duration": 251,
    "start_time": "2024-08-29T15:53:37.121Z"
   },
   {
    "duration": 9,
    "start_time": "2024-08-29T15:53:37.374Z"
   },
   {
    "duration": 3,
    "start_time": "2024-08-29T15:53:37.385Z"
   },
   {
    "duration": 41,
    "start_time": "2024-08-29T15:53:37.390Z"
   },
   {
    "duration": 14,
    "start_time": "2024-08-29T15:53:37.433Z"
   },
   {
    "duration": 33,
    "start_time": "2024-08-29T15:53:37.449Z"
   },
   {
    "duration": 27,
    "start_time": "2024-08-29T15:53:37.484Z"
   },
   {
    "duration": 178,
    "start_time": "2024-08-29T15:53:37.512Z"
   },
   {
    "duration": 274,
    "start_time": "2024-08-29T15:53:37.691Z"
   },
   {
    "duration": 200,
    "start_time": "2024-08-29T15:53:37.967Z"
   },
   {
    "duration": 198,
    "start_time": "2024-08-29T15:53:38.169Z"
   },
   {
    "duration": 344,
    "start_time": "2024-08-29T15:53:38.368Z"
   },
   {
    "duration": 623,
    "start_time": "2024-08-29T15:53:38.714Z"
   },
   {
    "duration": 39,
    "start_time": "2024-08-29T15:53:39.339Z"
   },
   {
    "duration": 31,
    "start_time": "2024-08-29T15:53:39.380Z"
   },
   {
    "duration": 7,
    "start_time": "2024-08-29T15:53:39.413Z"
   },
   {
    "duration": 7,
    "start_time": "2024-08-29T15:53:39.421Z"
   },
   {
    "duration": 10,
    "start_time": "2024-08-29T15:53:39.430Z"
   },
   {
    "duration": 1013,
    "start_time": "2024-08-29T15:53:39.441Z"
   },
   {
    "duration": 168,
    "start_time": "2024-08-29T15:53:40.455Z"
   },
   {
    "duration": 165,
    "start_time": "2024-08-29T15:53:40.624Z"
   },
   {
    "duration": 4,
    "start_time": "2024-08-29T15:53:40.791Z"
   }
  ],
  "kernelspec": {
   "display_name": "Python 3 (ipykernel)",
   "language": "python",
   "name": "python3"
  },
  "language_info": {
   "codemirror_mode": {
    "name": "ipython",
    "version": 3
   },
   "file_extension": ".py",
   "mimetype": "text/x-python",
   "name": "python",
   "nbconvert_exporter": "python",
   "pygments_lexer": "ipython3",
   "version": "3.11.11"
  },
  "toc": {
   "base_numbering": 1,
   "nav_menu": {},
   "number_sections": true,
   "sideBar": true,
   "skip_h1_title": true,
   "title_cell": "Table of Contents",
   "title_sidebar": "Contents",
   "toc_cell": false,
   "toc_position": {},
   "toc_section_display": true,
   "toc_window_display": false
  }
 },
 "nbformat": 4,
 "nbformat_minor": 5
}
