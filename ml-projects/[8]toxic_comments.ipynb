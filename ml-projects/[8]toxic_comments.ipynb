{
 "cells": [
  {
   "cell_type": "markdown",
   "id": "6750212c",
   "metadata": {},
   "source": [
    "# Определение токсичных комментариев с BERT\n",
    "\n",
    "## Введение\n",
    "\n",
    "### Описание проекта\n",
    "Интернет-магазин «Викишоп» запускает новый сервис. Теперь пользователи могут редактировать и дополнять описания товаров, как в вики-сообществах. То есть клиенты предлагают свои правки и комментируют изменения других. Магазину нужен инструмент, который будет искать токсичные комментарии и отправлять их на модерацию. \n",
    "\n",
    "### Цель проекта\n",
    "Разработать решение, которое позволит сервису определять токсичные комментарии. F1-мера на тестовой выборке должна достигать 0.75 или выше.\n",
    "\n",
    "### План работ:\n",
    "1. Провести EDA\n",
    "2. Перевести текст в word embeddings\n",
    "3. Обучить, протестировать модель МО\n",
    "4. Оформить выводы"
   ]
  },
  {
   "cell_type": "markdown",
   "id": "43e38c12",
   "metadata": {},
   "source": [
    "## Загрузка данных и анализ распределения целевого признака"
   ]
  },
  {
   "cell_type": "markdown",
   "id": "25d178d8",
   "metadata": {},
   "source": [
    "### Загрузка данных"
   ]
  },
  {
   "cell_type": "code",
   "execution_count": 1,
   "id": "a2964ea6",
   "metadata": {},
   "outputs": [],
   "source": [
    "# Библиотеки\n",
    "#!pip install torch -q\n",
    "#!pip install tqdm -q\n",
    "#!pip install torch -q\n",
    "#!pip install transformers -q\n",
    "#!pip install catboost -q"
   ]
  },
  {
   "cell_type": "code",
   "execution_count": 2,
   "id": "b7e301a6",
   "metadata": {},
   "outputs": [],
   "source": [
    "# Импорт библиотек\n",
    "import numpy as np\n",
    "import pandas as pd\n",
    "import matplotlib.pyplot as plt\n",
    "\n",
    "import torch\n",
    "import transformers\n",
    "from tqdm import notebook\n",
    "\n",
    "from imblearn.under_sampling import RandomUnderSampler\n",
    "\n",
    "from sklearn.linear_model import LogisticRegression\n",
    "from sklearn.tree import DecisionTreeClassifier\n",
    "from catboost import CatBoostClassifier\n",
    "from sklearn.model_selection import (train_test_split, cross_val_score, RandomizedSearchCV)\n",
    "from sklearn.metrics import f1_score\n",
    "from sklearn.pipeline import Pipeline\n",
    "from transformers import AutoTokenizer, AutoModelForSequenceClassification\n",
    "\n",
    "# Опционально:\n",
    "import warnings\n",
    "warnings.filterwarnings(\"ignore\")"
   ]
  },
  {
   "cell_type": "code",
   "execution_count": 3,
   "id": "89b6bc82",
   "metadata": {},
   "outputs": [
    {
     "data": {
      "text/html": [
       "<div>\n",
       "<style scoped>\n",
       "    .dataframe tbody tr th:only-of-type {\n",
       "        vertical-align: middle;\n",
       "    }\n",
       "\n",
       "    .dataframe tbody tr th {\n",
       "        vertical-align: top;\n",
       "    }\n",
       "\n",
       "    .dataframe thead th {\n",
       "        text-align: right;\n",
       "    }\n",
       "</style>\n",
       "<table border=\"1\" class=\"dataframe\">\n",
       "  <thead>\n",
       "    <tr style=\"text-align: right;\">\n",
       "      <th></th>\n",
       "      <th>text</th>\n",
       "      <th>toxic</th>\n",
       "    </tr>\n",
       "  </thead>\n",
       "  <tbody>\n",
       "    <tr>\n",
       "      <th>0</th>\n",
       "      <td>Explanation\\nWhy the edits made under my usern...</td>\n",
       "      <td>0</td>\n",
       "    </tr>\n",
       "    <tr>\n",
       "      <th>1</th>\n",
       "      <td>D'aww! He matches this background colour I'm s...</td>\n",
       "      <td>0</td>\n",
       "    </tr>\n",
       "    <tr>\n",
       "      <th>2</th>\n",
       "      <td>Hey man, I'm really not trying to edit war. It...</td>\n",
       "      <td>0</td>\n",
       "    </tr>\n",
       "    <tr>\n",
       "      <th>3</th>\n",
       "      <td>\"\\nMore\\nI can't make any real suggestions on ...</td>\n",
       "      <td>0</td>\n",
       "    </tr>\n",
       "    <tr>\n",
       "      <th>4</th>\n",
       "      <td>You, sir, are my hero. Any chance you remember...</td>\n",
       "      <td>0</td>\n",
       "    </tr>\n",
       "    <tr>\n",
       "      <th>...</th>\n",
       "      <td>...</td>\n",
       "      <td>...</td>\n",
       "    </tr>\n",
       "    <tr>\n",
       "      <th>159287</th>\n",
       "      <td>\":::::And for the second time of asking, when ...</td>\n",
       "      <td>0</td>\n",
       "    </tr>\n",
       "    <tr>\n",
       "      <th>159288</th>\n",
       "      <td>You should be ashamed of yourself \\n\\nThat is ...</td>\n",
       "      <td>0</td>\n",
       "    </tr>\n",
       "    <tr>\n",
       "      <th>159289</th>\n",
       "      <td>Spitzer \\n\\nUmm, theres no actual article for ...</td>\n",
       "      <td>0</td>\n",
       "    </tr>\n",
       "    <tr>\n",
       "      <th>159290</th>\n",
       "      <td>And it looks like it was actually you who put ...</td>\n",
       "      <td>0</td>\n",
       "    </tr>\n",
       "    <tr>\n",
       "      <th>159291</th>\n",
       "      <td>\"\\nAnd ... I really don't think you understand...</td>\n",
       "      <td>0</td>\n",
       "    </tr>\n",
       "  </tbody>\n",
       "</table>\n",
       "<p>159292 rows × 2 columns</p>\n",
       "</div>"
      ],
      "text/plain": [
       "                                                     text  toxic\n",
       "0       Explanation\\nWhy the edits made under my usern...      0\n",
       "1       D'aww! He matches this background colour I'm s...      0\n",
       "2       Hey man, I'm really not trying to edit war. It...      0\n",
       "3       \"\\nMore\\nI can't make any real suggestions on ...      0\n",
       "4       You, sir, are my hero. Any chance you remember...      0\n",
       "...                                                   ...    ...\n",
       "159287  \":::::And for the second time of asking, when ...      0\n",
       "159288  You should be ashamed of yourself \\n\\nThat is ...      0\n",
       "159289  Spitzer \\n\\nUmm, theres no actual article for ...      0\n",
       "159290  And it looks like it was actually you who put ...      0\n",
       "159291  \"\\nAnd ... I really don't think you understand...      0\n",
       "\n",
       "[159292 rows x 2 columns]"
      ]
     },
     "execution_count": 3,
     "metadata": {},
     "output_type": "execute_result"
    }
   ],
   "source": [
    "data = pd.read_csv(\n",
    "    'https://drive.google.com/uc?export=download&id=1gxolXmarN4vm7Wo2Rl14K7v9wBxZCWEr').drop('Unnamed: 0', axis=1)\n",
    "data"
   ]
  },
  {
   "cell_type": "markdown",
   "id": "1f4d5bb1",
   "metadata": {},
   "source": [
    "Данные соответствуют описанию."
   ]
  },
  {
   "cell_type": "code",
   "execution_count": 4,
   "id": "f6d30a6a",
   "metadata": {},
   "outputs": [
    {
     "name": "stdout",
     "output_type": "stream",
     "text": [
      "<class 'pandas.core.frame.DataFrame'>\n",
      "RangeIndex: 159292 entries, 0 to 159291\n",
      "Data columns (total 2 columns):\n",
      " #   Column  Non-Null Count   Dtype \n",
      "---  ------  --------------   ----- \n",
      " 0   text    159292 non-null  object\n",
      " 1   toxic   159292 non-null  int64 \n",
      "dtypes: int64(1), object(1)\n",
      "memory usage: 2.4+ MB\n"
     ]
    }
   ],
   "source": [
    "data.info()"
   ]
  },
  {
   "cell_type": "markdown",
   "id": "7bd827ed",
   "metadata": {},
   "source": [
    "#### Вывод: \n",
    "Данные соответствуют описанию, пропуски отсутствуют, типы данных оптимальны."
   ]
  },
  {
   "cell_type": "markdown",
   "id": "69d667c0",
   "metadata": {},
   "source": [
    "## Предобработка данных\n",
    "\n",
    "Проверим, есть ли в данных дубликаты"
   ]
  },
  {
   "cell_type": "code",
   "execution_count": 5,
   "id": "f11a96f7",
   "metadata": {},
   "outputs": [
    {
     "data": {
      "text/plain": [
       "0"
      ]
     },
     "execution_count": 5,
     "metadata": {},
     "output_type": "execute_result"
    }
   ],
   "source": [
    "data.duplicated().sum()"
   ]
  },
  {
   "cell_type": "markdown",
   "id": "e650a65d",
   "metadata": {},
   "source": [
    "#### Вывод:\n",
    "- Дубликаты отсутствуют\n",
    "- Пропуски отсутствуют\n",
    "- Типы данных оптимальны"
   ]
  },
  {
   "cell_type": "markdown",
   "id": "33bfd4ec",
   "metadata": {},
   "source": [
    "### EDA\n",
    "Проверим, есть ли в данных классовый дисбаланс"
   ]
  },
  {
   "cell_type": "code",
   "execution_count": 6,
   "id": "f615774b",
   "metadata": {},
   "outputs": [],
   "source": [
    "def display_imbalance(df):\n",
    "    df.pivot_table(index='toxic', values='text', aggfunc='count').reset_index().plot(y='text', kind='bar', legend=False)\n",
    "    plt.title('Распределение классов на имеющихся данных')\n",
    "    plt.ylabel('Частота класса')\n",
    "    plt.xlabel('Класс')\n",
    "    plt.show()"
   ]
  },
  {
   "cell_type": "code",
   "execution_count": 7,
   "id": "e0a448d7",
   "metadata": {},
   "outputs": [
    {
     "data": {
      "image/png": "[encoded data removed]",
      "text/plain": [
       "<Figure size 640x480 with 1 Axes>"
      ]
     },
     "metadata": {},
     "output_type": "display_data"
    }
   ],
   "source": [
    "display_imbalance(data)"
   ]
  },
  {
   "cell_type": "markdown",
   "id": "e1a25345",
   "metadata": {},
   "source": [
    "В данных присутствует сильный классовый дисбаланс - негативно помеченных комментариев в 7 раз меньше, чем позитивных. Необходимо будет это учесть при разделении данных на выборки и обучении моделей."
   ]
  },
  {
   "cell_type": "code",
   "execution_count": 8,
   "id": "e7c5bc6c",
   "metadata": {},
   "outputs": [],
   "source": [
    "np.random.seed(42)\n",
    "\n",
    "# Сократим выборку до 5000 строк, чтобы\n",
    "# код выполнялся не слишком долго\n",
    "data = data.sample(10000)"
   ]
  },
  {
   "cell_type": "markdown",
   "id": "d1f29ff9",
   "metadata": {},
   "source": [
    "Проверим, сохранилось ли отношение классов"
   ]
  },
  {
   "cell_type": "code",
   "execution_count": 9,
   "id": "e6246f2d",
   "metadata": {
    "scrolled": false
   },
   "outputs": [
    {
     "data": {
      "image/png": "[encoded data removed]",
      "text/plain": [
       "<Figure size 640x480 with 1 Axes>"
      ]
     },
     "metadata": {},
     "output_type": "display_data"
    }
   ],
   "source": [
    "display_imbalance(data)"
   ]
  },
  {
   "cell_type": "markdown",
   "id": "539065e3",
   "metadata": {},
   "source": [
    "#### Вывод:\n",
    "Отношение классов на выборке сохранено. Для устранения последствий классового дисбаланса установим гиперпараметры для регулировки весов классов в моделях."
   ]
  },
  {
   "cell_type": "markdown",
   "id": "b1da5266",
   "metadata": {},
   "source": [
    "## Подготовка модели"
   ]
  },
  {
   "cell_type": "markdown",
   "id": "ff898844",
   "metadata": {},
   "source": [
    "### Подготовка признаков\n",
    "\n",
    "Примененим BERT для создания признаков"
   ]
  },
  {
   "cell_type": "code",
   "execution_count": 10,
   "id": "856d902a",
   "metadata": {
    "scrolled": false
   },
   "outputs": [],
   "source": [
    "# Токенизатор\n",
    "tokenizer = AutoTokenizer.from_pretrained(\"unitary/toxic-bert\")\n",
    "tokenized = data['text'].apply(lambda x: tokenizer.encode(x, add_special_tokens=True, padding=True, truncation=True, max_length=50))\n",
    "\n",
    "# Максимальная длина комментария\n",
    "max_len = 0\n",
    "for i in tokenized.values:\n",
    "    if len(i) > max_len:\n",
    "        max_len = len(i)\n",
    "\n",
    "padded = np.array([i + [0]*(max_len - len(i)) for i in tokenized.values])\n",
    "attention_mask = np.where(padded != 0, 1, 0)"
   ]
  },
  {
   "cell_type": "code",
   "execution_count": 11,
   "id": "78b8fcf8",
   "metadata": {
    "scrolled": false
   },
   "outputs": [
    {
     "name": "stderr",
     "output_type": "stream",
     "text": [
      "huggingface/tokenizers: The current process just got forked, after parallelism has already been used. Disabling parallelism to avoid deadlocks...\n",
      "To disable this warning, you can either:\n",
      "\t- Avoid using `tokenizers` before the fork if possible\n",
      "\t- Explicitly set the environment variable TOKENIZERS_PARALLELISM=(true | false)\n"
     ]
    },
    {
     "data": {
      "application/vnd.jupyter.widget-view+json": {
       "model_id": "4be8790ff6b3437cbef57756aa58512f",
       "version_major": 2,
       "version_minor": 0
      },
      "text/plain": [
       "  0%|          | 0/100 [00:00<?, ?it/s]"
      ]
     },
     "metadata": {},
     "output_type": "display_data"
    }
   ],
   "source": [
    "# Используем модель BERT\n",
    "model = AutoModelForSequenceClassification.from_pretrained(\"unitary/toxic-bert\")\n",
    "\n",
    "batch_size = 100\n",
    "embeddings = []\n",
    "for i in notebook.tqdm(range(padded.shape[0] // batch_size)):\n",
    "    batch = torch.LongTensor(padded[batch_size*i:batch_size*(i+1)])\n",
    "    attention_mask_batch = torch.LongTensor(attention_mask[batch_size*i:batch_size*(i+1)])\n",
    "    with torch.no_grad():\n",
    "        batch_embeddings = model(batch, attention_mask=attention_mask_batch)\n",
    "    embeddings.append(batch_embeddings.logits.numpy())\n",
    "\n",
    "# Выделим входные признаки и таргет в отдельные переменные\n",
    "features = np.concatenate(embeddings)\n",
    "target = data['toxic']"
   ]
  },
  {
   "cell_type": "markdown",
   "id": "5dad0e36",
   "metadata": {},
   "source": [
    "Признаки готовы, можно обучать модель"
   ]
  },
  {
   "cell_type": "markdown",
   "id": "600a485c",
   "metadata": {},
   "source": [
    "### Обучение модели\n",
    "\n",
    "Разделим данные на выборки и обучим модель для предсказания токсичных комментариев"
   ]
  },
  {
   "cell_type": "code",
   "execution_count": 12,
   "id": "8c38d09e",
   "metadata": {},
   "outputs": [],
   "source": [
    "train_features, test_features, train_target, test_target = train_test_split(\n",
    "    features, target, test_size=0.2)"
   ]
  },
  {
   "cell_type": "code",
   "execution_count": 13,
   "id": "0d6dab55",
   "metadata": {},
   "outputs": [
    {
     "name": "stdout",
     "output_type": "stream",
     "text": [
      "Pipeline(steps=[('models',\n",
      "                 <catboost.core.CatBoostClassifier object at 0x16bce1a10>)])\n",
      "best f1-scoring: 0.8436088853770448\n"
     ]
    }
   ],
   "source": [
    "np.random.seed(42)\n",
    "\n",
    "# Пайплайн для обучения\n",
    "final_pipe = Pipeline(\n",
    "    [\n",
    "        ('models', LogisticRegression())\n",
    "    ]\n",
    ")\n",
    "\n",
    "# Список со словарями для подбора гиперпараметров\n",
    "parameters = [\n",
    "    {\n",
    "        'models': [LogisticRegression(class_weight='balanced')],\n",
    "        'models__C': [0.1, 1, 10]\n",
    "    }, \n",
    "    {\n",
    "        'models': [CatBoostClassifier(verbose=False, class_weights=[1, 7])],\n",
    "        'models__max_depth': range(2, 5)\n",
    "    }\n",
    "]\n",
    "\n",
    "searh = RandomizedSearchCV(\n",
    "    final_pipe,\n",
    "    parameters,\n",
    "    cv=5,\n",
    "    n_jobs=1,\n",
    "    scoring='f1'\n",
    ")\n",
    "\n",
    "# Поиск лучшей модели\n",
    "searh.fit(train_features, train_target)\n",
    "estimator = searh.best_estimator_\n",
    "print(estimator)\n",
    "print(f'best f1-scoring: {searh.best_score_}')"
   ]
  },
  {
   "cell_type": "markdown",
   "id": "38ff7f7f",
   "metadata": {},
   "source": [
    "Результат неплохой, можно двигаться дальше."
   ]
  },
  {
   "cell_type": "markdown",
   "id": "09dbe383",
   "metadata": {},
   "source": [
    "### Проверка модели на тестовой выборке"
   ]
  },
  {
   "cell_type": "code",
   "execution_count": 14,
   "id": "8c3191c7",
   "metadata": {},
   "outputs": [
    {
     "name": "stdout",
     "output_type": "stream",
     "text": [
      "F1-score на тестовой выборке: 0.8709677419354839\n"
     ]
    }
   ],
   "source": [
    "print(f'F1-score на тестовой выборке: {f1_score(test_target, estimator.predict(test_features))}')"
   ]
  },
  {
   "cell_type": "markdown",
   "id": "0fd272ea",
   "metadata": {},
   "source": [
    "Модель отлично справилась с тестовыми данными!"
   ]
  },
  {
   "cell_type": "markdown",
   "id": "9d4279fd",
   "metadata": {},
   "source": [
    "## Заключение\n",
    "\n",
    "### Общий вывод\n",
    "1. Загружены данные, проведена предобработка и исследовательский анализ\n",
    "2. С помощью BERT созданы признаки, позволяющие обучить модель МО определять токсичные (негативные) комментарии\n",
    "3. Обучена модель на базе CatBoost, которая позволяет определять токсичные комментарии, при том F1-мера у этой модели 0.87, показатель отличный.\n",
    "\n",
    "### Рекомендации\n",
    "Рекомендуем Заказчику использовать модель для классифицирования токсичных комментариев, так как она обладает достаточно высокой метрикой F1."
   ]
  }
 ],
 "metadata": {
  "kernelspec": {
   "display_name": "Python 3 (ipykernel)",
   "language": "python",
   "name": "python3"
  },
  "language_info": {
   "codemirror_mode": {
    "name": "ipython",
    "version": 3
   },
   "file_extension": ".py",
   "mimetype": "text/x-python",
   "name": "python",
   "nbconvert_exporter": "python",
   "pygments_lexer": "ipython3",
   "version": "3.11.11"
  },
  "toc": {
   "base_numbering": 1,
   "nav_menu": {},
   "number_sections": true,
   "sideBar": true,
   "skip_h1_title": true,
   "title_cell": "Table of Contents",
   "title_sidebar": "Contents",
   "toc_cell": false,
   "toc_position": {
    "height": "calc(100% - 180px)",
    "left": "10px",
    "top": "150px",
    "width": "258px"
   },
   "toc_section_display": true,
   "toc_window_display": true
  }
 },
 "nbformat": 4,
 "nbformat_minor": 5
}
