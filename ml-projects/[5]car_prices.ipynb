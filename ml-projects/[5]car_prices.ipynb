{
 "cells": [
  {
   "cell_type": "markdown",
   "id": "a15189c4",
   "metadata": {
    "id": "a15189c4"
   },
   "source": [
    "# Определение рыночной цены автомобиля\n",
    "\n",
    "## Введение\n",
    "\n",
    "**Описание проекта:** Заказчик - Сервис по продаже автомобилей с пробегом «Не бит, не крашен» разрабатывает приложение, чтобы привлечь новых клиентов. В нём можно будет узнать рыночную стоимость своего автомобиля.\n",
    "\n",
    "**Цель проекта:** Разработать модель машинного обучения, которая позволит на основании характеристик автомобиля прогнозировать рыночную стоимость автомобиля.\n",
    "\n",
    "**Описание данных:**\n",
    "\n",
    "В нашем распоряжении файл `'autos.csv'`, в нем:\n",
    "\n",
    "Характеристики (Входные признаки)\n",
    "\n",
    "- `DateCrawled` — дата скачивания анкеты из базы\n",
    "- `VehicleType` — тип автомобильного кузова\n",
    "- `RegistrationYear` — год регистрации автомобиля\n",
    "- `Gearbox` — тип коробки передач\n",
    "- `Power` — мощность (л. с.)\n",
    "- `Model` — модель автомобиля\n",
    "- `Kilometer` — пробег (км)\n",
    "- `RegistrationMonth` — месяц регистрации автомобиля\n",
    "- `FuelType` — тип топлива\n",
    "- `Brand` — марка автомобиля\n",
    "- `Repaired` — была машина в ремонте или нет\n",
    "- `DateCreated` — дата создания анкеты\n",
    "- `NumberOfPictures` — количество фотографий автомобиля\n",
    "- `PostalCode` — почтовый индекс владельца анкеты (пользователя)\n",
    "- `LastSeen` — дата последней активности пользователя\n",
    "\n",
    "Цена (Целевой признак)\n",
    "- `Price` — цена (евро)\n",
    "\n",
    "**План работ:**\n",
    "- Загрузить и изучить данные\n",
    "- Провести предобработку данных\n",
    "- Провести исследовательский анализ данных\n",
    "    - Изучить распределения количественных, категориальных признаков\n",
    "    - Провести корреляционный анализ данных\n",
    "- Разработать модели машинного обучения, сравнить их скорость обучения и значение метрики RMSE на тестовой выборке\n",
    "- Оформить итоговый вывод"
   ]
  },
  {
   "cell_type": "markdown",
   "id": "69fb2a71",
   "metadata": {
    "id": "69fb2a71"
   },
   "source": [
    "## Загрузка данных и первоначальное изучение"
   ]
  },
  {
   "cell_type": "code",
   "execution_count": 1,
   "id": "837bd8c2",
   "metadata": {
    "colab": {
     "base_uri": "https://localhost:8080/"
    },
    "id": "837bd8c2",
    "outputId": "a7f3de41-3a57-4bc0-fcce-83d7639c5320",
    "scrolled": true
   },
   "outputs": [],
   "source": [
    "# Установка библиотек\n",
    "#!pip install phik -q\n",
    "#!pip install lightgbm -q\n",
    "#!pip install scikit-learn==1.4 -q\n",
    "#!pip install matplotlib -q\n",
    "#!pip install seaborn==0.11.1 -q"
   ]
  },
  {
   "cell_type": "code",
   "execution_count": 2,
   "id": "135cf923",
   "metadata": {},
   "outputs": [],
   "source": [
    "# Опционально: отключаем предупреждения\n",
    "import warnings\n",
    "warnings.filterwarnings(\"ignore\")"
   ]
  },
  {
   "cell_type": "code",
   "execution_count": 3,
   "id": "454f6d29",
   "metadata": {
    "colab": {
     "base_uri": "https://localhost:8080/"
    },
    "id": "454f6d29",
    "outputId": "c1f3ac0b-64cd-4428-ec4c-cfbe52492c8e"
   },
   "outputs": [
    {
     "name": "stderr",
     "output_type": "stream",
     "text": [
      "\n",
      "Bad key text.latex.preview in file /opt/anaconda3/envs/practicum/lib/python3.11/site-packages/matplotlib/mpl-data/stylelib/_classic_test.mplstyle, line 123 ('text.latex.preview : False')\n",
      "You probably need to get an updated matplotlibrc file from\n",
      "https://github.com/matplotlib/matplotlib/blob/v3.7.3/lib/matplotlib/mpl-data/matplotlibrc\n",
      "or from the matplotlib source distribution\n",
      "\n",
      "Bad key mathtext.fallback_to_cm in file /opt/anaconda3/envs/practicum/lib/python3.11/site-packages/matplotlib/mpl-data/stylelib/_classic_test.mplstyle, line 155 ('mathtext.fallback_to_cm : True  # When True, use symbols from the Computer Modern')\n",
      "You probably need to get an updated matplotlibrc file from\n",
      "https://github.com/matplotlib/matplotlib/blob/v3.7.3/lib/matplotlib/mpl-data/matplotlibrc\n",
      "or from the matplotlib source distribution\n",
      "\n",
      "Bad key savefig.jpeg_quality in file /opt/anaconda3/envs/practicum/lib/python3.11/site-packages/matplotlib/mpl-data/stylelib/_classic_test.mplstyle, line 418 ('savefig.jpeg_quality: 95       # when a jpeg is saved, the default quality parameter.')\n",
      "You probably need to get an updated matplotlibrc file from\n",
      "https://github.com/matplotlib/matplotlib/blob/v3.7.3/lib/matplotlib/mpl-data/matplotlibrc\n",
      "or from the matplotlib source distribution\n",
      "\n",
      "Bad key keymap.all_axes in file /opt/anaconda3/envs/practicum/lib/python3.11/site-packages/matplotlib/mpl-data/stylelib/_classic_test.mplstyle, line 466 ('keymap.all_axes : a                 # enable all axes')\n",
      "You probably need to get an updated matplotlibrc file from\n",
      "https://github.com/matplotlib/matplotlib/blob/v3.7.3/lib/matplotlib/mpl-data/matplotlibrc\n",
      "or from the matplotlib source distribution\n",
      "\n",
      "Bad key animation.avconv_path in file /opt/anaconda3/envs/practicum/lib/python3.11/site-packages/matplotlib/mpl-data/stylelib/_classic_test.mplstyle, line 477 ('animation.avconv_path: avconv     # Path to avconv binary. Without full path')\n",
      "You probably need to get an updated matplotlibrc file from\n",
      "https://github.com/matplotlib/matplotlib/blob/v3.7.3/lib/matplotlib/mpl-data/matplotlibrc\n",
      "or from the matplotlib source distribution\n",
      "\n",
      "Bad key animation.avconv_args in file /opt/anaconda3/envs/practicum/lib/python3.11/site-packages/matplotlib/mpl-data/stylelib/_classic_test.mplstyle, line 479 ('animation.avconv_args:            # Additional arguments to pass to avconv')\n",
      "You probably need to get an updated matplotlibrc file from\n",
      "https://github.com/matplotlib/matplotlib/blob/v3.7.3/lib/matplotlib/mpl-data/matplotlibrc\n",
      "or from the matplotlib source distribution\n"
     ]
    }
   ],
   "source": [
    "# Необходимые импорты\n",
    "import numpy as np\n",
    "import pandas as pd\n",
    "import matplotlib.pyplot as plt\n",
    "import seaborn as sns\n",
    "import scipy.stats as st\n",
    "import phik\n",
    "\n",
    "from sklearn.model_selection import (train_test_split, RandomizedSearchCV)\n",
    "from sklearn.preprocessing import (StandardScaler, OrdinalEncoder)\n",
    "from sklearn.tree import DecisionTreeRegressor\n",
    "from lightgbm import LGBMRegressor\n",
    "from sklearn.pipeline import Pipeline\n",
    "from sklearn.compose import ColumnTransformer\n",
    "from sklearn.metrics import root_mean_squared_error"
   ]
  },
  {
   "cell_type": "code",
   "execution_count": 4,
   "id": "ab1c19f8",
   "metadata": {
    "id": "ab1c19f8"
   },
   "outputs": [],
   "source": [
    "# Считываем данные\n",
    "data = pd.read_csv('https://code.s3.yandex.net/datasets/autos.csv')"
   ]
  },
  {
   "cell_type": "markdown",
   "id": "89576c44",
   "metadata": {
    "id": "89576c44"
   },
   "source": [
    "#### Знакомство с данными\n",
    "\n",
    "Выведем первые 10 строк таблицы и общую информацию о таблице, изучим их"
   ]
  },
  {
   "cell_type": "code",
   "execution_count": 5,
   "id": "9443355b",
   "metadata": {
    "colab": {
     "base_uri": "https://localhost:8080/",
     "height": 762
    },
    "id": "9443355b",
    "outputId": "8b69b3de-6fd6-46de-8dc8-7199105dac59"
   },
   "outputs": [
    {
     "data": {
      "text/html": [
       "<div>\n",
       "<style scoped>\n",
       "    .dataframe tbody tr th:only-of-type {\n",
       "        vertical-align: middle;\n",
       "    }\n",
       "\n",
       "    .dataframe tbody tr th {\n",
       "        vertical-align: top;\n",
       "    }\n",
       "\n",
       "    .dataframe thead th {\n",
       "        text-align: right;\n",
       "    }\n",
       "</style>\n",
       "<table border=\"1\" class=\"dataframe\">\n",
       "  <thead>\n",
       "    <tr style=\"text-align: right;\">\n",
       "      <th></th>\n",
       "      <th>DateCrawled</th>\n",
       "      <th>Price</th>\n",
       "      <th>VehicleType</th>\n",
       "      <th>RegistrationYear</th>\n",
       "      <th>Gearbox</th>\n",
       "      <th>Power</th>\n",
       "      <th>Model</th>\n",
       "      <th>Kilometer</th>\n",
       "      <th>RegistrationMonth</th>\n",
       "      <th>FuelType</th>\n",
       "      <th>Brand</th>\n",
       "      <th>Repaired</th>\n",
       "      <th>DateCreated</th>\n",
       "      <th>NumberOfPictures</th>\n",
       "      <th>PostalCode</th>\n",
       "      <th>LastSeen</th>\n",
       "    </tr>\n",
       "  </thead>\n",
       "  <tbody>\n",
       "    <tr>\n",
       "      <th>0</th>\n",
       "      <td>2016-03-24 11:52:17</td>\n",
       "      <td>480</td>\n",
       "      <td>NaN</td>\n",
       "      <td>1993</td>\n",
       "      <td>manual</td>\n",
       "      <td>0</td>\n",
       "      <td>golf</td>\n",
       "      <td>150000</td>\n",
       "      <td>0</td>\n",
       "      <td>petrol</td>\n",
       "      <td>volkswagen</td>\n",
       "      <td>NaN</td>\n",
       "      <td>2016-03-24 00:00:00</td>\n",
       "      <td>0</td>\n",
       "      <td>70435</td>\n",
       "      <td>2016-04-07 03:16:57</td>\n",
       "    </tr>\n",
       "    <tr>\n",
       "      <th>1</th>\n",
       "      <td>2016-03-24 10:58:45</td>\n",
       "      <td>18300</td>\n",
       "      <td>coupe</td>\n",
       "      <td>2011</td>\n",
       "      <td>manual</td>\n",
       "      <td>190</td>\n",
       "      <td>NaN</td>\n",
       "      <td>125000</td>\n",
       "      <td>5</td>\n",
       "      <td>gasoline</td>\n",
       "      <td>audi</td>\n",
       "      <td>yes</td>\n",
       "      <td>2016-03-24 00:00:00</td>\n",
       "      <td>0</td>\n",
       "      <td>66954</td>\n",
       "      <td>2016-04-07 01:46:50</td>\n",
       "    </tr>\n",
       "    <tr>\n",
       "      <th>2</th>\n",
       "      <td>2016-03-14 12:52:21</td>\n",
       "      <td>9800</td>\n",
       "      <td>suv</td>\n",
       "      <td>2004</td>\n",
       "      <td>auto</td>\n",
       "      <td>163</td>\n",
       "      <td>grand</td>\n",
       "      <td>125000</td>\n",
       "      <td>8</td>\n",
       "      <td>gasoline</td>\n",
       "      <td>jeep</td>\n",
       "      <td>NaN</td>\n",
       "      <td>2016-03-14 00:00:00</td>\n",
       "      <td>0</td>\n",
       "      <td>90480</td>\n",
       "      <td>2016-04-05 12:47:46</td>\n",
       "    </tr>\n",
       "    <tr>\n",
       "      <th>3</th>\n",
       "      <td>2016-03-17 16:54:04</td>\n",
       "      <td>1500</td>\n",
       "      <td>small</td>\n",
       "      <td>2001</td>\n",
       "      <td>manual</td>\n",
       "      <td>75</td>\n",
       "      <td>golf</td>\n",
       "      <td>150000</td>\n",
       "      <td>6</td>\n",
       "      <td>petrol</td>\n",
       "      <td>volkswagen</td>\n",
       "      <td>no</td>\n",
       "      <td>2016-03-17 00:00:00</td>\n",
       "      <td>0</td>\n",
       "      <td>91074</td>\n",
       "      <td>2016-03-17 17:40:17</td>\n",
       "    </tr>\n",
       "    <tr>\n",
       "      <th>4</th>\n",
       "      <td>2016-03-31 17:25:20</td>\n",
       "      <td>3600</td>\n",
       "      <td>small</td>\n",
       "      <td>2008</td>\n",
       "      <td>manual</td>\n",
       "      <td>69</td>\n",
       "      <td>fabia</td>\n",
       "      <td>90000</td>\n",
       "      <td>7</td>\n",
       "      <td>gasoline</td>\n",
       "      <td>skoda</td>\n",
       "      <td>no</td>\n",
       "      <td>2016-03-31 00:00:00</td>\n",
       "      <td>0</td>\n",
       "      <td>60437</td>\n",
       "      <td>2016-04-06 10:17:21</td>\n",
       "    </tr>\n",
       "    <tr>\n",
       "      <th>5</th>\n",
       "      <td>2016-04-04 17:36:23</td>\n",
       "      <td>650</td>\n",
       "      <td>sedan</td>\n",
       "      <td>1995</td>\n",
       "      <td>manual</td>\n",
       "      <td>102</td>\n",
       "      <td>3er</td>\n",
       "      <td>150000</td>\n",
       "      <td>10</td>\n",
       "      <td>petrol</td>\n",
       "      <td>bmw</td>\n",
       "      <td>yes</td>\n",
       "      <td>2016-04-04 00:00:00</td>\n",
       "      <td>0</td>\n",
       "      <td>33775</td>\n",
       "      <td>2016-04-06 19:17:07</td>\n",
       "    </tr>\n",
       "    <tr>\n",
       "      <th>6</th>\n",
       "      <td>2016-04-01 20:48:51</td>\n",
       "      <td>2200</td>\n",
       "      <td>convertible</td>\n",
       "      <td>2004</td>\n",
       "      <td>manual</td>\n",
       "      <td>109</td>\n",
       "      <td>2_reihe</td>\n",
       "      <td>150000</td>\n",
       "      <td>8</td>\n",
       "      <td>petrol</td>\n",
       "      <td>peugeot</td>\n",
       "      <td>no</td>\n",
       "      <td>2016-04-01 00:00:00</td>\n",
       "      <td>0</td>\n",
       "      <td>67112</td>\n",
       "      <td>2016-04-05 18:18:39</td>\n",
       "    </tr>\n",
       "    <tr>\n",
       "      <th>7</th>\n",
       "      <td>2016-03-21 18:54:38</td>\n",
       "      <td>0</td>\n",
       "      <td>sedan</td>\n",
       "      <td>1980</td>\n",
       "      <td>manual</td>\n",
       "      <td>50</td>\n",
       "      <td>other</td>\n",
       "      <td>40000</td>\n",
       "      <td>7</td>\n",
       "      <td>petrol</td>\n",
       "      <td>volkswagen</td>\n",
       "      <td>no</td>\n",
       "      <td>2016-03-21 00:00:00</td>\n",
       "      <td>0</td>\n",
       "      <td>19348</td>\n",
       "      <td>2016-03-25 16:47:58</td>\n",
       "    </tr>\n",
       "    <tr>\n",
       "      <th>8</th>\n",
       "      <td>2016-04-04 23:42:13</td>\n",
       "      <td>14500</td>\n",
       "      <td>bus</td>\n",
       "      <td>2014</td>\n",
       "      <td>manual</td>\n",
       "      <td>125</td>\n",
       "      <td>c_max</td>\n",
       "      <td>30000</td>\n",
       "      <td>8</td>\n",
       "      <td>petrol</td>\n",
       "      <td>ford</td>\n",
       "      <td>NaN</td>\n",
       "      <td>2016-04-04 00:00:00</td>\n",
       "      <td>0</td>\n",
       "      <td>94505</td>\n",
       "      <td>2016-04-04 23:42:13</td>\n",
       "    </tr>\n",
       "    <tr>\n",
       "      <th>9</th>\n",
       "      <td>2016-03-17 10:53:50</td>\n",
       "      <td>999</td>\n",
       "      <td>small</td>\n",
       "      <td>1998</td>\n",
       "      <td>manual</td>\n",
       "      <td>101</td>\n",
       "      <td>golf</td>\n",
       "      <td>150000</td>\n",
       "      <td>0</td>\n",
       "      <td>NaN</td>\n",
       "      <td>volkswagen</td>\n",
       "      <td>NaN</td>\n",
       "      <td>2016-03-17 00:00:00</td>\n",
       "      <td>0</td>\n",
       "      <td>27472</td>\n",
       "      <td>2016-03-31 17:17:06</td>\n",
       "    </tr>\n",
       "  </tbody>\n",
       "</table>\n",
       "</div>"
      ],
      "text/plain": [
       "           DateCrawled  Price  VehicleType  RegistrationYear Gearbox  Power  \\\n",
       "0  2016-03-24 11:52:17    480          NaN              1993  manual      0   \n",
       "1  2016-03-24 10:58:45  18300        coupe              2011  manual    190   \n",
       "2  2016-03-14 12:52:21   9800          suv              2004    auto    163   \n",
       "3  2016-03-17 16:54:04   1500        small              2001  manual     75   \n",
       "4  2016-03-31 17:25:20   3600        small              2008  manual     69   \n",
       "5  2016-04-04 17:36:23    650        sedan              1995  manual    102   \n",
       "6  2016-04-01 20:48:51   2200  convertible              2004  manual    109   \n",
       "7  2016-03-21 18:54:38      0        sedan              1980  manual     50   \n",
       "8  2016-04-04 23:42:13  14500          bus              2014  manual    125   \n",
       "9  2016-03-17 10:53:50    999        small              1998  manual    101   \n",
       "\n",
       "     Model  Kilometer  RegistrationMonth  FuelType       Brand Repaired  \\\n",
       "0     golf     150000                  0    petrol  volkswagen      NaN   \n",
       "1      NaN     125000                  5  gasoline        audi      yes   \n",
       "2    grand     125000                  8  gasoline        jeep      NaN   \n",
       "3     golf     150000                  6    petrol  volkswagen       no   \n",
       "4    fabia      90000                  7  gasoline       skoda       no   \n",
       "5      3er     150000                 10    petrol         bmw      yes   \n",
       "6  2_reihe     150000                  8    petrol     peugeot       no   \n",
       "7    other      40000                  7    petrol  volkswagen       no   \n",
       "8    c_max      30000                  8    petrol        ford      NaN   \n",
       "9     golf     150000                  0       NaN  volkswagen      NaN   \n",
       "\n",
       "           DateCreated  NumberOfPictures  PostalCode             LastSeen  \n",
       "0  2016-03-24 00:00:00                 0       70435  2016-04-07 03:16:57  \n",
       "1  2016-03-24 00:00:00                 0       66954  2016-04-07 01:46:50  \n",
       "2  2016-03-14 00:00:00                 0       90480  2016-04-05 12:47:46  \n",
       "3  2016-03-17 00:00:00                 0       91074  2016-03-17 17:40:17  \n",
       "4  2016-03-31 00:00:00                 0       60437  2016-04-06 10:17:21  \n",
       "5  2016-04-04 00:00:00                 0       33775  2016-04-06 19:17:07  \n",
       "6  2016-04-01 00:00:00                 0       67112  2016-04-05 18:18:39  \n",
       "7  2016-03-21 00:00:00                 0       19348  2016-03-25 16:47:58  \n",
       "8  2016-04-04 00:00:00                 0       94505  2016-04-04 23:42:13  \n",
       "9  2016-03-17 00:00:00                 0       27472  2016-03-31 17:17:06  "
      ]
     },
     "metadata": {},
     "output_type": "display_data"
    },
    {
     "name": "stdout",
     "output_type": "stream",
     "text": [
      "<class 'pandas.core.frame.DataFrame'>\n",
      "RangeIndex: 354369 entries, 0 to 354368\n",
      "Data columns (total 16 columns):\n",
      " #   Column             Non-Null Count   Dtype \n",
      "---  ------             --------------   ----- \n",
      " 0   DateCrawled        354369 non-null  object\n",
      " 1   Price              354369 non-null  int64 \n",
      " 2   VehicleType        316879 non-null  object\n",
      " 3   RegistrationYear   354369 non-null  int64 \n",
      " 4   Gearbox            334536 non-null  object\n",
      " 5   Power              354369 non-null  int64 \n",
      " 6   Model              334664 non-null  object\n",
      " 7   Kilometer          354369 non-null  int64 \n",
      " 8   RegistrationMonth  354369 non-null  int64 \n",
      " 9   FuelType           321474 non-null  object\n",
      " 10  Brand              354369 non-null  object\n",
      " 11  Repaired           283215 non-null  object\n",
      " 12  DateCreated        354369 non-null  object\n",
      " 13  NumberOfPictures   354369 non-null  int64 \n",
      " 14  PostalCode         354369 non-null  int64 \n",
      " 15  LastSeen           354369 non-null  object\n",
      "dtypes: int64(7), object(9)\n",
      "memory usage: 43.3+ MB\n"
     ]
    }
   ],
   "source": [
    "display(data.head(10))\n",
    "data.info()"
   ]
  },
  {
   "cell_type": "markdown",
   "id": "8f6df7a8",
   "metadata": {
    "id": "8f6df7a8"
   },
   "source": [
    "#### Общий вывод по Первоначальному изучению данных\n",
    "Данные соответствуют описанию. Обратим внимание, что в некоторых столбцах есть пропуски, их необходимо обработать (на этапе предобработки), названия столбцов необходимо привести к нижнему регистру, некоторые столбцы несут информацию, которая никак не может влиять на цену автомобиля (они будут удалены на этапе предобработки). Типы данных неоптимальны только для дат.\n",
    "\n",
    "Можно двигаться дальше."
   ]
  },
  {
   "cell_type": "markdown",
   "id": "36bb8a1d",
   "metadata": {
    "id": "36bb8a1d"
   },
   "source": [
    "## Предобработка данных"
   ]
  },
  {
   "cell_type": "markdown",
   "id": "9d62eb51",
   "metadata": {
    "id": "9d62eb51"
   },
   "source": [
    "### Обработка названий столбцов\n",
    "\n",
    "Для начала приведем названия столбцов к нижнему регистру для большего удобства"
   ]
  },
  {
   "cell_type": "code",
   "execution_count": 6,
   "id": "9eac52bc",
   "metadata": {
    "colab": {
     "base_uri": "https://localhost:8080/"
    },
    "id": "9eac52bc",
    "outputId": "27b07c15-0029-4507-f48a-736ac6ce7d6c"
   },
   "outputs": [
    {
     "data": {
      "text/plain": [
       "Index(['date_crawled', 'price', 'vehicle_type', 'registration_year', 'gearbox',\n",
       "       'power', 'model', 'kilometer', 'registration_month', 'fuel_type',\n",
       "       'brand', 'repaired', 'date_created', 'number_of_pictures',\n",
       "       'postal_code', 'last_seen'],\n",
       "      dtype='object')"
      ]
     },
     "execution_count": 6,
     "metadata": {},
     "output_type": "execute_result"
    }
   ],
   "source": [
    "data.columns = ['date_crawled', 'price', 'vehicle_type', 'registration_year', 'gearbox',\n",
    "       'power', 'model', 'kilometer', 'registration_month', 'fuel_type', 'brand',\n",
    "       'repaired', 'date_created', 'number_of_pictures', 'postal_code',\n",
    "       'last_seen']\n",
    "data.columns"
   ]
  },
  {
   "cell_type": "markdown",
   "id": "f9e0ede2",
   "metadata": {
    "id": "f9e0ede2"
   },
   "source": [
    "Можно двигаться дальше.\n",
    "\n",
    "### Обработка пропущенных значений\n",
    "\n",
    "Изучим пропуски в `'vehicle_type'`"
   ]
  },
  {
   "cell_type": "code",
   "execution_count": 7,
   "id": "55e2c359",
   "metadata": {
    "colab": {
     "base_uri": "https://localhost:8080/",
     "height": 537
    },
    "id": "55e2c359",
    "outputId": "ac266b4f-2971-4e50-da1a-b228050eba65"
   },
   "outputs": [
    {
     "data": {
      "text/html": [
       "<div>\n",
       "<style scoped>\n",
       "    .dataframe tbody tr th:only-of-type {\n",
       "        vertical-align: middle;\n",
       "    }\n",
       "\n",
       "    .dataframe tbody tr th {\n",
       "        vertical-align: top;\n",
       "    }\n",
       "\n",
       "    .dataframe thead th {\n",
       "        text-align: right;\n",
       "    }\n",
       "</style>\n",
       "<table border=\"1\" class=\"dataframe\">\n",
       "  <thead>\n",
       "    <tr style=\"text-align: right;\">\n",
       "      <th></th>\n",
       "      <th>date_crawled</th>\n",
       "      <th>price</th>\n",
       "      <th>vehicle_type</th>\n",
       "      <th>registration_year</th>\n",
       "      <th>gearbox</th>\n",
       "      <th>power</th>\n",
       "      <th>model</th>\n",
       "      <th>kilometer</th>\n",
       "      <th>registration_month</th>\n",
       "      <th>fuel_type</th>\n",
       "      <th>brand</th>\n",
       "      <th>repaired</th>\n",
       "      <th>date_created</th>\n",
       "      <th>number_of_pictures</th>\n",
       "      <th>postal_code</th>\n",
       "      <th>last_seen</th>\n",
       "    </tr>\n",
       "  </thead>\n",
       "  <tbody>\n",
       "    <tr>\n",
       "      <th>0</th>\n",
       "      <td>2016-03-24 11:52:17</td>\n",
       "      <td>480</td>\n",
       "      <td>NaN</td>\n",
       "      <td>1993</td>\n",
       "      <td>manual</td>\n",
       "      <td>0</td>\n",
       "      <td>golf</td>\n",
       "      <td>150000</td>\n",
       "      <td>0</td>\n",
       "      <td>petrol</td>\n",
       "      <td>volkswagen</td>\n",
       "      <td>NaN</td>\n",
       "      <td>2016-03-24 00:00:00</td>\n",
       "      <td>0</td>\n",
       "      <td>70435</td>\n",
       "      <td>2016-04-07 03:16:57</td>\n",
       "    </tr>\n",
       "    <tr>\n",
       "      <th>16</th>\n",
       "      <td>2016-04-01 12:46:46</td>\n",
       "      <td>300</td>\n",
       "      <td>NaN</td>\n",
       "      <td>2016</td>\n",
       "      <td>NaN</td>\n",
       "      <td>60</td>\n",
       "      <td>polo</td>\n",
       "      <td>150000</td>\n",
       "      <td>0</td>\n",
       "      <td>petrol</td>\n",
       "      <td>volkswagen</td>\n",
       "      <td>NaN</td>\n",
       "      <td>2016-04-01 00:00:00</td>\n",
       "      <td>0</td>\n",
       "      <td>38871</td>\n",
       "      <td>2016-04-01 12:46:46</td>\n",
       "    </tr>\n",
       "    <tr>\n",
       "      <th>22</th>\n",
       "      <td>2016-03-23 14:52:51</td>\n",
       "      <td>2900</td>\n",
       "      <td>NaN</td>\n",
       "      <td>2018</td>\n",
       "      <td>manual</td>\n",
       "      <td>90</td>\n",
       "      <td>meriva</td>\n",
       "      <td>150000</td>\n",
       "      <td>5</td>\n",
       "      <td>petrol</td>\n",
       "      <td>opel</td>\n",
       "      <td>no</td>\n",
       "      <td>2016-03-23 00:00:00</td>\n",
       "      <td>0</td>\n",
       "      <td>49716</td>\n",
       "      <td>2016-03-31 01:16:33</td>\n",
       "    </tr>\n",
       "    <tr>\n",
       "      <th>26</th>\n",
       "      <td>2016-03-10 19:38:18</td>\n",
       "      <td>5555</td>\n",
       "      <td>NaN</td>\n",
       "      <td>2017</td>\n",
       "      <td>manual</td>\n",
       "      <td>125</td>\n",
       "      <td>c4</td>\n",
       "      <td>125000</td>\n",
       "      <td>4</td>\n",
       "      <td>NaN</td>\n",
       "      <td>citroen</td>\n",
       "      <td>no</td>\n",
       "      <td>2016-03-10 00:00:00</td>\n",
       "      <td>0</td>\n",
       "      <td>31139</td>\n",
       "      <td>2016-03-16 09:16:46</td>\n",
       "    </tr>\n",
       "    <tr>\n",
       "      <th>31</th>\n",
       "      <td>2016-03-29 16:57:02</td>\n",
       "      <td>899</td>\n",
       "      <td>NaN</td>\n",
       "      <td>2016</td>\n",
       "      <td>manual</td>\n",
       "      <td>60</td>\n",
       "      <td>clio</td>\n",
       "      <td>150000</td>\n",
       "      <td>6</td>\n",
       "      <td>petrol</td>\n",
       "      <td>renault</td>\n",
       "      <td>NaN</td>\n",
       "      <td>2016-03-29 00:00:00</td>\n",
       "      <td>0</td>\n",
       "      <td>37075</td>\n",
       "      <td>2016-03-29 17:43:07</td>\n",
       "    </tr>\n",
       "    <tr>\n",
       "      <th>35</th>\n",
       "      <td>2016-03-08 07:54:46</td>\n",
       "      <td>350</td>\n",
       "      <td>NaN</td>\n",
       "      <td>2016</td>\n",
       "      <td>manual</td>\n",
       "      <td>75</td>\n",
       "      <td>golf</td>\n",
       "      <td>150000</td>\n",
       "      <td>4</td>\n",
       "      <td>petrol</td>\n",
       "      <td>volkswagen</td>\n",
       "      <td>no</td>\n",
       "      <td>2016-03-08 00:00:00</td>\n",
       "      <td>0</td>\n",
       "      <td>19386</td>\n",
       "      <td>2016-03-08 09:44:50</td>\n",
       "    </tr>\n",
       "    <tr>\n",
       "      <th>37</th>\n",
       "      <td>2016-03-28 17:50:15</td>\n",
       "      <td>1500</td>\n",
       "      <td>NaN</td>\n",
       "      <td>2016</td>\n",
       "      <td>NaN</td>\n",
       "      <td>0</td>\n",
       "      <td>kangoo</td>\n",
       "      <td>150000</td>\n",
       "      <td>1</td>\n",
       "      <td>gasoline</td>\n",
       "      <td>renault</td>\n",
       "      <td>no</td>\n",
       "      <td>2016-03-28 00:00:00</td>\n",
       "      <td>0</td>\n",
       "      <td>46483</td>\n",
       "      <td>2016-03-30 09:18:02</td>\n",
       "    </tr>\n",
       "    <tr>\n",
       "      <th>40</th>\n",
       "      <td>2016-03-26 22:06:17</td>\n",
       "      <td>0</td>\n",
       "      <td>NaN</td>\n",
       "      <td>1990</td>\n",
       "      <td>NaN</td>\n",
       "      <td>0</td>\n",
       "      <td>corsa</td>\n",
       "      <td>150000</td>\n",
       "      <td>1</td>\n",
       "      <td>petrol</td>\n",
       "      <td>opel</td>\n",
       "      <td>NaN</td>\n",
       "      <td>2016-03-26 00:00:00</td>\n",
       "      <td>0</td>\n",
       "      <td>56412</td>\n",
       "      <td>2016-03-27 17:43:34</td>\n",
       "    </tr>\n",
       "    <tr>\n",
       "      <th>48</th>\n",
       "      <td>2016-03-25 14:40:12</td>\n",
       "      <td>7750</td>\n",
       "      <td>NaN</td>\n",
       "      <td>2017</td>\n",
       "      <td>manual</td>\n",
       "      <td>80</td>\n",
       "      <td>golf</td>\n",
       "      <td>100000</td>\n",
       "      <td>1</td>\n",
       "      <td>petrol</td>\n",
       "      <td>volkswagen</td>\n",
       "      <td>NaN</td>\n",
       "      <td>2016-03-25 00:00:00</td>\n",
       "      <td>0</td>\n",
       "      <td>48499</td>\n",
       "      <td>2016-03-31 21:47:44</td>\n",
       "    </tr>\n",
       "    <tr>\n",
       "      <th>51</th>\n",
       "      <td>2016-03-07 18:57:08</td>\n",
       "      <td>2000</td>\n",
       "      <td>NaN</td>\n",
       "      <td>2017</td>\n",
       "      <td>manual</td>\n",
       "      <td>90</td>\n",
       "      <td>punto</td>\n",
       "      <td>150000</td>\n",
       "      <td>11</td>\n",
       "      <td>gasoline</td>\n",
       "      <td>fiat</td>\n",
       "      <td>yes</td>\n",
       "      <td>2016-03-07 00:00:00</td>\n",
       "      <td>0</td>\n",
       "      <td>66115</td>\n",
       "      <td>2016-03-07 18:57:08</td>\n",
       "    </tr>\n",
       "  </tbody>\n",
       "</table>\n",
       "</div>"
      ],
      "text/plain": [
       "           date_crawled  price vehicle_type  registration_year gearbox  power  \\\n",
       "0   2016-03-24 11:52:17    480          NaN               1993  manual      0   \n",
       "16  2016-04-01 12:46:46    300          NaN               2016     NaN     60   \n",
       "22  2016-03-23 14:52:51   2900          NaN               2018  manual     90   \n",
       "26  2016-03-10 19:38:18   5555          NaN               2017  manual    125   \n",
       "31  2016-03-29 16:57:02    899          NaN               2016  manual     60   \n",
       "35  2016-03-08 07:54:46    350          NaN               2016  manual     75   \n",
       "37  2016-03-28 17:50:15   1500          NaN               2016     NaN      0   \n",
       "40  2016-03-26 22:06:17      0          NaN               1990     NaN      0   \n",
       "48  2016-03-25 14:40:12   7750          NaN               2017  manual     80   \n",
       "51  2016-03-07 18:57:08   2000          NaN               2017  manual     90   \n",
       "\n",
       "     model  kilometer  registration_month fuel_type       brand repaired  \\\n",
       "0     golf     150000                   0    petrol  volkswagen      NaN   \n",
       "16    polo     150000                   0    petrol  volkswagen      NaN   \n",
       "22  meriva     150000                   5    petrol        opel       no   \n",
       "26      c4     125000                   4       NaN     citroen       no   \n",
       "31    clio     150000                   6    petrol     renault      NaN   \n",
       "35    golf     150000                   4    petrol  volkswagen       no   \n",
       "37  kangoo     150000                   1  gasoline     renault       no   \n",
       "40   corsa     150000                   1    petrol        opel      NaN   \n",
       "48    golf     100000                   1    petrol  volkswagen      NaN   \n",
       "51   punto     150000                  11  gasoline        fiat      yes   \n",
       "\n",
       "           date_created  number_of_pictures  postal_code            last_seen  \n",
       "0   2016-03-24 00:00:00                   0        70435  2016-04-07 03:16:57  \n",
       "16  2016-04-01 00:00:00                   0        38871  2016-04-01 12:46:46  \n",
       "22  2016-03-23 00:00:00                   0        49716  2016-03-31 01:16:33  \n",
       "26  2016-03-10 00:00:00                   0        31139  2016-03-16 09:16:46  \n",
       "31  2016-03-29 00:00:00                   0        37075  2016-03-29 17:43:07  \n",
       "35  2016-03-08 00:00:00                   0        19386  2016-03-08 09:44:50  \n",
       "37  2016-03-28 00:00:00                   0        46483  2016-03-30 09:18:02  \n",
       "40  2016-03-26 00:00:00                   0        56412  2016-03-27 17:43:34  \n",
       "48  2016-03-25 00:00:00                   0        48499  2016-03-31 21:47:44  \n",
       "51  2016-03-07 00:00:00                   0        66115  2016-03-07 18:57:08  "
      ]
     },
     "metadata": {},
     "output_type": "display_data"
    }
   ],
   "source": [
    "display(data.loc[data['vehicle_type'].isna()].head(10))"
   ]
  },
  {
   "cell_type": "markdown",
   "id": "56b5681a",
   "metadata": {
    "id": "56b5681a"
   },
   "source": [
    "Пропуски выглядят случайными. Используем категорию 'other' для пропусков в этой колонке, чтобы не удалять данные."
   ]
  },
  {
   "cell_type": "code",
   "execution_count": 8,
   "id": "7edc96ce",
   "metadata": {
    "id": "7edc96ce"
   },
   "outputs": [],
   "source": [
    "data['vehicle_type'] = data['vehicle_type'].fillna('other')"
   ]
  },
  {
   "cell_type": "markdown",
   "id": "59b53555",
   "metadata": {
    "id": "59b53555"
   },
   "source": [
    "Изучим пропуски в `'gearbox'`"
   ]
  },
  {
   "cell_type": "code",
   "execution_count": 9,
   "id": "6d7a723b",
   "metadata": {
    "colab": {
     "base_uri": "https://localhost:8080/",
     "height": 537
    },
    "id": "6d7a723b",
    "outputId": "4d4e7dd6-1e25-4181-d623-70ac6d431a9a"
   },
   "outputs": [
    {
     "data": {
      "text/html": [
       "<div>\n",
       "<style scoped>\n",
       "    .dataframe tbody tr th:only-of-type {\n",
       "        vertical-align: middle;\n",
       "    }\n",
       "\n",
       "    .dataframe tbody tr th {\n",
       "        vertical-align: top;\n",
       "    }\n",
       "\n",
       "    .dataframe thead th {\n",
       "        text-align: right;\n",
       "    }\n",
       "</style>\n",
       "<table border=\"1\" class=\"dataframe\">\n",
       "  <thead>\n",
       "    <tr style=\"text-align: right;\">\n",
       "      <th></th>\n",
       "      <th>date_crawled</th>\n",
       "      <th>price</th>\n",
       "      <th>vehicle_type</th>\n",
       "      <th>registration_year</th>\n",
       "      <th>gearbox</th>\n",
       "      <th>power</th>\n",
       "      <th>model</th>\n",
       "      <th>kilometer</th>\n",
       "      <th>registration_month</th>\n",
       "      <th>fuel_type</th>\n",
       "      <th>brand</th>\n",
       "      <th>repaired</th>\n",
       "      <th>date_created</th>\n",
       "      <th>number_of_pictures</th>\n",
       "      <th>postal_code</th>\n",
       "      <th>last_seen</th>\n",
       "    </tr>\n",
       "  </thead>\n",
       "  <tbody>\n",
       "    <tr>\n",
       "      <th>15</th>\n",
       "      <td>2016-03-11 21:39:15</td>\n",
       "      <td>450</td>\n",
       "      <td>small</td>\n",
       "      <td>1910</td>\n",
       "      <td>NaN</td>\n",
       "      <td>0</td>\n",
       "      <td>ka</td>\n",
       "      <td>5000</td>\n",
       "      <td>0</td>\n",
       "      <td>petrol</td>\n",
       "      <td>ford</td>\n",
       "      <td>NaN</td>\n",
       "      <td>2016-03-11 00:00:00</td>\n",
       "      <td>0</td>\n",
       "      <td>24148</td>\n",
       "      <td>2016-03-19 08:46:47</td>\n",
       "    </tr>\n",
       "    <tr>\n",
       "      <th>16</th>\n",
       "      <td>2016-04-01 12:46:46</td>\n",
       "      <td>300</td>\n",
       "      <td>other</td>\n",
       "      <td>2016</td>\n",
       "      <td>NaN</td>\n",
       "      <td>60</td>\n",
       "      <td>polo</td>\n",
       "      <td>150000</td>\n",
       "      <td>0</td>\n",
       "      <td>petrol</td>\n",
       "      <td>volkswagen</td>\n",
       "      <td>NaN</td>\n",
       "      <td>2016-04-01 00:00:00</td>\n",
       "      <td>0</td>\n",
       "      <td>38871</td>\n",
       "      <td>2016-04-01 12:46:46</td>\n",
       "    </tr>\n",
       "    <tr>\n",
       "      <th>32</th>\n",
       "      <td>2016-03-15 20:59:01</td>\n",
       "      <td>245</td>\n",
       "      <td>sedan</td>\n",
       "      <td>1994</td>\n",
       "      <td>NaN</td>\n",
       "      <td>0</td>\n",
       "      <td>golf</td>\n",
       "      <td>150000</td>\n",
       "      <td>2</td>\n",
       "      <td>petrol</td>\n",
       "      <td>volkswagen</td>\n",
       "      <td>no</td>\n",
       "      <td>2016-03-15 00:00:00</td>\n",
       "      <td>0</td>\n",
       "      <td>44145</td>\n",
       "      <td>2016-03-17 18:17:43</td>\n",
       "    </tr>\n",
       "    <tr>\n",
       "      <th>37</th>\n",
       "      <td>2016-03-28 17:50:15</td>\n",
       "      <td>1500</td>\n",
       "      <td>other</td>\n",
       "      <td>2016</td>\n",
       "      <td>NaN</td>\n",
       "      <td>0</td>\n",
       "      <td>kangoo</td>\n",
       "      <td>150000</td>\n",
       "      <td>1</td>\n",
       "      <td>gasoline</td>\n",
       "      <td>renault</td>\n",
       "      <td>no</td>\n",
       "      <td>2016-03-28 00:00:00</td>\n",
       "      <td>0</td>\n",
       "      <td>46483</td>\n",
       "      <td>2016-03-30 09:18:02</td>\n",
       "    </tr>\n",
       "    <tr>\n",
       "      <th>40</th>\n",
       "      <td>2016-03-26 22:06:17</td>\n",
       "      <td>0</td>\n",
       "      <td>other</td>\n",
       "      <td>1990</td>\n",
       "      <td>NaN</td>\n",
       "      <td>0</td>\n",
       "      <td>corsa</td>\n",
       "      <td>150000</td>\n",
       "      <td>1</td>\n",
       "      <td>petrol</td>\n",
       "      <td>opel</td>\n",
       "      <td>NaN</td>\n",
       "      <td>2016-03-26 00:00:00</td>\n",
       "      <td>0</td>\n",
       "      <td>56412</td>\n",
       "      <td>2016-03-27 17:43:34</td>\n",
       "    </tr>\n",
       "    <tr>\n",
       "      <th>69</th>\n",
       "      <td>2016-04-01 11:56:40</td>\n",
       "      <td>1200</td>\n",
       "      <td>coupe</td>\n",
       "      <td>2001</td>\n",
       "      <td>NaN</td>\n",
       "      <td>0</td>\n",
       "      <td>astra</td>\n",
       "      <td>150000</td>\n",
       "      <td>0</td>\n",
       "      <td>NaN</td>\n",
       "      <td>opel</td>\n",
       "      <td>NaN</td>\n",
       "      <td>2016-04-01 00:00:00</td>\n",
       "      <td>0</td>\n",
       "      <td>47249</td>\n",
       "      <td>2016-04-07 08:46:07</td>\n",
       "    </tr>\n",
       "    <tr>\n",
       "      <th>92</th>\n",
       "      <td>2016-03-16 07:56:19</td>\n",
       "      <td>250</td>\n",
       "      <td>other</td>\n",
       "      <td>2000</td>\n",
       "      <td>NaN</td>\n",
       "      <td>60</td>\n",
       "      <td>ka</td>\n",
       "      <td>150000</td>\n",
       "      <td>0</td>\n",
       "      <td>NaN</td>\n",
       "      <td>ford</td>\n",
       "      <td>NaN</td>\n",
       "      <td>2016-03-16 00:00:00</td>\n",
       "      <td>0</td>\n",
       "      <td>51427</td>\n",
       "      <td>2016-03-21 09:47:08</td>\n",
       "    </tr>\n",
       "    <tr>\n",
       "      <th>94</th>\n",
       "      <td>2016-03-28 16:37:43</td>\n",
       "      <td>8390</td>\n",
       "      <td>other</td>\n",
       "      <td>2009</td>\n",
       "      <td>NaN</td>\n",
       "      <td>0</td>\n",
       "      <td>insignia</td>\n",
       "      <td>150000</td>\n",
       "      <td>0</td>\n",
       "      <td>NaN</td>\n",
       "      <td>opel</td>\n",
       "      <td>NaN</td>\n",
       "      <td>2016-03-28 00:00:00</td>\n",
       "      <td>0</td>\n",
       "      <td>29221</td>\n",
       "      <td>2016-03-30 07:44:59</td>\n",
       "    </tr>\n",
       "    <tr>\n",
       "      <th>110</th>\n",
       "      <td>2016-04-03 03:57:26</td>\n",
       "      <td>350</td>\n",
       "      <td>small</td>\n",
       "      <td>1998</td>\n",
       "      <td>NaN</td>\n",
       "      <td>0</td>\n",
       "      <td>corsa</td>\n",
       "      <td>150000</td>\n",
       "      <td>2</td>\n",
       "      <td>petrol</td>\n",
       "      <td>opel</td>\n",
       "      <td>NaN</td>\n",
       "      <td>2016-04-03 00:00:00</td>\n",
       "      <td>0</td>\n",
       "      <td>82110</td>\n",
       "      <td>2016-04-03 08:53:37</td>\n",
       "    </tr>\n",
       "    <tr>\n",
       "      <th>115</th>\n",
       "      <td>2016-03-20 18:53:27</td>\n",
       "      <td>0</td>\n",
       "      <td>small</td>\n",
       "      <td>1999</td>\n",
       "      <td>NaN</td>\n",
       "      <td>0</td>\n",
       "      <td>NaN</td>\n",
       "      <td>5000</td>\n",
       "      <td>0</td>\n",
       "      <td>petrol</td>\n",
       "      <td>volkswagen</td>\n",
       "      <td>NaN</td>\n",
       "      <td>2016-03-20 00:00:00</td>\n",
       "      <td>0</td>\n",
       "      <td>37520</td>\n",
       "      <td>2016-04-07 02:45:22</td>\n",
       "    </tr>\n",
       "  </tbody>\n",
       "</table>\n",
       "</div>"
      ],
      "text/plain": [
       "            date_crawled  price vehicle_type  registration_year gearbox  \\\n",
       "15   2016-03-11 21:39:15    450        small               1910     NaN   \n",
       "16   2016-04-01 12:46:46    300        other               2016     NaN   \n",
       "32   2016-03-15 20:59:01    245        sedan               1994     NaN   \n",
       "37   2016-03-28 17:50:15   1500        other               2016     NaN   \n",
       "40   2016-03-26 22:06:17      0        other               1990     NaN   \n",
       "69   2016-04-01 11:56:40   1200        coupe               2001     NaN   \n",
       "92   2016-03-16 07:56:19    250        other               2000     NaN   \n",
       "94   2016-03-28 16:37:43   8390        other               2009     NaN   \n",
       "110  2016-04-03 03:57:26    350        small               1998     NaN   \n",
       "115  2016-03-20 18:53:27      0        small               1999     NaN   \n",
       "\n",
       "     power     model  kilometer  registration_month fuel_type       brand  \\\n",
       "15       0        ka       5000                   0    petrol        ford   \n",
       "16      60      polo     150000                   0    petrol  volkswagen   \n",
       "32       0      golf     150000                   2    petrol  volkswagen   \n",
       "37       0    kangoo     150000                   1  gasoline     renault   \n",
       "40       0     corsa     150000                   1    petrol        opel   \n",
       "69       0     astra     150000                   0       NaN        opel   \n",
       "92      60        ka     150000                   0       NaN        ford   \n",
       "94       0  insignia     150000                   0       NaN        opel   \n",
       "110      0     corsa     150000                   2    petrol        opel   \n",
       "115      0       NaN       5000                   0    petrol  volkswagen   \n",
       "\n",
       "    repaired         date_created  number_of_pictures  postal_code  \\\n",
       "15       NaN  2016-03-11 00:00:00                   0        24148   \n",
       "16       NaN  2016-04-01 00:00:00                   0        38871   \n",
       "32        no  2016-03-15 00:00:00                   0        44145   \n",
       "37        no  2016-03-28 00:00:00                   0        46483   \n",
       "40       NaN  2016-03-26 00:00:00                   0        56412   \n",
       "69       NaN  2016-04-01 00:00:00                   0        47249   \n",
       "92       NaN  2016-03-16 00:00:00                   0        51427   \n",
       "94       NaN  2016-03-28 00:00:00                   0        29221   \n",
       "110      NaN  2016-04-03 00:00:00                   0        82110   \n",
       "115      NaN  2016-03-20 00:00:00                   0        37520   \n",
       "\n",
       "               last_seen  \n",
       "15   2016-03-19 08:46:47  \n",
       "16   2016-04-01 12:46:46  \n",
       "32   2016-03-17 18:17:43  \n",
       "37   2016-03-30 09:18:02  \n",
       "40   2016-03-27 17:43:34  \n",
       "69   2016-04-07 08:46:07  \n",
       "92   2016-03-21 09:47:08  \n",
       "94   2016-03-30 07:44:59  \n",
       "110  2016-04-03 08:53:37  \n",
       "115  2016-04-07 02:45:22  "
      ]
     },
     "metadata": {},
     "output_type": "display_data"
    }
   ],
   "source": [
    "display(data.loc[data['gearbox'].isna()].head(10))"
   ]
  },
  {
   "cell_type": "markdown",
   "id": "e079601d",
   "metadata": {
    "id": "e079601d"
   },
   "source": [
    "Пропуски выглядят случайными. Используем заглушку 'unknown', чтобы не удалять данные."
   ]
  },
  {
   "cell_type": "markdown",
   "id": "2f8d609f",
   "metadata": {
    "id": "2f8d609f"
   },
   "source": [
    "Изучим пропуски в `'model'`"
   ]
  },
  {
   "cell_type": "code",
   "execution_count": 10,
   "id": "141d4ec5",
   "metadata": {
    "colab": {
     "base_uri": "https://localhost:8080/",
     "height": 537
    },
    "id": "141d4ec5",
    "outputId": "2895fac7-9246-462b-a50d-0bfc2bbdcc4f"
   },
   "outputs": [
    {
     "data": {
      "text/html": [
       "<div>\n",
       "<style scoped>\n",
       "    .dataframe tbody tr th:only-of-type {\n",
       "        vertical-align: middle;\n",
       "    }\n",
       "\n",
       "    .dataframe tbody tr th {\n",
       "        vertical-align: top;\n",
       "    }\n",
       "\n",
       "    .dataframe thead th {\n",
       "        text-align: right;\n",
       "    }\n",
       "</style>\n",
       "<table border=\"1\" class=\"dataframe\">\n",
       "  <thead>\n",
       "    <tr style=\"text-align: right;\">\n",
       "      <th></th>\n",
       "      <th>date_crawled</th>\n",
       "      <th>price</th>\n",
       "      <th>vehicle_type</th>\n",
       "      <th>registration_year</th>\n",
       "      <th>gearbox</th>\n",
       "      <th>power</th>\n",
       "      <th>model</th>\n",
       "      <th>kilometer</th>\n",
       "      <th>registration_month</th>\n",
       "      <th>fuel_type</th>\n",
       "      <th>brand</th>\n",
       "      <th>repaired</th>\n",
       "      <th>date_created</th>\n",
       "      <th>number_of_pictures</th>\n",
       "      <th>postal_code</th>\n",
       "      <th>last_seen</th>\n",
       "    </tr>\n",
       "  </thead>\n",
       "  <tbody>\n",
       "    <tr>\n",
       "      <th>1</th>\n",
       "      <td>2016-03-24 10:58:45</td>\n",
       "      <td>18300</td>\n",
       "      <td>coupe</td>\n",
       "      <td>2011</td>\n",
       "      <td>manual</td>\n",
       "      <td>190</td>\n",
       "      <td>NaN</td>\n",
       "      <td>125000</td>\n",
       "      <td>5</td>\n",
       "      <td>gasoline</td>\n",
       "      <td>audi</td>\n",
       "      <td>yes</td>\n",
       "      <td>2016-03-24 00:00:00</td>\n",
       "      <td>0</td>\n",
       "      <td>66954</td>\n",
       "      <td>2016-04-07 01:46:50</td>\n",
       "    </tr>\n",
       "    <tr>\n",
       "      <th>59</th>\n",
       "      <td>2016-03-29 15:48:15</td>\n",
       "      <td>1</td>\n",
       "      <td>suv</td>\n",
       "      <td>1994</td>\n",
       "      <td>manual</td>\n",
       "      <td>286</td>\n",
       "      <td>NaN</td>\n",
       "      <td>150000</td>\n",
       "      <td>11</td>\n",
       "      <td>NaN</td>\n",
       "      <td>sonstige_autos</td>\n",
       "      <td>NaN</td>\n",
       "      <td>2016-03-29 00:00:00</td>\n",
       "      <td>0</td>\n",
       "      <td>53721</td>\n",
       "      <td>2016-04-06 01:44:38</td>\n",
       "    </tr>\n",
       "    <tr>\n",
       "      <th>81</th>\n",
       "      <td>2016-04-03 12:56:45</td>\n",
       "      <td>350</td>\n",
       "      <td>small</td>\n",
       "      <td>1997</td>\n",
       "      <td>manual</td>\n",
       "      <td>54</td>\n",
       "      <td>NaN</td>\n",
       "      <td>150000</td>\n",
       "      <td>3</td>\n",
       "      <td>NaN</td>\n",
       "      <td>fiat</td>\n",
       "      <td>yes</td>\n",
       "      <td>2016-04-03 00:00:00</td>\n",
       "      <td>0</td>\n",
       "      <td>45665</td>\n",
       "      <td>2016-04-05 11:47:13</td>\n",
       "    </tr>\n",
       "    <tr>\n",
       "      <th>115</th>\n",
       "      <td>2016-03-20 18:53:27</td>\n",
       "      <td>0</td>\n",
       "      <td>small</td>\n",
       "      <td>1999</td>\n",
       "      <td>NaN</td>\n",
       "      <td>0</td>\n",
       "      <td>NaN</td>\n",
       "      <td>5000</td>\n",
       "      <td>0</td>\n",
       "      <td>petrol</td>\n",
       "      <td>volkswagen</td>\n",
       "      <td>NaN</td>\n",
       "      <td>2016-03-20 00:00:00</td>\n",
       "      <td>0</td>\n",
       "      <td>37520</td>\n",
       "      <td>2016-04-07 02:45:22</td>\n",
       "    </tr>\n",
       "    <tr>\n",
       "      <th>135</th>\n",
       "      <td>2016-03-27 20:51:23</td>\n",
       "      <td>1450</td>\n",
       "      <td>sedan</td>\n",
       "      <td>1992</td>\n",
       "      <td>manual</td>\n",
       "      <td>136</td>\n",
       "      <td>NaN</td>\n",
       "      <td>150000</td>\n",
       "      <td>0</td>\n",
       "      <td>NaN</td>\n",
       "      <td>audi</td>\n",
       "      <td>no</td>\n",
       "      <td>2016-03-27 00:00:00</td>\n",
       "      <td>0</td>\n",
       "      <td>38709</td>\n",
       "      <td>2016-04-05 20:17:31</td>\n",
       "    </tr>\n",
       "    <tr>\n",
       "      <th>151</th>\n",
       "      <td>2016-03-27 20:47:22</td>\n",
       "      <td>6799</td>\n",
       "      <td>small</td>\n",
       "      <td>2009</td>\n",
       "      <td>NaN</td>\n",
       "      <td>60</td>\n",
       "      <td>NaN</td>\n",
       "      <td>20000</td>\n",
       "      <td>5</td>\n",
       "      <td>petrol</td>\n",
       "      <td>volkswagen</td>\n",
       "      <td>no</td>\n",
       "      <td>2016-03-27 00:00:00</td>\n",
       "      <td>0</td>\n",
       "      <td>89077</td>\n",
       "      <td>2016-03-27 20:47:22</td>\n",
       "    </tr>\n",
       "    <tr>\n",
       "      <th>160</th>\n",
       "      <td>2016-03-19 19:49:15</td>\n",
       "      <td>500</td>\n",
       "      <td>small</td>\n",
       "      <td>1999</td>\n",
       "      <td>manual</td>\n",
       "      <td>0</td>\n",
       "      <td>NaN</td>\n",
       "      <td>150000</td>\n",
       "      <td>0</td>\n",
       "      <td>petrol</td>\n",
       "      <td>renault</td>\n",
       "      <td>no</td>\n",
       "      <td>2016-03-19 00:00:00</td>\n",
       "      <td>0</td>\n",
       "      <td>26969</td>\n",
       "      <td>2016-04-01 11:17:48</td>\n",
       "    </tr>\n",
       "    <tr>\n",
       "      <th>161</th>\n",
       "      <td>2016-03-28 10:50:04</td>\n",
       "      <td>1495</td>\n",
       "      <td>wagon</td>\n",
       "      <td>2001</td>\n",
       "      <td>NaN</td>\n",
       "      <td>64</td>\n",
       "      <td>NaN</td>\n",
       "      <td>150000</td>\n",
       "      <td>9</td>\n",
       "      <td>gasoline</td>\n",
       "      <td>volkswagen</td>\n",
       "      <td>NaN</td>\n",
       "      <td>2016-03-28 00:00:00</td>\n",
       "      <td>0</td>\n",
       "      <td>99086</td>\n",
       "      <td>2016-04-04 11:45:46</td>\n",
       "    </tr>\n",
       "    <tr>\n",
       "      <th>186</th>\n",
       "      <td>2016-03-16 15:51:08</td>\n",
       "      <td>14000</td>\n",
       "      <td>sedan</td>\n",
       "      <td>2008</td>\n",
       "      <td>NaN</td>\n",
       "      <td>235</td>\n",
       "      <td>NaN</td>\n",
       "      <td>150000</td>\n",
       "      <td>0</td>\n",
       "      <td>NaN</td>\n",
       "      <td>bmw</td>\n",
       "      <td>no</td>\n",
       "      <td>2016-02-12 00:00:00</td>\n",
       "      <td>0</td>\n",
       "      <td>95131</td>\n",
       "      <td>2016-04-07 14:56:12</td>\n",
       "    </tr>\n",
       "    <tr>\n",
       "      <th>193</th>\n",
       "      <td>2016-03-27 12:47:45</td>\n",
       "      <td>1200</td>\n",
       "      <td>coupe</td>\n",
       "      <td>1990</td>\n",
       "      <td>manual</td>\n",
       "      <td>45</td>\n",
       "      <td>NaN</td>\n",
       "      <td>150000</td>\n",
       "      <td>0</td>\n",
       "      <td>petrol</td>\n",
       "      <td>volkswagen</td>\n",
       "      <td>NaN</td>\n",
       "      <td>2016-03-27 00:00:00</td>\n",
       "      <td>0</td>\n",
       "      <td>83317</td>\n",
       "      <td>2016-04-07 08:17:08</td>\n",
       "    </tr>\n",
       "  </tbody>\n",
       "</table>\n",
       "</div>"
      ],
      "text/plain": [
       "            date_crawled  price vehicle_type  registration_year gearbox  \\\n",
       "1    2016-03-24 10:58:45  18300        coupe               2011  manual   \n",
       "59   2016-03-29 15:48:15      1          suv               1994  manual   \n",
       "81   2016-04-03 12:56:45    350        small               1997  manual   \n",
       "115  2016-03-20 18:53:27      0        small               1999     NaN   \n",
       "135  2016-03-27 20:51:23   1450        sedan               1992  manual   \n",
       "151  2016-03-27 20:47:22   6799        small               2009     NaN   \n",
       "160  2016-03-19 19:49:15    500        small               1999  manual   \n",
       "161  2016-03-28 10:50:04   1495        wagon               2001     NaN   \n",
       "186  2016-03-16 15:51:08  14000        sedan               2008     NaN   \n",
       "193  2016-03-27 12:47:45   1200        coupe               1990  manual   \n",
       "\n",
       "     power model  kilometer  registration_month fuel_type           brand  \\\n",
       "1      190   NaN     125000                   5  gasoline            audi   \n",
       "59     286   NaN     150000                  11       NaN  sonstige_autos   \n",
       "81      54   NaN     150000                   3       NaN            fiat   \n",
       "115      0   NaN       5000                   0    petrol      volkswagen   \n",
       "135    136   NaN     150000                   0       NaN            audi   \n",
       "151     60   NaN      20000                   5    petrol      volkswagen   \n",
       "160      0   NaN     150000                   0    petrol         renault   \n",
       "161     64   NaN     150000                   9  gasoline      volkswagen   \n",
       "186    235   NaN     150000                   0       NaN             bmw   \n",
       "193     45   NaN     150000                   0    petrol      volkswagen   \n",
       "\n",
       "    repaired         date_created  number_of_pictures  postal_code  \\\n",
       "1        yes  2016-03-24 00:00:00                   0        66954   \n",
       "59       NaN  2016-03-29 00:00:00                   0        53721   \n",
       "81       yes  2016-04-03 00:00:00                   0        45665   \n",
       "115      NaN  2016-03-20 00:00:00                   0        37520   \n",
       "135       no  2016-03-27 00:00:00                   0        38709   \n",
       "151       no  2016-03-27 00:00:00                   0        89077   \n",
       "160       no  2016-03-19 00:00:00                   0        26969   \n",
       "161      NaN  2016-03-28 00:00:00                   0        99086   \n",
       "186       no  2016-02-12 00:00:00                   0        95131   \n",
       "193      NaN  2016-03-27 00:00:00                   0        83317   \n",
       "\n",
       "               last_seen  \n",
       "1    2016-04-07 01:46:50  \n",
       "59   2016-04-06 01:44:38  \n",
       "81   2016-04-05 11:47:13  \n",
       "115  2016-04-07 02:45:22  \n",
       "135  2016-04-05 20:17:31  \n",
       "151  2016-03-27 20:47:22  \n",
       "160  2016-04-01 11:17:48  \n",
       "161  2016-04-04 11:45:46  \n",
       "186  2016-04-07 14:56:12  \n",
       "193  2016-04-07 08:17:08  "
      ]
     },
     "metadata": {},
     "output_type": "display_data"
    }
   ],
   "source": [
    "display(data.loc[data['model'].isna()].head(10))"
   ]
  },
  {
   "cell_type": "markdown",
   "id": "37c88d0c",
   "metadata": {
    "id": "37c88d0c"
   },
   "source": [
    "Пропуски выглядят случайными. Используем заглушку 'unknown', чтобы не удалять данные."
   ]
  },
  {
   "cell_type": "markdown",
   "id": "164db205",
   "metadata": {
    "id": "164db205"
   },
   "source": [
    "Изучим пропуски в `'fuel_type'`"
   ]
  },
  {
   "cell_type": "code",
   "execution_count": 11,
   "id": "65d7d323",
   "metadata": {
    "colab": {
     "base_uri": "https://localhost:8080/",
     "height": 537
    },
    "id": "65d7d323",
    "outputId": "7659b5fb-4ed7-4f1c-cf79-88dce6d5a87b"
   },
   "outputs": [
    {
     "data": {
      "text/html": [
       "<div>\n",
       "<style scoped>\n",
       "    .dataframe tbody tr th:only-of-type {\n",
       "        vertical-align: middle;\n",
       "    }\n",
       "\n",
       "    .dataframe tbody tr th {\n",
       "        vertical-align: top;\n",
       "    }\n",
       "\n",
       "    .dataframe thead th {\n",
       "        text-align: right;\n",
       "    }\n",
       "</style>\n",
       "<table border=\"1\" class=\"dataframe\">\n",
       "  <thead>\n",
       "    <tr style=\"text-align: right;\">\n",
       "      <th></th>\n",
       "      <th>date_crawled</th>\n",
       "      <th>price</th>\n",
       "      <th>vehicle_type</th>\n",
       "      <th>registration_year</th>\n",
       "      <th>gearbox</th>\n",
       "      <th>power</th>\n",
       "      <th>model</th>\n",
       "      <th>kilometer</th>\n",
       "      <th>registration_month</th>\n",
       "      <th>fuel_type</th>\n",
       "      <th>brand</th>\n",
       "      <th>repaired</th>\n",
       "      <th>date_created</th>\n",
       "      <th>number_of_pictures</th>\n",
       "      <th>postal_code</th>\n",
       "      <th>last_seen</th>\n",
       "    </tr>\n",
       "  </thead>\n",
       "  <tbody>\n",
       "    <tr>\n",
       "      <th>9</th>\n",
       "      <td>2016-03-17 10:53:50</td>\n",
       "      <td>999</td>\n",
       "      <td>small</td>\n",
       "      <td>1998</td>\n",
       "      <td>manual</td>\n",
       "      <td>101</td>\n",
       "      <td>golf</td>\n",
       "      <td>150000</td>\n",
       "      <td>0</td>\n",
       "      <td>NaN</td>\n",
       "      <td>volkswagen</td>\n",
       "      <td>NaN</td>\n",
       "      <td>2016-03-17 00:00:00</td>\n",
       "      <td>0</td>\n",
       "      <td>27472</td>\n",
       "      <td>2016-03-31 17:17:06</td>\n",
       "    </tr>\n",
       "    <tr>\n",
       "      <th>13</th>\n",
       "      <td>2016-03-21 21:37:40</td>\n",
       "      <td>2500</td>\n",
       "      <td>wagon</td>\n",
       "      <td>2004</td>\n",
       "      <td>manual</td>\n",
       "      <td>131</td>\n",
       "      <td>passat</td>\n",
       "      <td>150000</td>\n",
       "      <td>2</td>\n",
       "      <td>NaN</td>\n",
       "      <td>volkswagen</td>\n",
       "      <td>no</td>\n",
       "      <td>2016-03-21 00:00:00</td>\n",
       "      <td>0</td>\n",
       "      <td>90762</td>\n",
       "      <td>2016-03-23 02:50:54</td>\n",
       "    </tr>\n",
       "    <tr>\n",
       "      <th>26</th>\n",
       "      <td>2016-03-10 19:38:18</td>\n",
       "      <td>5555</td>\n",
       "      <td>other</td>\n",
       "      <td>2017</td>\n",
       "      <td>manual</td>\n",
       "      <td>125</td>\n",
       "      <td>c4</td>\n",
       "      <td>125000</td>\n",
       "      <td>4</td>\n",
       "      <td>NaN</td>\n",
       "      <td>citroen</td>\n",
       "      <td>no</td>\n",
       "      <td>2016-03-10 00:00:00</td>\n",
       "      <td>0</td>\n",
       "      <td>31139</td>\n",
       "      <td>2016-03-16 09:16:46</td>\n",
       "    </tr>\n",
       "    <tr>\n",
       "      <th>36</th>\n",
       "      <td>2016-03-11 11:50:37</td>\n",
       "      <td>1600</td>\n",
       "      <td>other</td>\n",
       "      <td>1991</td>\n",
       "      <td>manual</td>\n",
       "      <td>75</td>\n",
       "      <td>kadett</td>\n",
       "      <td>70000</td>\n",
       "      <td>0</td>\n",
       "      <td>NaN</td>\n",
       "      <td>opel</td>\n",
       "      <td>NaN</td>\n",
       "      <td>2016-03-11 00:00:00</td>\n",
       "      <td>0</td>\n",
       "      <td>2943</td>\n",
       "      <td>2016-04-07 03:46:09</td>\n",
       "    </tr>\n",
       "    <tr>\n",
       "      <th>41</th>\n",
       "      <td>2016-03-30 20:38:20</td>\n",
       "      <td>7500</td>\n",
       "      <td>sedan</td>\n",
       "      <td>2002</td>\n",
       "      <td>auto</td>\n",
       "      <td>306</td>\n",
       "      <td>e_klasse</td>\n",
       "      <td>150000</td>\n",
       "      <td>4</td>\n",
       "      <td>NaN</td>\n",
       "      <td>mercedes_benz</td>\n",
       "      <td>NaN</td>\n",
       "      <td>2016-03-30 00:00:00</td>\n",
       "      <td>0</td>\n",
       "      <td>33649</td>\n",
       "      <td>2016-04-03 11:44:49</td>\n",
       "    </tr>\n",
       "    <tr>\n",
       "      <th>52</th>\n",
       "      <td>2016-04-04 10:57:36</td>\n",
       "      <td>1400</td>\n",
       "      <td>other</td>\n",
       "      <td>2016</td>\n",
       "      <td>manual</td>\n",
       "      <td>55</td>\n",
       "      <td>other</td>\n",
       "      <td>5000</td>\n",
       "      <td>1</td>\n",
       "      <td>NaN</td>\n",
       "      <td>hyundai</td>\n",
       "      <td>NaN</td>\n",
       "      <td>2016-04-04 00:00:00</td>\n",
       "      <td>0</td>\n",
       "      <td>34454</td>\n",
       "      <td>2016-04-06 12:45:43</td>\n",
       "    </tr>\n",
       "    <tr>\n",
       "      <th>54</th>\n",
       "      <td>2016-03-17 07:56:40</td>\n",
       "      <td>4700</td>\n",
       "      <td>wagon</td>\n",
       "      <td>2005</td>\n",
       "      <td>manual</td>\n",
       "      <td>0</td>\n",
       "      <td>signum</td>\n",
       "      <td>150000</td>\n",
       "      <td>0</td>\n",
       "      <td>NaN</td>\n",
       "      <td>opel</td>\n",
       "      <td>no</td>\n",
       "      <td>2016-03-17 00:00:00</td>\n",
       "      <td>0</td>\n",
       "      <td>88433</td>\n",
       "      <td>2016-04-04 04:17:32</td>\n",
       "    </tr>\n",
       "    <tr>\n",
       "      <th>57</th>\n",
       "      <td>2016-03-10 20:53:19</td>\n",
       "      <td>2399</td>\n",
       "      <td>other</td>\n",
       "      <td>2018</td>\n",
       "      <td>manual</td>\n",
       "      <td>64</td>\n",
       "      <td>other</td>\n",
       "      <td>125000</td>\n",
       "      <td>3</td>\n",
       "      <td>NaN</td>\n",
       "      <td>seat</td>\n",
       "      <td>no</td>\n",
       "      <td>2016-03-10 00:00:00</td>\n",
       "      <td>0</td>\n",
       "      <td>33397</td>\n",
       "      <td>2016-03-25 10:17:37</td>\n",
       "    </tr>\n",
       "    <tr>\n",
       "      <th>59</th>\n",
       "      <td>2016-03-29 15:48:15</td>\n",
       "      <td>1</td>\n",
       "      <td>suv</td>\n",
       "      <td>1994</td>\n",
       "      <td>manual</td>\n",
       "      <td>286</td>\n",
       "      <td>NaN</td>\n",
       "      <td>150000</td>\n",
       "      <td>11</td>\n",
       "      <td>NaN</td>\n",
       "      <td>sonstige_autos</td>\n",
       "      <td>NaN</td>\n",
       "      <td>2016-03-29 00:00:00</td>\n",
       "      <td>0</td>\n",
       "      <td>53721</td>\n",
       "      <td>2016-04-06 01:44:38</td>\n",
       "    </tr>\n",
       "    <tr>\n",
       "      <th>65</th>\n",
       "      <td>2016-03-28 17:41:27</td>\n",
       "      <td>10900</td>\n",
       "      <td>other</td>\n",
       "      <td>2017</td>\n",
       "      <td>manual</td>\n",
       "      <td>101</td>\n",
       "      <td>astra</td>\n",
       "      <td>50000</td>\n",
       "      <td>3</td>\n",
       "      <td>NaN</td>\n",
       "      <td>opel</td>\n",
       "      <td>no</td>\n",
       "      <td>2016-03-28 00:00:00</td>\n",
       "      <td>0</td>\n",
       "      <td>63607</td>\n",
       "      <td>2016-04-06 23:15:52</td>\n",
       "    </tr>\n",
       "  </tbody>\n",
       "</table>\n",
       "</div>"
      ],
      "text/plain": [
       "           date_crawled  price vehicle_type  registration_year gearbox  power  \\\n",
       "9   2016-03-17 10:53:50    999        small               1998  manual    101   \n",
       "13  2016-03-21 21:37:40   2500        wagon               2004  manual    131   \n",
       "26  2016-03-10 19:38:18   5555        other               2017  manual    125   \n",
       "36  2016-03-11 11:50:37   1600        other               1991  manual     75   \n",
       "41  2016-03-30 20:38:20   7500        sedan               2002    auto    306   \n",
       "52  2016-04-04 10:57:36   1400        other               2016  manual     55   \n",
       "54  2016-03-17 07:56:40   4700        wagon               2005  manual      0   \n",
       "57  2016-03-10 20:53:19   2399        other               2018  manual     64   \n",
       "59  2016-03-29 15:48:15      1          suv               1994  manual    286   \n",
       "65  2016-03-28 17:41:27  10900        other               2017  manual    101   \n",
       "\n",
       "       model  kilometer  registration_month fuel_type           brand  \\\n",
       "9       golf     150000                   0       NaN      volkswagen   \n",
       "13    passat     150000                   2       NaN      volkswagen   \n",
       "26        c4     125000                   4       NaN         citroen   \n",
       "36    kadett      70000                   0       NaN            opel   \n",
       "41  e_klasse     150000                   4       NaN   mercedes_benz   \n",
       "52     other       5000                   1       NaN         hyundai   \n",
       "54    signum     150000                   0       NaN            opel   \n",
       "57     other     125000                   3       NaN            seat   \n",
       "59       NaN     150000                  11       NaN  sonstige_autos   \n",
       "65     astra      50000                   3       NaN            opel   \n",
       "\n",
       "   repaired         date_created  number_of_pictures  postal_code  \\\n",
       "9       NaN  2016-03-17 00:00:00                   0        27472   \n",
       "13       no  2016-03-21 00:00:00                   0        90762   \n",
       "26       no  2016-03-10 00:00:00                   0        31139   \n",
       "36      NaN  2016-03-11 00:00:00                   0         2943   \n",
       "41      NaN  2016-03-30 00:00:00                   0        33649   \n",
       "52      NaN  2016-04-04 00:00:00                   0        34454   \n",
       "54       no  2016-03-17 00:00:00                   0        88433   \n",
       "57       no  2016-03-10 00:00:00                   0        33397   \n",
       "59      NaN  2016-03-29 00:00:00                   0        53721   \n",
       "65       no  2016-03-28 00:00:00                   0        63607   \n",
       "\n",
       "              last_seen  \n",
       "9   2016-03-31 17:17:06  \n",
       "13  2016-03-23 02:50:54  \n",
       "26  2016-03-16 09:16:46  \n",
       "36  2016-04-07 03:46:09  \n",
       "41  2016-04-03 11:44:49  \n",
       "52  2016-04-06 12:45:43  \n",
       "54  2016-04-04 04:17:32  \n",
       "57  2016-03-25 10:17:37  \n",
       "59  2016-04-06 01:44:38  \n",
       "65  2016-04-06 23:15:52  "
      ]
     },
     "metadata": {},
     "output_type": "display_data"
    }
   ],
   "source": [
    "display(data.loc[data['fuel_type'].isna()].head(10))"
   ]
  },
  {
   "cell_type": "markdown",
   "id": "d252fc75",
   "metadata": {
    "id": "d252fc75"
   },
   "source": [
    "Пропуски выглядят случайными. Используем заглушку 'unknown', чтобы не удалять данные."
   ]
  },
  {
   "cell_type": "markdown",
   "id": "0c5164c5",
   "metadata": {
    "id": "0c5164c5"
   },
   "source": [
    "Изучим пропуски в `'repaired'`"
   ]
  },
  {
   "cell_type": "code",
   "execution_count": 12,
   "id": "8adca22d",
   "metadata": {
    "colab": {
     "base_uri": "https://localhost:8080/",
     "height": 537
    },
    "id": "8adca22d",
    "outputId": "41ee1e41-3117-4d58-86f6-6653bc8d1e36"
   },
   "outputs": [
    {
     "data": {
      "text/html": [
       "<div>\n",
       "<style scoped>\n",
       "    .dataframe tbody tr th:only-of-type {\n",
       "        vertical-align: middle;\n",
       "    }\n",
       "\n",
       "    .dataframe tbody tr th {\n",
       "        vertical-align: top;\n",
       "    }\n",
       "\n",
       "    .dataframe thead th {\n",
       "        text-align: right;\n",
       "    }\n",
       "</style>\n",
       "<table border=\"1\" class=\"dataframe\">\n",
       "  <thead>\n",
       "    <tr style=\"text-align: right;\">\n",
       "      <th></th>\n",
       "      <th>date_crawled</th>\n",
       "      <th>price</th>\n",
       "      <th>vehicle_type</th>\n",
       "      <th>registration_year</th>\n",
       "      <th>gearbox</th>\n",
       "      <th>power</th>\n",
       "      <th>model</th>\n",
       "      <th>kilometer</th>\n",
       "      <th>registration_month</th>\n",
       "      <th>fuel_type</th>\n",
       "      <th>brand</th>\n",
       "      <th>repaired</th>\n",
       "      <th>date_created</th>\n",
       "      <th>number_of_pictures</th>\n",
       "      <th>postal_code</th>\n",
       "      <th>last_seen</th>\n",
       "    </tr>\n",
       "  </thead>\n",
       "  <tbody>\n",
       "    <tr>\n",
       "      <th>0</th>\n",
       "      <td>2016-03-24 11:52:17</td>\n",
       "      <td>480</td>\n",
       "      <td>other</td>\n",
       "      <td>1993</td>\n",
       "      <td>manual</td>\n",
       "      <td>0</td>\n",
       "      <td>golf</td>\n",
       "      <td>150000</td>\n",
       "      <td>0</td>\n",
       "      <td>petrol</td>\n",
       "      <td>volkswagen</td>\n",
       "      <td>NaN</td>\n",
       "      <td>2016-03-24 00:00:00</td>\n",
       "      <td>0</td>\n",
       "      <td>70435</td>\n",
       "      <td>2016-04-07 03:16:57</td>\n",
       "    </tr>\n",
       "    <tr>\n",
       "      <th>2</th>\n",
       "      <td>2016-03-14 12:52:21</td>\n",
       "      <td>9800</td>\n",
       "      <td>suv</td>\n",
       "      <td>2004</td>\n",
       "      <td>auto</td>\n",
       "      <td>163</td>\n",
       "      <td>grand</td>\n",
       "      <td>125000</td>\n",
       "      <td>8</td>\n",
       "      <td>gasoline</td>\n",
       "      <td>jeep</td>\n",
       "      <td>NaN</td>\n",
       "      <td>2016-03-14 00:00:00</td>\n",
       "      <td>0</td>\n",
       "      <td>90480</td>\n",
       "      <td>2016-04-05 12:47:46</td>\n",
       "    </tr>\n",
       "    <tr>\n",
       "      <th>8</th>\n",
       "      <td>2016-04-04 23:42:13</td>\n",
       "      <td>14500</td>\n",
       "      <td>bus</td>\n",
       "      <td>2014</td>\n",
       "      <td>manual</td>\n",
       "      <td>125</td>\n",
       "      <td>c_max</td>\n",
       "      <td>30000</td>\n",
       "      <td>8</td>\n",
       "      <td>petrol</td>\n",
       "      <td>ford</td>\n",
       "      <td>NaN</td>\n",
       "      <td>2016-04-04 00:00:00</td>\n",
       "      <td>0</td>\n",
       "      <td>94505</td>\n",
       "      <td>2016-04-04 23:42:13</td>\n",
       "    </tr>\n",
       "    <tr>\n",
       "      <th>9</th>\n",
       "      <td>2016-03-17 10:53:50</td>\n",
       "      <td>999</td>\n",
       "      <td>small</td>\n",
       "      <td>1998</td>\n",
       "      <td>manual</td>\n",
       "      <td>101</td>\n",
       "      <td>golf</td>\n",
       "      <td>150000</td>\n",
       "      <td>0</td>\n",
       "      <td>NaN</td>\n",
       "      <td>volkswagen</td>\n",
       "      <td>NaN</td>\n",
       "      <td>2016-03-17 00:00:00</td>\n",
       "      <td>0</td>\n",
       "      <td>27472</td>\n",
       "      <td>2016-03-31 17:17:06</td>\n",
       "    </tr>\n",
       "    <tr>\n",
       "      <th>12</th>\n",
       "      <td>2016-03-15 22:49:09</td>\n",
       "      <td>999</td>\n",
       "      <td>wagon</td>\n",
       "      <td>1995</td>\n",
       "      <td>manual</td>\n",
       "      <td>115</td>\n",
       "      <td>passat</td>\n",
       "      <td>150000</td>\n",
       "      <td>11</td>\n",
       "      <td>petrol</td>\n",
       "      <td>volkswagen</td>\n",
       "      <td>NaN</td>\n",
       "      <td>2016-03-15 00:00:00</td>\n",
       "      <td>0</td>\n",
       "      <td>37269</td>\n",
       "      <td>2016-04-01 13:16:16</td>\n",
       "    </tr>\n",
       "    <tr>\n",
       "      <th>15</th>\n",
       "      <td>2016-03-11 21:39:15</td>\n",
       "      <td>450</td>\n",
       "      <td>small</td>\n",
       "      <td>1910</td>\n",
       "      <td>NaN</td>\n",
       "      <td>0</td>\n",
       "      <td>ka</td>\n",
       "      <td>5000</td>\n",
       "      <td>0</td>\n",
       "      <td>petrol</td>\n",
       "      <td>ford</td>\n",
       "      <td>NaN</td>\n",
       "      <td>2016-03-11 00:00:00</td>\n",
       "      <td>0</td>\n",
       "      <td>24148</td>\n",
       "      <td>2016-03-19 08:46:47</td>\n",
       "    </tr>\n",
       "    <tr>\n",
       "      <th>16</th>\n",
       "      <td>2016-04-01 12:46:46</td>\n",
       "      <td>300</td>\n",
       "      <td>other</td>\n",
       "      <td>2016</td>\n",
       "      <td>NaN</td>\n",
       "      <td>60</td>\n",
       "      <td>polo</td>\n",
       "      <td>150000</td>\n",
       "      <td>0</td>\n",
       "      <td>petrol</td>\n",
       "      <td>volkswagen</td>\n",
       "      <td>NaN</td>\n",
       "      <td>2016-04-01 00:00:00</td>\n",
       "      <td>0</td>\n",
       "      <td>38871</td>\n",
       "      <td>2016-04-01 12:46:46</td>\n",
       "    </tr>\n",
       "    <tr>\n",
       "      <th>31</th>\n",
       "      <td>2016-03-29 16:57:02</td>\n",
       "      <td>899</td>\n",
       "      <td>other</td>\n",
       "      <td>2016</td>\n",
       "      <td>manual</td>\n",
       "      <td>60</td>\n",
       "      <td>clio</td>\n",
       "      <td>150000</td>\n",
       "      <td>6</td>\n",
       "      <td>petrol</td>\n",
       "      <td>renault</td>\n",
       "      <td>NaN</td>\n",
       "      <td>2016-03-29 00:00:00</td>\n",
       "      <td>0</td>\n",
       "      <td>37075</td>\n",
       "      <td>2016-03-29 17:43:07</td>\n",
       "    </tr>\n",
       "    <tr>\n",
       "      <th>36</th>\n",
       "      <td>2016-03-11 11:50:37</td>\n",
       "      <td>1600</td>\n",
       "      <td>other</td>\n",
       "      <td>1991</td>\n",
       "      <td>manual</td>\n",
       "      <td>75</td>\n",
       "      <td>kadett</td>\n",
       "      <td>70000</td>\n",
       "      <td>0</td>\n",
       "      <td>NaN</td>\n",
       "      <td>opel</td>\n",
       "      <td>NaN</td>\n",
       "      <td>2016-03-11 00:00:00</td>\n",
       "      <td>0</td>\n",
       "      <td>2943</td>\n",
       "      <td>2016-04-07 03:46:09</td>\n",
       "    </tr>\n",
       "    <tr>\n",
       "      <th>40</th>\n",
       "      <td>2016-03-26 22:06:17</td>\n",
       "      <td>0</td>\n",
       "      <td>other</td>\n",
       "      <td>1990</td>\n",
       "      <td>NaN</td>\n",
       "      <td>0</td>\n",
       "      <td>corsa</td>\n",
       "      <td>150000</td>\n",
       "      <td>1</td>\n",
       "      <td>petrol</td>\n",
       "      <td>opel</td>\n",
       "      <td>NaN</td>\n",
       "      <td>2016-03-26 00:00:00</td>\n",
       "      <td>0</td>\n",
       "      <td>56412</td>\n",
       "      <td>2016-03-27 17:43:34</td>\n",
       "    </tr>\n",
       "  </tbody>\n",
       "</table>\n",
       "</div>"
      ],
      "text/plain": [
       "           date_crawled  price vehicle_type  registration_year gearbox  power  \\\n",
       "0   2016-03-24 11:52:17    480        other               1993  manual      0   \n",
       "2   2016-03-14 12:52:21   9800          suv               2004    auto    163   \n",
       "8   2016-04-04 23:42:13  14500          bus               2014  manual    125   \n",
       "9   2016-03-17 10:53:50    999        small               1998  manual    101   \n",
       "12  2016-03-15 22:49:09    999        wagon               1995  manual    115   \n",
       "15  2016-03-11 21:39:15    450        small               1910     NaN      0   \n",
       "16  2016-04-01 12:46:46    300        other               2016     NaN     60   \n",
       "31  2016-03-29 16:57:02    899        other               2016  manual     60   \n",
       "36  2016-03-11 11:50:37   1600        other               1991  manual     75   \n",
       "40  2016-03-26 22:06:17      0        other               1990     NaN      0   \n",
       "\n",
       "     model  kilometer  registration_month fuel_type       brand repaired  \\\n",
       "0     golf     150000                   0    petrol  volkswagen      NaN   \n",
       "2    grand     125000                   8  gasoline        jeep      NaN   \n",
       "8    c_max      30000                   8    petrol        ford      NaN   \n",
       "9     golf     150000                   0       NaN  volkswagen      NaN   \n",
       "12  passat     150000                  11    petrol  volkswagen      NaN   \n",
       "15      ka       5000                   0    petrol        ford      NaN   \n",
       "16    polo     150000                   0    petrol  volkswagen      NaN   \n",
       "31    clio     150000                   6    petrol     renault      NaN   \n",
       "36  kadett      70000                   0       NaN        opel      NaN   \n",
       "40   corsa     150000                   1    petrol        opel      NaN   \n",
       "\n",
       "           date_created  number_of_pictures  postal_code            last_seen  \n",
       "0   2016-03-24 00:00:00                   0        70435  2016-04-07 03:16:57  \n",
       "2   2016-03-14 00:00:00                   0        90480  2016-04-05 12:47:46  \n",
       "8   2016-04-04 00:00:00                   0        94505  2016-04-04 23:42:13  \n",
       "9   2016-03-17 00:00:00                   0        27472  2016-03-31 17:17:06  \n",
       "12  2016-03-15 00:00:00                   0        37269  2016-04-01 13:16:16  \n",
       "15  2016-03-11 00:00:00                   0        24148  2016-03-19 08:46:47  \n",
       "16  2016-04-01 00:00:00                   0        38871  2016-04-01 12:46:46  \n",
       "31  2016-03-29 00:00:00                   0        37075  2016-03-29 17:43:07  \n",
       "36  2016-03-11 00:00:00                   0         2943  2016-04-07 03:46:09  \n",
       "40  2016-03-26 00:00:00                   0        56412  2016-03-27 17:43:34  "
      ]
     },
     "metadata": {},
     "output_type": "display_data"
    }
   ],
   "source": [
    "display(data.loc[data['repaired'].isna()].head(10))"
   ]
  },
  {
   "cell_type": "markdown",
   "id": "9bc438f9",
   "metadata": {
    "id": "9bc438f9"
   },
   "source": [
    "Пропуски выглядят случайными. Используем заглушку 'unknown', чтобы не удалять данные."
   ]
  },
  {
   "cell_type": "code",
   "execution_count": 13,
   "id": "959fe5c7",
   "metadata": {
    "colab": {
     "base_uri": "https://localhost:8080/"
    },
    "id": "959fe5c7",
    "outputId": "4617ea08-7c44-4ea3-a196-fd85cc58afcd"
   },
   "outputs": [
    {
     "name": "stdout",
     "output_type": "stream",
     "text": [
      "<class 'pandas.core.frame.DataFrame'>\n",
      "RangeIndex: 354369 entries, 0 to 354368\n",
      "Data columns (total 16 columns):\n",
      " #   Column              Non-Null Count   Dtype \n",
      "---  ------              --------------   ----- \n",
      " 0   date_crawled        354369 non-null  object\n",
      " 1   price               354369 non-null  int64 \n",
      " 2   vehicle_type        354369 non-null  object\n",
      " 3   registration_year   354369 non-null  int64 \n",
      " 4   gearbox             354369 non-null  object\n",
      " 5   power               354369 non-null  int64 \n",
      " 6   model               354369 non-null  object\n",
      " 7   kilometer           354369 non-null  int64 \n",
      " 8   registration_month  354369 non-null  int64 \n",
      " 9   fuel_type           354369 non-null  object\n",
      " 10  brand               354369 non-null  object\n",
      " 11  repaired            354369 non-null  object\n",
      " 12  date_created        354369 non-null  object\n",
      " 13  number_of_pictures  354369 non-null  int64 \n",
      " 14  postal_code         354369 non-null  int64 \n",
      " 15  last_seen           354369 non-null  object\n",
      "dtypes: int64(7), object(9)\n",
      "memory usage: 43.3+ MB\n"
     ]
    }
   ],
   "source": [
    "for column in ['gearbox', 'model', 'fuel_type', 'repaired']:\n",
    "    data[column] = data[column].fillna('unknown')\n",
    "\n",
    "data.info()"
   ]
  },
  {
   "cell_type": "markdown",
   "id": "1ab2e327",
   "metadata": {
    "id": "1ab2e327"
   },
   "source": [
    "Пропуски удалены, можно двигаться дальше."
   ]
  },
  {
   "cell_type": "markdown",
   "id": "afe5ffe3",
   "metadata": {
    "id": "afe5ffe3"
   },
   "source": [
    "### Обработка дубликатов\n",
    "\n",
    "Проверим, есть ли в данных явные дубликаты"
   ]
  },
  {
   "cell_type": "code",
   "execution_count": 14,
   "id": "a4cdca75",
   "metadata": {
    "colab": {
     "base_uri": "https://localhost:8080/"
    },
    "id": "a4cdca75",
    "outputId": "6f5952ae-f18a-40ff-9afa-ca87cc4486b2"
   },
   "outputs": [
    {
     "data": {
      "text/plain": [
       "4"
      ]
     },
     "execution_count": 14,
     "metadata": {},
     "output_type": "execute_result"
    }
   ],
   "source": [
    "data.duplicated().sum()"
   ]
  },
  {
   "cell_type": "markdown",
   "id": "6276ee16",
   "metadata": {
    "id": "6276ee16"
   },
   "source": [
    "Найдено 4, удалим их."
   ]
  },
  {
   "cell_type": "code",
   "execution_count": 15,
   "id": "95daaa15",
   "metadata": {
    "colab": {
     "base_uri": "https://localhost:8080/"
    },
    "id": "95daaa15",
    "outputId": "d1894784-9c8c-4b70-cdeb-506c72032640"
   },
   "outputs": [
    {
     "data": {
      "text/plain": [
       "0"
      ]
     },
     "execution_count": 15,
     "metadata": {},
     "output_type": "execute_result"
    }
   ],
   "source": [
    "data = data.drop_duplicates()\n",
    "data.duplicated().sum()"
   ]
  },
  {
   "cell_type": "markdown",
   "id": "1b262838",
   "metadata": {
    "id": "1b262838"
   },
   "source": [
    "Проверим, есть ли в даннных неявные дубликаты по типу автомобиля, модели, коробке передач, типу топлива, марке, починке:"
   ]
  },
  {
   "cell_type": "code",
   "execution_count": 16,
   "id": "445b672d",
   "metadata": {
    "colab": {
     "base_uri": "https://localhost:8080/"
    },
    "id": "445b672d",
    "outputId": "fa560206-b818-45c9-9646-77093d743645"
   },
   "outputs": [
    {
     "name": "stdout",
     "output_type": "stream",
     "text": [
      "vehicle_type: ['bus', 'convertible', 'coupe', 'other', 'sedan', 'small', 'suv', 'wagon'] \n",
      "\n",
      "gearbox: ['auto', 'manual', 'unknown'] \n",
      "\n",
      "model: ['100', '145', '147', '156', '159', '1_reihe', '1er', '200', '2_reihe', '300c', '3_reihe', '3er', '4_reihe', '500', '5_reihe', '5er', '601', '6_reihe', '6er', '7er', '80', '850', '90', '900', '9000', '911', 'a1', 'a2', 'a3', 'a4', 'a5', 'a6', 'a8', 'a_klasse', 'accord', 'agila', 'alhambra', 'almera', 'altea', 'amarok', 'antara', 'arosa', 'astra', 'auris', 'avensis', 'aveo', 'aygo', 'b_klasse', 'b_max', 'beetle', 'berlingo', 'bora', 'boxster', 'bravo', 'c1', 'c2', 'c3', 'c4', 'c5', 'c_klasse', 'c_max', 'c_reihe', 'caddy', 'calibra', 'captiva', 'carisma', 'carnival', 'cayenne', 'cc', 'ceed', 'charade', 'cherokee', 'citigo', 'civic', 'cl', 'clio', 'clk', 'clubman', 'colt', 'combo', 'cooper', 'cordoba', 'corolla', 'corsa', 'cr_reihe', 'croma', 'crossfire', 'cuore', 'cx_reihe', 'defender', 'delta', 'discovery', 'doblo', 'ducato', 'duster', 'e_klasse', 'elefantino', 'eos', 'escort', 'espace', 'exeo', 'fabia', 'fiesta', 'focus', 'forester', 'forfour', 'fortwo', 'fox', 'freelander', 'fusion', 'g_klasse', 'galant', 'galaxy', 'getz', 'gl', 'glk', 'golf', 'grand', 'i3', 'i_reihe', 'ibiza', 'impreza', 'insignia', 'jazz', 'jetta', 'jimny', 'juke', 'justy', 'ka', 'kadett', 'kaefer', 'kalina', 'kalos', 'kangoo', 'kappa', 'kuga', 'laguna', 'lancer', 'lanos', 'legacy', 'leon', 'lodgy', 'logan', 'lupo', 'lybra', 'm_klasse', 'm_reihe', 'materia', 'matiz', 'megane', 'meriva', 'micra', 'mii', 'modus', 'mondeo', 'move', 'musa', 'mustang', 'mx_reihe', 'navara', 'niva', 'note', 'nubira', 'octavia', 'omega', 'one', 'other', 'outlander', 'pajero', 'panda', 'passat', 'phaeton', 'picanto', 'polo', 'primera', 'ptcruiser', 'punto', 'q3', 'q5', 'q7', 'qashqai', 'r19', 'range_rover', 'range_rover_evoque', 'range_rover_sport', 'rangerover', 'rav', 'rio', 'roadster', 'roomster', 'rx_reihe', 's60', 's_klasse', 's_max', 's_type', 'samara', 'sandero', 'santa', 'scenic', 'scirocco', 'seicento', 'serie_1', 'serie_2', 'serie_3', 'sharan', 'signum', 'sirion', 'sl', 'slk', 'sorento', 'spark', 'spider', 'sportage', 'sprinter', 'stilo', 'superb', 'swift', 'terios', 'tigra', 'tiguan', 'toledo', 'touareg', 'touran', 'transit', 'transporter', 'tt', 'tucson', 'twingo', 'unknown', 'up', 'v40', 'v50', 'v60', 'v70', 'v_klasse', 'vectra', 'verso', 'viano', 'vito', 'vivaro', 'voyager', 'wrangler', 'x_reihe', 'x_trail', 'x_type', 'xc_reihe', 'yaris', 'yeti', 'ypsilon', 'z_reihe', 'zafira'] \n",
      "\n",
      "fuel_type: ['cng', 'electric', 'gasoline', 'hybrid', 'lpg', 'other', 'petrol', 'unknown'] \n",
      "\n",
      "brand: ['alfa_romeo', 'audi', 'bmw', 'chevrolet', 'chrysler', 'citroen', 'dacia', 'daewoo', 'daihatsu', 'fiat', 'ford', 'honda', 'hyundai', 'jaguar', 'jeep', 'kia', 'lada', 'lancia', 'land_rover', 'mazda', 'mercedes_benz', 'mini', 'mitsubishi', 'nissan', 'opel', 'peugeot', 'porsche', 'renault', 'rover', 'saab', 'seat', 'skoda', 'smart', 'sonstige_autos', 'subaru', 'suzuki', 'toyota', 'trabant', 'volkswagen', 'volvo'] \n",
      "\n",
      "repaired: ['no', 'unknown', 'yes'] \n",
      "\n"
     ]
    }
   ],
   "source": [
    "for column in ['vehicle_type', 'gearbox', 'model', 'fuel_type', 'brand', 'repaired']:\n",
    "    print(column + ':', sorted(data[column].unique()), '\\n')"
   ]
  },
  {
   "cell_type": "markdown",
   "id": "05bf3adb",
   "metadata": {},
   "source": [
    "Среди значений типов топлива gasoline и petrol означают одно и то же. Заменим все на gasoline."
   ]
  },
  {
   "cell_type": "code",
   "execution_count": 17,
   "id": "70929c14",
   "metadata": {},
   "outputs": [],
   "source": [
    "data.loc[data['fuel_type'] == 'petrol', 'fuel_type'] = 'gasoline'"
   ]
  },
  {
   "cell_type": "markdown",
   "id": "2317f19b",
   "metadata": {
    "id": "2317f19b"
   },
   "source": [
    "Неявные дубликаты отсутствуют. Можно двигаться дальше."
   ]
  },
  {
   "cell_type": "markdown",
   "id": "57413f61",
   "metadata": {
    "id": "57413f61"
   },
   "source": [
    "### Удаление не информативных столбцов\n",
    "\n",
    "Удалим столбцы, которые не несут информации, которая позволит модели лучше определять рыночную цену. Это столбцы `'date_crawled'`, `'registration_month'`, `'postal_code'`, `'last_seen'`, `'number_of_pictures'`, `'date_created'`"
   ]
  },
  {
   "cell_type": "code",
   "execution_count": 18,
   "id": "db8dbdef",
   "metadata": {
    "colab": {
     "base_uri": "https://localhost:8080/",
     "height": 206
    },
    "id": "db8dbdef",
    "outputId": "843ba395-1a26-4253-f0eb-7df3758d85b1"
   },
   "outputs": [
    {
     "data": {
      "text/html": [
       "<div>\n",
       "<style scoped>\n",
       "    .dataframe tbody tr th:only-of-type {\n",
       "        vertical-align: middle;\n",
       "    }\n",
       "\n",
       "    .dataframe tbody tr th {\n",
       "        vertical-align: top;\n",
       "    }\n",
       "\n",
       "    .dataframe thead th {\n",
       "        text-align: right;\n",
       "    }\n",
       "</style>\n",
       "<table border=\"1\" class=\"dataframe\">\n",
       "  <thead>\n",
       "    <tr style=\"text-align: right;\">\n",
       "      <th></th>\n",
       "      <th>price</th>\n",
       "      <th>vehicle_type</th>\n",
       "      <th>registration_year</th>\n",
       "      <th>gearbox</th>\n",
       "      <th>power</th>\n",
       "      <th>model</th>\n",
       "      <th>kilometer</th>\n",
       "      <th>fuel_type</th>\n",
       "      <th>brand</th>\n",
       "      <th>repaired</th>\n",
       "    </tr>\n",
       "  </thead>\n",
       "  <tbody>\n",
       "    <tr>\n",
       "      <th>0</th>\n",
       "      <td>480</td>\n",
       "      <td>other</td>\n",
       "      <td>1993</td>\n",
       "      <td>manual</td>\n",
       "      <td>0</td>\n",
       "      <td>golf</td>\n",
       "      <td>150000</td>\n",
       "      <td>gasoline</td>\n",
       "      <td>volkswagen</td>\n",
       "      <td>unknown</td>\n",
       "    </tr>\n",
       "    <tr>\n",
       "      <th>1</th>\n",
       "      <td>18300</td>\n",
       "      <td>coupe</td>\n",
       "      <td>2011</td>\n",
       "      <td>manual</td>\n",
       "      <td>190</td>\n",
       "      <td>unknown</td>\n",
       "      <td>125000</td>\n",
       "      <td>gasoline</td>\n",
       "      <td>audi</td>\n",
       "      <td>yes</td>\n",
       "    </tr>\n",
       "    <tr>\n",
       "      <th>2</th>\n",
       "      <td>9800</td>\n",
       "      <td>suv</td>\n",
       "      <td>2004</td>\n",
       "      <td>auto</td>\n",
       "      <td>163</td>\n",
       "      <td>grand</td>\n",
       "      <td>125000</td>\n",
       "      <td>gasoline</td>\n",
       "      <td>jeep</td>\n",
       "      <td>unknown</td>\n",
       "    </tr>\n",
       "    <tr>\n",
       "      <th>3</th>\n",
       "      <td>1500</td>\n",
       "      <td>small</td>\n",
       "      <td>2001</td>\n",
       "      <td>manual</td>\n",
       "      <td>75</td>\n",
       "      <td>golf</td>\n",
       "      <td>150000</td>\n",
       "      <td>gasoline</td>\n",
       "      <td>volkswagen</td>\n",
       "      <td>no</td>\n",
       "    </tr>\n",
       "    <tr>\n",
       "      <th>4</th>\n",
       "      <td>3600</td>\n",
       "      <td>small</td>\n",
       "      <td>2008</td>\n",
       "      <td>manual</td>\n",
       "      <td>69</td>\n",
       "      <td>fabia</td>\n",
       "      <td>90000</td>\n",
       "      <td>gasoline</td>\n",
       "      <td>skoda</td>\n",
       "      <td>no</td>\n",
       "    </tr>\n",
       "  </tbody>\n",
       "</table>\n",
       "</div>"
      ],
      "text/plain": [
       "   price vehicle_type  registration_year gearbox  power    model  kilometer  \\\n",
       "0    480        other               1993  manual      0     golf     150000   \n",
       "1  18300        coupe               2011  manual    190  unknown     125000   \n",
       "2   9800          suv               2004    auto    163    grand     125000   \n",
       "3   1500        small               2001  manual     75     golf     150000   \n",
       "4   3600        small               2008  manual     69    fabia      90000   \n",
       "\n",
       "  fuel_type       brand repaired  \n",
       "0  gasoline  volkswagen  unknown  \n",
       "1  gasoline        audi      yes  \n",
       "2  gasoline        jeep  unknown  \n",
       "3  gasoline  volkswagen       no  \n",
       "4  gasoline       skoda       no  "
      ]
     },
     "execution_count": 18,
     "metadata": {},
     "output_type": "execute_result"
    }
   ],
   "source": [
    "data = data.drop(['date_crawled', 'registration_month',\n",
    "                 'postal_code', 'last_seen', 'number_of_pictures', 'date_created'], axis=1)\n",
    "data.head()"
   ]
  },
  {
   "cell_type": "markdown",
   "id": "a96c0191",
   "metadata": {
    "id": "a96c0191"
   },
   "source": [
    "#### Общий вывод по Предобработке данных:\n",
    "- Пропуски в данных отсутствуют\n",
    "- Явные дубликаты отсутствуют\n",
    "- В таблице содержится только нужная информация"
   ]
  },
  {
   "cell_type": "markdown",
   "id": "1785061e",
   "metadata": {
    "id": "1785061e"
   },
   "source": [
    "## Исследовательский анализ данных"
   ]
  },
  {
   "cell_type": "markdown",
   "id": "f3acf41f",
   "metadata": {
    "id": "f3acf41f"
   },
   "source": [
    "### Распределения количественных признаков\n",
    "\n",
    "Построим графики для всех количественных признаков, чтобы изучить распределения"
   ]
  },
  {
   "cell_type": "code",
   "execution_count": 19,
   "id": "d6c7e943",
   "metadata": {
    "id": "d6c7e943"
   },
   "outputs": [],
   "source": [
    "# description отвечает за вывод описания данных\n",
    "def show_hist(feature, description=False):\n",
    "    data[feature].hist(bins=30, grid=True, legend=False)\n",
    "    plt.ylabel('Частота')\n",
    "    plt.xlabel(feature)\n",
    "    plt.title(f'Распределение признака {feature}')\n",
    "    plt.show()\n",
    "    if description == True:\n",
    "        print(data[feature].describe())"
   ]
  },
  {
   "cell_type": "markdown",
   "id": "69131cea",
   "metadata": {
    "id": "69131cea"
   },
   "source": [
    "#### Целевой признак - цена"
   ]
  },
  {
   "cell_type": "code",
   "execution_count": 20,
   "id": "cf3591de",
   "metadata": {
    "colab": {
     "base_uri": "https://localhost:8080/",
     "height": 628
    },
    "id": "cf3591de",
    "outputId": "343410f4-9cab-4421-e175-f834e68e2d93",
    "scrolled": false
   },
   "outputs": [
    {
     "data": {
      "image/png": "[encoded data removed]",
      "text/plain": [
       "<Figure size 640x480 with 1 Axes>"
      ]
     },
     "metadata": {},
     "output_type": "display_data"
    },
    {
     "name": "stdout",
     "output_type": "stream",
     "text": [
      "count    354365.000000\n",
      "mean       4416.679830\n",
      "std        4514.176349\n",
      "min           0.000000\n",
      "25%        1050.000000\n",
      "50%        2700.000000\n",
      "75%        6400.000000\n",
      "max       20000.000000\n",
      "Name: price, dtype: float64\n"
     ]
    }
   ],
   "source": [
    "show_hist('price', description=True)"
   ]
  },
  {
   "cell_type": "markdown",
   "id": "ce8acfdc",
   "metadata": {
    "id": "ce8acfdc"
   },
   "source": [
    "#### Интерпретация графика\n",
    "- Распределение не имеет форму нормального - при увеличении цены, частота встречаемых автомобилей уменьшается\n",
    "- Средняя цена 4416 евро, медианное значение 2700\n",
    "- Присутствует странный пик около 0 - необходимо проверить эти данные"
   ]
  },
  {
   "cell_type": "code",
   "execution_count": 21,
   "id": "74d0c34f",
   "metadata": {
    "colab": {
     "base_uri": "https://localhost:8080/",
     "height": 380
    },
    "id": "74d0c34f",
    "outputId": "cf99f445-b35d-4040-9363-72df52f0420f"
   },
   "outputs": [
    {
     "data": {
      "text/html": [
       "<div>\n",
       "<style scoped>\n",
       "    .dataframe tbody tr th:only-of-type {\n",
       "        vertical-align: middle;\n",
       "    }\n",
       "\n",
       "    .dataframe tbody tr th {\n",
       "        vertical-align: top;\n",
       "    }\n",
       "\n",
       "    .dataframe thead th {\n",
       "        text-align: right;\n",
       "    }\n",
       "</style>\n",
       "<table border=\"1\" class=\"dataframe\">\n",
       "  <thead>\n",
       "    <tr style=\"text-align: right;\">\n",
       "      <th></th>\n",
       "      <th>price</th>\n",
       "      <th>vehicle_type</th>\n",
       "      <th>registration_year</th>\n",
       "      <th>gearbox</th>\n",
       "      <th>power</th>\n",
       "      <th>model</th>\n",
       "      <th>kilometer</th>\n",
       "      <th>fuel_type</th>\n",
       "      <th>brand</th>\n",
       "      <th>repaired</th>\n",
       "    </tr>\n",
       "  </thead>\n",
       "  <tbody>\n",
       "    <tr>\n",
       "      <th>7</th>\n",
       "      <td>0</td>\n",
       "      <td>sedan</td>\n",
       "      <td>1980</td>\n",
       "      <td>manual</td>\n",
       "      <td>50</td>\n",
       "      <td>other</td>\n",
       "      <td>40000</td>\n",
       "      <td>gasoline</td>\n",
       "      <td>volkswagen</td>\n",
       "      <td>no</td>\n",
       "    </tr>\n",
       "    <tr>\n",
       "      <th>40</th>\n",
       "      <td>0</td>\n",
       "      <td>other</td>\n",
       "      <td>1990</td>\n",
       "      <td>unknown</td>\n",
       "      <td>0</td>\n",
       "      <td>corsa</td>\n",
       "      <td>150000</td>\n",
       "      <td>gasoline</td>\n",
       "      <td>opel</td>\n",
       "      <td>unknown</td>\n",
       "    </tr>\n",
       "    <tr>\n",
       "      <th>59</th>\n",
       "      <td>1</td>\n",
       "      <td>suv</td>\n",
       "      <td>1994</td>\n",
       "      <td>manual</td>\n",
       "      <td>286</td>\n",
       "      <td>unknown</td>\n",
       "      <td>150000</td>\n",
       "      <td>unknown</td>\n",
       "      <td>sonstige_autos</td>\n",
       "      <td>unknown</td>\n",
       "    </tr>\n",
       "    <tr>\n",
       "      <th>89</th>\n",
       "      <td>1</td>\n",
       "      <td>sedan</td>\n",
       "      <td>1995</td>\n",
       "      <td>manual</td>\n",
       "      <td>113</td>\n",
       "      <td>e_klasse</td>\n",
       "      <td>150000</td>\n",
       "      <td>gasoline</td>\n",
       "      <td>mercedes_benz</td>\n",
       "      <td>no</td>\n",
       "    </tr>\n",
       "    <tr>\n",
       "      <th>111</th>\n",
       "      <td>0</td>\n",
       "      <td>other</td>\n",
       "      <td>2017</td>\n",
       "      <td>manual</td>\n",
       "      <td>0</td>\n",
       "      <td>golf</td>\n",
       "      <td>5000</td>\n",
       "      <td>gasoline</td>\n",
       "      <td>volkswagen</td>\n",
       "      <td>unknown</td>\n",
       "    </tr>\n",
       "    <tr>\n",
       "      <th>115</th>\n",
       "      <td>0</td>\n",
       "      <td>small</td>\n",
       "      <td>1999</td>\n",
       "      <td>unknown</td>\n",
       "      <td>0</td>\n",
       "      <td>unknown</td>\n",
       "      <td>5000</td>\n",
       "      <td>gasoline</td>\n",
       "      <td>volkswagen</td>\n",
       "      <td>unknown</td>\n",
       "    </tr>\n",
       "    <tr>\n",
       "      <th>152</th>\n",
       "      <td>0</td>\n",
       "      <td>bus</td>\n",
       "      <td>2004</td>\n",
       "      <td>manual</td>\n",
       "      <td>101</td>\n",
       "      <td>meriva</td>\n",
       "      <td>150000</td>\n",
       "      <td>lpg</td>\n",
       "      <td>opel</td>\n",
       "      <td>yes</td>\n",
       "    </tr>\n",
       "    <tr>\n",
       "      <th>154</th>\n",
       "      <td>0</td>\n",
       "      <td>other</td>\n",
       "      <td>2006</td>\n",
       "      <td>unknown</td>\n",
       "      <td>0</td>\n",
       "      <td>other</td>\n",
       "      <td>5000</td>\n",
       "      <td>unknown</td>\n",
       "      <td>fiat</td>\n",
       "      <td>unknown</td>\n",
       "    </tr>\n",
       "    <tr>\n",
       "      <th>231</th>\n",
       "      <td>0</td>\n",
       "      <td>wagon</td>\n",
       "      <td>2001</td>\n",
       "      <td>manual</td>\n",
       "      <td>115</td>\n",
       "      <td>mondeo</td>\n",
       "      <td>150000</td>\n",
       "      <td>unknown</td>\n",
       "      <td>ford</td>\n",
       "      <td>unknown</td>\n",
       "    </tr>\n",
       "    <tr>\n",
       "      <th>268</th>\n",
       "      <td>1</td>\n",
       "      <td>sedan</td>\n",
       "      <td>1990</td>\n",
       "      <td>manual</td>\n",
       "      <td>90</td>\n",
       "      <td>80</td>\n",
       "      <td>70000</td>\n",
       "      <td>gasoline</td>\n",
       "      <td>audi</td>\n",
       "      <td>no</td>\n",
       "    </tr>\n",
       "  </tbody>\n",
       "</table>\n",
       "</div>"
      ],
      "text/plain": [
       "     price vehicle_type  registration_year  gearbox  power     model  \\\n",
       "7        0        sedan               1980   manual     50     other   \n",
       "40       0        other               1990  unknown      0     corsa   \n",
       "59       1          suv               1994   manual    286   unknown   \n",
       "89       1        sedan               1995   manual    113  e_klasse   \n",
       "111      0        other               2017   manual      0      golf   \n",
       "115      0        small               1999  unknown      0   unknown   \n",
       "152      0          bus               2004   manual    101    meriva   \n",
       "154      0        other               2006  unknown      0     other   \n",
       "231      0        wagon               2001   manual    115    mondeo   \n",
       "268      1        sedan               1990   manual     90        80   \n",
       "\n",
       "     kilometer fuel_type           brand repaired  \n",
       "7        40000  gasoline      volkswagen       no  \n",
       "40      150000  gasoline            opel  unknown  \n",
       "59      150000   unknown  sonstige_autos  unknown  \n",
       "89      150000  gasoline   mercedes_benz       no  \n",
       "111       5000  gasoline      volkswagen  unknown  \n",
       "115       5000  gasoline      volkswagen  unknown  \n",
       "152     150000       lpg            opel      yes  \n",
       "154       5000   unknown            fiat  unknown  \n",
       "231     150000   unknown            ford  unknown  \n",
       "268      70000  gasoline            audi       no  "
      ]
     },
     "metadata": {},
     "output_type": "display_data"
    },
    {
     "name": "stdout",
     "output_type": "stream",
     "text": [
      "Количество строк с ценой меньше 100 евро: 13314\n"
     ]
    }
   ],
   "source": [
    "display(data.loc[data['price'] < 100].head(10))\n",
    "print('Количество строк с ценой меньше 100 евро:',\n",
    "      (data.loc[data['price'] < 100, 'price'].count()))"
   ]
  },
  {
   "cell_type": "markdown",
   "id": "5e110976",
   "metadata": {
    "id": "5e110976"
   },
   "source": [
    "Машин с подозрительно низкой ценой достаточно много, необходимо заменить эти значения. Чтобы сильно не исказить общую картину, заменим цены на медианную цену по модели, так как медиана более робастна, чем среднее значение. Это также позволит нам избежать влияния выбросов в категории `'other'`."
   ]
  },
  {
   "cell_type": "code",
   "execution_count": 22,
   "id": "958d49b1",
   "metadata": {
    "id": "958d49b1"
   },
   "outputs": [],
   "source": [
    "for model in data['model'].unique():\n",
    "    data.loc[(data['price'] < 100) & (data['model'] == model),\n",
    "             'price'] = round(data.loc[data['model'] == model, 'price'].median())"
   ]
  },
  {
   "cell_type": "code",
   "execution_count": 23,
   "id": "aa23c4b3",
   "metadata": {
    "colab": {
     "base_uri": "https://localhost:8080/",
     "height": 472
    },
    "id": "aa23c4b3",
    "outputId": "49c4f772-17bc-44b0-9414-44f99abe1719"
   },
   "outputs": [
    {
     "data": {
      "image/png": "[encoded data removed]",
      "text/plain": [
       "<Figure size 640x480 with 1 Axes>"
      ]
     },
     "metadata": {},
     "output_type": "display_data"
    }
   ],
   "source": [
    "# Повторно выведем график\n",
    "show_hist('price')"
   ]
  },
  {
   "cell_type": "markdown",
   "id": "9cfb09f6",
   "metadata": {
    "id": "9cfb09f6"
   },
   "source": [
    "Выбросы устранены, можно двигаться дальше."
   ]
  },
  {
   "cell_type": "markdown",
   "id": "8c965cc2",
   "metadata": {
    "id": "8c965cc2"
   },
   "source": [
    "#### Входные признаки: мощность двигателя, пробег"
   ]
  },
  {
   "cell_type": "code",
   "execution_count": 24,
   "id": "191cba09",
   "metadata": {
    "colab": {
     "base_uri": "https://localhost:8080/",
     "height": 1000
    },
    "id": "191cba09",
    "outputId": "1296ff80-97f0-4cf6-8442-dedb1365f46a"
   },
   "outputs": [
    {
     "data": {
      "image/png": "[encoded data removed]",
      "text/plain": [
       "<Figure size 640x480 with 1 Axes>"
      ]
     },
     "metadata": {},
     "output_type": "display_data"
    },
    {
     "name": "stdout",
     "output_type": "stream",
     "text": [
      "count    354365.000000\n",
      "mean     128211.363989\n",
      "std       37905.083858\n",
      "min        5000.000000\n",
      "25%      125000.000000\n",
      "50%      150000.000000\n",
      "75%      150000.000000\n",
      "max      150000.000000\n",
      "Name: kilometer, dtype: float64\n"
     ]
    },
    {
     "data": {
      "image/png": "[encoded data removed]",
      "text/plain": [
       "<Figure size 640x480 with 1 Axes>"
      ]
     },
     "metadata": {},
     "output_type": "display_data"
    },
    {
     "name": "stdout",
     "output_type": "stream",
     "text": [
      "count    354365.000000\n",
      "mean        110.093816\n",
      "std         189.851330\n",
      "min           0.000000\n",
      "25%          69.000000\n",
      "50%         105.000000\n",
      "75%         143.000000\n",
      "max       20000.000000\n",
      "Name: power, dtype: float64\n"
     ]
    }
   ],
   "source": [
    "for feature in ['kilometer', 'power']:\n",
    "    show_hist(feature, description=True)"
   ]
  },
  {
   "cell_type": "markdown",
   "id": "c32a1b90",
   "metadata": {
    "id": "c32a1b90"
   },
   "source": [
    "#### Интерпретация графиков\n",
    "- Распределение значения пробега не имеет форму нормального, большая часть (более 240000 автомобилей) имеют пробег более 140 000 км. Выбросы и аномалии не обнаружены.\n",
    "- На графике распределения мощности двигателя есть явные аномалии (экстремально большие значения, нулевые значения), изучим их более детально"
   ]
  },
  {
   "cell_type": "code",
   "execution_count": 25,
   "id": "c2435d39",
   "metadata": {
    "colab": {
     "base_uri": "https://localhost:8080/",
     "height": 424
    },
    "id": "c2435d39",
    "outputId": "f97f73a0-c288-4708-d302-9ef1b72b0ed1",
    "scrolled": true
   },
   "outputs": [
    {
     "data": {
      "text/html": [
       "<div>\n",
       "<style scoped>\n",
       "    .dataframe tbody tr th:only-of-type {\n",
       "        vertical-align: middle;\n",
       "    }\n",
       "\n",
       "    .dataframe tbody tr th {\n",
       "        vertical-align: top;\n",
       "    }\n",
       "\n",
       "    .dataframe thead th {\n",
       "        text-align: right;\n",
       "    }\n",
       "</style>\n",
       "<table border=\"1\" class=\"dataframe\">\n",
       "  <thead>\n",
       "    <tr style=\"text-align: right;\">\n",
       "      <th></th>\n",
       "      <th>price</th>\n",
       "      <th>vehicle_type</th>\n",
       "      <th>registration_year</th>\n",
       "      <th>gearbox</th>\n",
       "      <th>power</th>\n",
       "      <th>model</th>\n",
       "      <th>kilometer</th>\n",
       "      <th>fuel_type</th>\n",
       "      <th>brand</th>\n",
       "      <th>repaired</th>\n",
       "    </tr>\n",
       "  </thead>\n",
       "  <tbody>\n",
       "    <tr>\n",
       "      <th>219584</th>\n",
       "      <td>4300</td>\n",
       "      <td>coupe</td>\n",
       "      <td>1999</td>\n",
       "      <td>auto</td>\n",
       "      <td>20000</td>\n",
       "      <td>clk</td>\n",
       "      <td>150000</td>\n",
       "      <td>gasoline</td>\n",
       "      <td>mercedes_benz</td>\n",
       "      <td>no</td>\n",
       "    </tr>\n",
       "    <tr>\n",
       "      <th>299180</th>\n",
       "      <td>1500</td>\n",
       "      <td>wagon</td>\n",
       "      <td>1997</td>\n",
       "      <td>manual</td>\n",
       "      <td>19312</td>\n",
       "      <td>5er</td>\n",
       "      <td>150000</td>\n",
       "      <td>unknown</td>\n",
       "      <td>bmw</td>\n",
       "      <td>no</td>\n",
       "    </tr>\n",
       "    <tr>\n",
       "      <th>114106</th>\n",
       "      <td>9999</td>\n",
       "      <td>sedan</td>\n",
       "      <td>2006</td>\n",
       "      <td>manual</td>\n",
       "      <td>19211</td>\n",
       "      <td>1er</td>\n",
       "      <td>125000</td>\n",
       "      <td>gasoline</td>\n",
       "      <td>bmw</td>\n",
       "      <td>unknown</td>\n",
       "    </tr>\n",
       "    <tr>\n",
       "      <th>132485</th>\n",
       "      <td>2100</td>\n",
       "      <td>wagon</td>\n",
       "      <td>2001</td>\n",
       "      <td>manual</td>\n",
       "      <td>19208</td>\n",
       "      <td>5er</td>\n",
       "      <td>150000</td>\n",
       "      <td>unknown</td>\n",
       "      <td>bmw</td>\n",
       "      <td>yes</td>\n",
       "    </tr>\n",
       "    <tr>\n",
       "      <th>63986</th>\n",
       "      <td>3250</td>\n",
       "      <td>sedan</td>\n",
       "      <td>2001</td>\n",
       "      <td>auto</td>\n",
       "      <td>17932</td>\n",
       "      <td>omega</td>\n",
       "      <td>150000</td>\n",
       "      <td>gasoline</td>\n",
       "      <td>opel</td>\n",
       "      <td>unknown</td>\n",
       "    </tr>\n",
       "    <tr>\n",
       "      <th>...</th>\n",
       "      <td>...</td>\n",
       "      <td>...</td>\n",
       "      <td>...</td>\n",
       "      <td>...</td>\n",
       "      <td>...</td>\n",
       "      <td>...</td>\n",
       "      <td>...</td>\n",
       "      <td>...</td>\n",
       "      <td>...</td>\n",
       "      <td>...</td>\n",
       "    </tr>\n",
       "    <tr>\n",
       "      <th>65886</th>\n",
       "      <td>14900</td>\n",
       "      <td>wagon</td>\n",
       "      <td>2007</td>\n",
       "      <td>auto</td>\n",
       "      <td>350</td>\n",
       "      <td>3er</td>\n",
       "      <td>150000</td>\n",
       "      <td>gasoline</td>\n",
       "      <td>bmw</td>\n",
       "      <td>unknown</td>\n",
       "    </tr>\n",
       "    <tr>\n",
       "      <th>151237</th>\n",
       "      <td>2999</td>\n",
       "      <td>wagon</td>\n",
       "      <td>1999</td>\n",
       "      <td>auto</td>\n",
       "      <td>350</td>\n",
       "      <td>a6</td>\n",
       "      <td>150000</td>\n",
       "      <td>gasoline</td>\n",
       "      <td>audi</td>\n",
       "      <td>no</td>\n",
       "    </tr>\n",
       "    <tr>\n",
       "      <th>152374</th>\n",
       "      <td>9999</td>\n",
       "      <td>sedan</td>\n",
       "      <td>2006</td>\n",
       "      <td>auto</td>\n",
       "      <td>350</td>\n",
       "      <td>a8</td>\n",
       "      <td>150000</td>\n",
       "      <td>gasoline</td>\n",
       "      <td>audi</td>\n",
       "      <td>yes</td>\n",
       "    </tr>\n",
       "    <tr>\n",
       "      <th>153643</th>\n",
       "      <td>11500</td>\n",
       "      <td>wagon</td>\n",
       "      <td>2006</td>\n",
       "      <td>auto</td>\n",
       "      <td>350</td>\n",
       "      <td>5er</td>\n",
       "      <td>150000</td>\n",
       "      <td>gasoline</td>\n",
       "      <td>bmw</td>\n",
       "      <td>no</td>\n",
       "    </tr>\n",
       "    <tr>\n",
       "      <th>307009</th>\n",
       "      <td>13250</td>\n",
       "      <td>convertible</td>\n",
       "      <td>2004</td>\n",
       "      <td>manual</td>\n",
       "      <td>350</td>\n",
       "      <td>m_reihe</td>\n",
       "      <td>150000</td>\n",
       "      <td>gasoline</td>\n",
       "      <td>bmw</td>\n",
       "      <td>no</td>\n",
       "    </tr>\n",
       "  </tbody>\n",
       "</table>\n",
       "<p>1238 rows × 10 columns</p>\n",
       "</div>"
      ],
      "text/plain": [
       "        price vehicle_type  registration_year gearbox  power    model  \\\n",
       "219584   4300        coupe               1999    auto  20000      clk   \n",
       "299180   1500        wagon               1997  manual  19312      5er   \n",
       "114106   9999        sedan               2006  manual  19211      1er   \n",
       "132485   2100        wagon               2001  manual  19208      5er   \n",
       "63986    3250        sedan               2001    auto  17932    omega   \n",
       "...       ...          ...                ...     ...    ...      ...   \n",
       "65886   14900        wagon               2007    auto    350      3er   \n",
       "151237   2999        wagon               1999    auto    350       a6   \n",
       "152374   9999        sedan               2006    auto    350       a8   \n",
       "153643  11500        wagon               2006    auto    350      5er   \n",
       "307009  13250  convertible               2004  manual    350  m_reihe   \n",
       "\n",
       "        kilometer fuel_type          brand repaired  \n",
       "219584     150000  gasoline  mercedes_benz       no  \n",
       "299180     150000   unknown            bmw       no  \n",
       "114106     125000  gasoline            bmw  unknown  \n",
       "132485     150000   unknown            bmw      yes  \n",
       "63986      150000  gasoline           opel  unknown  \n",
       "...           ...       ...            ...      ...  \n",
       "65886      150000  gasoline            bmw  unknown  \n",
       "151237     150000  gasoline           audi       no  \n",
       "152374     150000  gasoline           audi      yes  \n",
       "153643     150000  gasoline            bmw       no  \n",
       "307009     150000  gasoline            bmw       no  \n",
       "\n",
       "[1238 rows x 10 columns]"
      ]
     },
     "execution_count": 25,
     "metadata": {},
     "output_type": "execute_result"
    }
   ],
   "source": [
    "# Выведем данные об автомобилях с подозрительно большой мощностью\n",
    "data.loc[data['power'] >= 350].sort_values(by='power', ascending=False)"
   ]
  },
  {
   "cell_type": "markdown",
   "id": "0e68bd83",
   "metadata": {
    "id": "0e68bd83"
   },
   "source": [
    "Мощность двигателя не может достигать 20 000 л.с., поэтому в данных точно ошибка, также, как и 0. Заменим значения медианным по модели."
   ]
  },
  {
   "cell_type": "code",
   "execution_count": 26,
   "id": "e148bcb3",
   "metadata": {
    "id": "e148bcb3"
   },
   "outputs": [],
   "source": [
    "# Замена экстремально больших значений и нулей медианой по модели\n",
    "for model in data['model'].unique():\n",
    "    data.loc[(data['model'] == model) & ((data['power'] >= 350) | (data['power'] < 30)),\n",
    "             'power'] = round(data.loc[data['model'] == model, 'power'].median())"
   ]
  },
  {
   "cell_type": "code",
   "execution_count": 27,
   "id": "b9cb2c70",
   "metadata": {
    "colab": {
     "base_uri": "https://localhost:8080/",
     "height": 628
    },
    "id": "b9cb2c70",
    "outputId": "ae5a3fee-08b8-49ad-80f3-37759e3e2575"
   },
   "outputs": [
    {
     "data": {
      "image/png": "[encoded data removed]",
      "text/plain": [
       "<Figure size 640x480 with 1 Axes>"
      ]
     },
     "metadata": {},
     "output_type": "display_data"
    },
    {
     "name": "stdout",
     "output_type": "stream",
     "text": [
      "count    354365.000000\n",
      "mean        117.365126\n",
      "std          50.642795\n",
      "min           0.000000\n",
      "25%          75.000000\n",
      "50%         109.000000\n",
      "75%         143.000000\n",
      "max         349.000000\n",
      "Name: power, dtype: float64\n"
     ]
    }
   ],
   "source": [
    "show_hist('power', description=True)"
   ]
  },
  {
   "cell_type": "markdown",
   "id": "4dfd2c94",
   "metadata": {
    "id": "4dfd2c94"
   },
   "source": [
    "#### Интерпретация графика\n",
    "- Форма распределения напоминает нормальное, смещенное влево, но присутствуют пики около 75, 120 и 150 л.с. Эти пики не вызывают вопросов, так как эти значения походят на типовые значения мощности двигателей\n",
    "- Среднее значение 117.36 л.с., медиана 109 л.с."
   ]
  },
  {
   "cell_type": "markdown",
   "id": "615cc75f",
   "metadata": {
    "id": "615cc75f"
   },
   "source": [
    "#### Распределение года регистрации автомобиля"
   ]
  },
  {
   "cell_type": "code",
   "execution_count": 28,
   "id": "10e4ce2e",
   "metadata": {
    "colab": {
     "base_uri": "https://localhost:8080/",
     "height": 472
    },
    "id": "10e4ce2e",
    "outputId": "bac029ba-a0c8-438b-9b2c-f4013745ff66",
    "scrolled": false
   },
   "outputs": [
    {
     "data": {
      "image/png": "[encoded data removed]",
      "text/plain": [
       "<Figure size 640x480 with 1 Axes>"
      ]
     },
     "metadata": {},
     "output_type": "display_data"
    }
   ],
   "source": [
    "show_hist('registration_year')"
   ]
  },
  {
   "cell_type": "markdown",
   "id": "b7f59e8e",
   "metadata": {
    "id": "b7f59e8e"
   },
   "source": [
    "В данных присутствуют явные выбросы (автомобили, зарегистрированные после 2024). Проверим, какой процент данных мы потеряем, если удалим их"
   ]
  },
  {
   "cell_type": "code",
   "execution_count": 29,
   "id": "80c74cc9",
   "metadata": {
    "colab": {
     "base_uri": "https://localhost:8080/"
    },
    "id": "80c74cc9",
    "outputId": "b24fdf20-bfd8-46c0-c972-0f5cd7a21306"
   },
   "outputs": [
    {
     "data": {
      "text/plain": [
       "0.011538949952732353"
      ]
     },
     "execution_count": 29,
     "metadata": {},
     "output_type": "execute_result"
    }
   ],
   "source": [
    "data.loc[(data['registration_year'] > 2017), 'registration_year'].count() / data['price'].count()"
   ]
  },
  {
   "cell_type": "markdown",
   "id": "1c1e0c4b",
   "metadata": {
    "id": "1c1e0c4b"
   },
   "source": [
    "Чуть более 1%. Удалим эти строки, чтобы они не мешали адекватному обучению модели."
   ]
  },
  {
   "cell_type": "code",
   "execution_count": 30,
   "id": "14a0d76d",
   "metadata": {
    "colab": {
     "base_uri": "https://localhost:8080/",
     "height": 628
    },
    "id": "14a0d76d",
    "outputId": "ded64308-2677-44b5-f75d-4086c100865f"
   },
   "outputs": [
    {
     "data": {
      "image/png": "[encoded data removed]",
      "text/plain": [
       "<Figure size 640x480 with 1 Axes>"
      ]
     },
     "metadata": {},
     "output_type": "display_data"
    },
    {
     "name": "stdout",
     "output_type": "stream",
     "text": [
      "count    350808.000000\n",
      "mean       2003.423046\n",
      "std           6.611349\n",
      "min        1980.000000\n",
      "25%        1999.000000\n",
      "50%        2003.000000\n",
      "75%        2008.000000\n",
      "max        2019.000000\n",
      "Name: registration_year, dtype: float64\n"
     ]
    }
   ],
   "source": [
    "data = data.loc[((data['registration_year'] < 2024) & (data['registration_year'] >= 1980))]\n",
    "show_hist('registration_year', description=True)"
   ]
  },
  {
   "cell_type": "markdown",
   "id": "b208c3a0",
   "metadata": {
    "id": "b208c3a0"
   },
   "source": [
    "Выбросы устранены, можно двигаться дальше."
   ]
  },
  {
   "cell_type": "markdown",
   "id": "c3b5088a",
   "metadata": {
    "id": "c3b5088a"
   },
   "source": [
    "#### Интерпретация графика\n",
    "- Среднее значение 2004 год, медиана 2003.\n",
    "- Форма распределения напоминает нормальное, смещенное вправо, с пиками в районе 1997, 2002 и 2006"
   ]
  },
  {
   "cell_type": "markdown",
   "id": "8482efca",
   "metadata": {
    "id": "8482efca"
   },
   "source": [
    "### Категориальные признаки"
   ]
  },
  {
   "cell_type": "markdown",
   "id": "29363308",
   "metadata": {
    "id": "29363308"
   },
   "source": [
    "#### Тип автомобиля и марка"
   ]
  },
  {
   "cell_type": "code",
   "execution_count": 31,
   "id": "886aaf7a",
   "metadata": {
    "colab": {
     "base_uri": "https://localhost:8080/",
     "height": 1000
    },
    "id": "886aaf7a",
    "outputId": "236f527c-24d3-465d-e36c-d6a8904c5543",
    "scrolled": false
   },
   "outputs": [
    {
     "data": {
      "image/png": "[encoded data removed]",
      "text/plain": [
       "<Figure size 1000x700 with 1 Axes>"
      ]
     },
     "metadata": {},
     "output_type": "display_data"
    },
    {
     "data": {
      "image/png": "[encoded data removed]",
      "text/plain": [
       "<Figure size 1000x700 with 1 Axes>"
      ]
     },
     "metadata": {},
     "output_type": "display_data"
    }
   ],
   "source": [
    "for feature in ['vehicle_type', 'brand',]:\n",
    "    (data\n",
    "    .pivot_table(index=feature, values='price', aggfunc='count')\n",
    "    .sort_values(by='price')\n",
    "    .plot(kind='barh', legend=False, grid=True, figsize=(10,7)))\n",
    "    plt.xlabel('Количество автомобилей')\n",
    "    plt.ylabel(feature)\n",
    "    plt.title(f'Распределение признака {feature}')\n",
    "    plt.show()"
   ]
  },
  {
   "cell_type": "markdown",
   "id": "3a17af2d",
   "metadata": {
    "id": "3a17af2d"
   },
   "source": [
    "#### Интерпретация графиков:\n",
    "- Наиболее популярные автомобили для продажи - седан (около 90 000), далее идут мини-автомобили (80 000), универсалы (75 000). Наименее популярные - Внедорожники (15 000) и Купе (17 000)\n",
    "- Наиболее популярные марки автомобилей - Volkswagen (75 000), далее с большим отрывом Opel, BMW, Mercesed, Audi (менее 40 000). Наименее популярные - Lada, Lancia, Rover, Jaguar, их показатели сильно далеки от остальных марок (менее 2 тыс.)"
   ]
  },
  {
   "cell_type": "markdown",
   "id": "cd2a2f12",
   "metadata": {
    "id": "cd2a2f12"
   },
   "source": [
    "#### Тип коробки передач и починка автомобиля\n",
    "\n",
    "Эти признаки будут визуализированы с помощью круговой диаграммы"
   ]
  },
  {
   "cell_type": "code",
   "execution_count": 32,
   "id": "43f319a7",
   "metadata": {
    "colab": {
     "base_uri": "https://localhost:8080/",
     "height": 839
    },
    "id": "43f319a7",
    "outputId": "5e57b329-8b33-4de0-b88c-4269fbc17968",
    "scrolled": true
   },
   "outputs": [
    {
     "data": {
      "image/png": "[encoded data removed]",
      "text/plain": [
       "<Figure size 640x480 with 1 Axes>"
      ]
     },
     "metadata": {},
     "output_type": "display_data"
    },
    {
     "data": {
      "image/png": "[encoded data removed]",
      "text/plain": [
       "<Figure size 640x480 with 1 Axes>"
      ]
     },
     "metadata": {},
     "output_type": "display_data"
    }
   ],
   "source": [
    "for feature in ['gearbox', 'repaired']:\n",
    "    (data\n",
    "    .pivot_table(index=feature, values='price', aggfunc='count')\n",
    "    .plot(kind='pie', y='price', legend=False, autopct='%1.0f%%'))\n",
    "    plt.title(feature)\n",
    "    plt.ylabel('')\n",
    "    plt.show()"
   ]
  },
  {
   "cell_type": "markdown",
   "id": "de74d67d",
   "metadata": {
    "id": "de74d67d"
   },
   "source": [
    "####  Интерпретация графиков\n",
    "- 76% автомобилей на механической коробке, 19% оснащены автоматической\n",
    "- 70% автомобилей не ремонтировались, 10% ремонтировались, при том у 20% автомобилей значение признака неизвестно"
   ]
  },
  {
   "cell_type": "markdown",
   "id": "b608859f",
   "metadata": {
    "id": "b608859f"
   },
   "source": [
    "### Корреляционный анализ данных\n",
    "\n",
    "Построим тепловую карту на основе матрицы корреляции между входными признаками и целевым, чтобы избавиться от мультиколлинеарности. Будем использовать phik, так как не все распределения имеют форму нормального."
   ]
  },
  {
   "cell_type": "code",
   "execution_count": 33,
   "id": "501db08e",
   "metadata": {
    "colab": {
     "base_uri": "https://localhost:8080/",
     "height": 880
    },
    "id": "501db08e",
    "outputId": "04175ed2-dceb-4b9a-ba60-afb847ecff11"
   },
   "outputs": [
    {
     "data": {
      "image/png": "[encoded data removed]",
      "text/plain": [
       "<Figure size 900x900 with 2 Axes>"
      ]
     },
     "metadata": {},
     "output_type": "display_data"
    }
   ],
   "source": [
    "matrix = data.phik_matrix(interval_cols=['price', 'power', 'kilometer'])\n",
    "plt.figure(figsize=(9,9))\n",
    "sns.heatmap(data=matrix, annot=True)\n",
    "plt.title('Тепловая карта матрицы корреляций phik')\n",
    "plt.show()"
   ]
  },
  {
   "cell_type": "markdown",
   "id": "9d72a971",
   "metadata": {
    "id": "9d72a971"
   },
   "source": [
    "#### Интерпретация графика\n",
    "- Присутствует мультиколлинеарность между моделью и маркой автомобиля, модель лучше влияет на цену, так что марку можно удалить\n",
    "- Присутствует значительная зависимость цены от года регистрации автомобиля и модели, остальные признаки умеренно влияют на цену."
   ]
  },
  {
   "cell_type": "code",
   "execution_count": 34,
   "id": "28f663c7",
   "metadata": {
    "id": "28f663c7"
   },
   "outputs": [],
   "source": [
    "data = data.drop('brand', axis=1)"
   ]
  },
  {
   "cell_type": "markdown",
   "id": "add6d862",
   "metadata": {
    "id": "add6d862"
   },
   "source": [
    "### Общий вывод по Исследовательскому анализу данных\n",
    "\n",
    "- Распределение **цены** не имеет форму нормального - при увеличении цены, частота встречаемых автомобилей уменьшается. Средняя цена 4416 евро, медианное значение 2700. Выбросы и аномалии устранены.\n",
    "- Распределение значения пробега не имеет форму нормального, большая часть (более 240000 автомобилей) имеют пробег более 140 000 км. Выбросы и аномалии не обнаружены.\n",
    "- Форма распределения мощности двигателя напоминает нормальное, смещенное влево, но присутствуют пики около 75, 120 и 150 л.с. Эти пики не вызывают вопросов, так как эти значения походят на типовые значения мощности двигателей. Среднее значение 117.36 л.с., медиана 109 л.с. Выбросы и аномалии устранены.\n",
    "- Форма распределения года регистрации ТС напоминает нормальное, смещенное вправо, с пиками в районе 1997, 2002 и 2006. Среднее значение 2004 год, медиана 2003.\n",
    "- Наиболее популярные автомобили для продажи - седан (около 90 000), далее идут мини-автомобили (80 000), универсалы (75 000). Наименее популярные - Внедорожники (15 000) и Купе (17 000)\n",
    "- Наиболее популярные марки автомобилей - Volkswagen (75 000), далее с большим отрывом Opel, BMW, Mercesed, Audi (менее 40 000). Наименее популярные - Lada, Lancia, Rover, Jaguar, их показатели сильно далеки от остальных марок (менее 2 тыс.)\n",
    "- 76% автомобилей на механической коробке, 19% оснащены автоматической.\n",
    "- 70% автомобилей не ремонтировались, 10% ремонтировались, при том у 20% автомобилей значение признака неизвестно.\n",
    "- Присутствует мультиколлинеарность между моделью и маркой автомобиля, модель лучше влияет на цену, признак Марка машины удален.\n",
    "- Присутствует значительная зависимость цены от года регистрации автомобиля и модели, остальные признаки умеренно влияют на цену."
   ]
  },
  {
   "cell_type": "markdown",
   "id": "ddc71b76",
   "metadata": {
    "id": "ddc71b76"
   },
   "source": [
    "## Обучение моделей МО\n",
    "\n",
    "Для сравнения будут использованы модели Регрессия на базе дерева решений и бустинг LightGBM.\n",
    "\n",
    "Необходимо при помощи пайплайнов и поиска гиперпараметров найти лучшие гиперпараметры для каждой модели, оценить скорость обучения, предсказания для каждой лучшей модели."
   ]
  },
  {
   "cell_type": "code",
   "execution_count": 35,
   "id": "996d8dc7",
   "metadata": {
    "id": "996d8dc7"
   },
   "outputs": [],
   "source": [
    "# Списки переменных для кодирования\n",
    "num_list = ['power', 'kilometer']\n",
    "ord_list = ['gearbox', 'repaired']\n",
    "ord_2_list = ['vehicle_type', 'model', 'fuel_type']"
   ]
  },
  {
   "cell_type": "code",
   "execution_count": 36,
   "id": "b2c34e58",
   "metadata": {
    "id": "b2c34e58"
   },
   "outputs": [],
   "source": [
    "np.random.seed(42)\n",
    "# Функция для разделения на выборки\n",
    "def chose_samples(data):\n",
    "    # Отделение тренировочной выборки\n",
    "    X_train, X_test, y_train, y_test = train_test_split(\n",
    "    data.drop('price', axis=1),\n",
    "    data['price'],\n",
    "    test_size=0.2\n",
    "    )\n",
    "\n",
    "    return X_train, X_test, y_train, y_test"
   ]
  },
  {
   "cell_type": "code",
   "execution_count": 37,
   "id": "86eec204",
   "metadata": {
    "id": "86eec204"
   },
   "outputs": [],
   "source": [
    "X_train, X_test, y_train, y_test = chose_samples(data)"
   ]
  },
  {
   "cell_type": "code",
   "execution_count": 38,
   "id": "1d9dcb1d",
   "metadata": {
    "id": "1d9dcb1d"
   },
   "outputs": [],
   "source": [
    "# Словари для подбора гиперпараметров\n",
    "# реализованы не списком словарей, а отдельными переменными, так как\n",
    "# необходимо оценивать скорость работы каждой модели.\n",
    "tree_regressor_params = {\n",
    "    'models': [DecisionTreeRegressor()],\n",
    "    'models__min_samples_split': range(2, 10),\n",
    "    'models__min_samples_leaf': range(1, 10),\n",
    "    'models__max_depth': range(2, 7)\n",
    "}\n",
    "\n",
    "lgbm_params = {\n",
    "    'models': [LGBMRegressor()],\n",
    "    'models__boosting_type': ['gbdt', 'dart', 'rf']\n",
    "}"
   ]
  },
  {
   "cell_type": "code",
   "execution_count": 39,
   "id": "5a014ac1",
   "metadata": {
    "id": "5a014ac1"
   },
   "outputs": [],
   "source": [
    "np.random.seed(42)\n",
    "# Для обучения моделей будем использовать функцию\n",
    "def learn_model(params):\n",
    "\n",
    "    # Пайплайн для обработки признаков и обучения модели\n",
    "    ord_pipe = Pipeline(\n",
    "        [\n",
    "            ('ord', OrdinalEncoder(\n",
    "                categories=[['unknown', 'manual', 'auto'],\n",
    "                            ['unknown', 'no', 'yes']],\n",
    "                handle_unknown='use_encoded_value', unknown_value=-1)\n",
    "            )\n",
    "        ]\n",
    "    )\n",
    "    \n",
    "    ord_2_pipe = Pipeline(\n",
    "        [\n",
    "            ('ord', OrdinalEncoder(\n",
    "                categories='auto',\n",
    "                handle_unknown='use_encoded_value', unknown_value=-1)\n",
    "            )\n",
    "        ]\n",
    "    )\n",
    "\n",
    "    data_preprocessor = ColumnTransformer(\n",
    "        [\n",
    "            ('ord', ord_pipe, ord_list),\n",
    "            ('ord_2', ord_2_pipe, ord_2_list),\n",
    "            ('num', StandardScaler(), num_list)\n",
    "        ],\n",
    "        remainder='passthrough'\n",
    "    )\n",
    "\n",
    "    final_pipe = Pipeline(\n",
    "        [\n",
    "            ('preprocessor', data_preprocessor),\n",
    "            ('models', DecisionTreeRegressor())\n",
    "        ]\n",
    "    )\n",
    "\n",
    "    # Обучение модели МО\n",
    "    search = RandomizedSearchCV(\n",
    "        final_pipe,\n",
    "        params,\n",
    "        cv=5,\n",
    "        scoring='neg_root_mean_squared_error',\n",
    "        n_jobs=-1\n",
    "    )\n",
    "\n",
    "    search.fit(X_train, y_train)\n",
    "\n",
    "    print(f'Лучшая модель: {search.best_estimator_}')\n",
    "\n",
    "    # Вывод метрик\n",
    "    print(\n",
    "        f'Метрика RMSE на кросс-валидации: {-search.best_score_}')\n",
    "\n",
    "    return search.best_estimator_"
   ]
  },
  {
   "cell_type": "code",
   "execution_count": 40,
   "id": "77459a0f",
   "metadata": {
    "colab": {
     "base_uri": "https://localhost:8080/"
    },
    "id": "77459a0f",
    "outputId": "3221b6b5-a3b2-4be8-eca3-80b2b27e166f",
    "scrolled": false
   },
   "outputs": [
    {
     "name": "stdout",
     "output_type": "stream",
     "text": [
      "Лучшая модель: Pipeline(steps=[('preprocessor',\n",
      "                 ColumnTransformer(remainder='passthrough',\n",
      "                                   transformers=[('ord',\n",
      "                                                  Pipeline(steps=[('ord',\n",
      "                                                                   OrdinalEncoder(categories=[['unknown',\n",
      "                                                                                               'manual',\n",
      "                                                                                               'auto'],\n",
      "                                                                                              ['unknown',\n",
      "                                                                                               'no',\n",
      "                                                                                               'yes']],\n",
      "                                                                                  handle_unknown='use_encoded_value',\n",
      "                                                                                  unknown_value=-1))]),\n",
      "                                                  ['gearbox', 'repaired']),\n",
      "                                                 ('ord_2',\n",
      "                                                  Pipeline(steps=[('ord',\n",
      "                                                                   OrdinalEncoder(handle_unknown='use_encoded_value',\n",
      "                                                                                  unknown_value=-1))]),\n",
      "                                                  ['vehicle_type', 'model',\n",
      "                                                   'fuel_type']),\n",
      "                                                 ('num', StandardScaler(),\n",
      "                                                  ['power', 'kilometer'])])),\n",
      "                ('models',\n",
      "                 DecisionTreeRegressor(max_depth=6, min_samples_leaf=2,\n",
      "                                       min_samples_split=8))])\n",
      "Метрика RMSE на кросс-валидации: 2302.7550168000002\n"
     ]
    }
   ],
   "source": [
    "best_tree = learn_model(tree_regressor_params)"
   ]
  },
  {
   "cell_type": "markdown",
   "id": "0a931887",
   "metadata": {},
   "source": [
    "Лучшие гиперпараметры для модели получены, а теперь обучим ее не используя поиск, чтобы вычислить время обучения и предсказания отдельно."
   ]
  },
  {
   "cell_type": "code",
   "execution_count": 41,
   "id": "68c58e09",
   "metadata": {},
   "outputs": [],
   "source": [
    "# Преобразуем тренировочную и выборки\n",
    "X_train_transformed = best_tree['preprocessor'].transform(X_train)\n",
    "\n",
    "best_tree_time_test = DecisionTreeRegressor(\n",
    "    max_depth=7, min_samples_leaf=6, min_samples_split=4)"
   ]
  },
  {
   "cell_type": "code",
   "execution_count": 42,
   "id": "9c8324e6",
   "metadata": {},
   "outputs": [
    {
     "name": "stdout",
     "output_type": "stream",
     "text": [
      "CPU times: user 242 ms, sys: 3.03 ms, total: 245 ms\n",
      "Wall time: 244 ms\n"
     ]
    },
    {
     "data": {
      "text/html": [
       "<style>#sk-container-id-1 {\n",
       "  /* Definition of color scheme common for light and dark mode */\n",
       "  --sklearn-color-text: black;\n",
       "  --sklearn-color-line: gray;\n",
       "  /* Definition of color scheme for unfitted estimators */\n",
       "  --sklearn-color-unfitted-level-0: #fff5e6;\n",
       "  --sklearn-color-unfitted-level-1: #f6e4d2;\n",
       "  --sklearn-color-unfitted-level-2: #ffe0b3;\n",
       "  --sklearn-color-unfitted-level-3: chocolate;\n",
       "  /* Definition of color scheme for fitted estimators */\n",
       "  --sklearn-color-fitted-level-0: #f0f8ff;\n",
       "  --sklearn-color-fitted-level-1: #d4ebff;\n",
       "  --sklearn-color-fitted-level-2: #b3dbfd;\n",
       "  --sklearn-color-fitted-level-3: cornflowerblue;\n",
       "\n",
       "  /* Specific color for light theme */\n",
       "  --sklearn-color-text-on-default-background: var(--sg-text-color, var(--theme-code-foreground, var(--jp-content-font-color1, black)));\n",
       "  --sklearn-color-background: var(--sg-background-color, var(--theme-background, var(--jp-layout-color0, white)));\n",
       "  --sklearn-color-border-box: var(--sg-text-color, var(--theme-code-foreground, var(--jp-content-font-color1, black)));\n",
       "  --sklearn-color-icon: #696969;\n",
       "\n",
       "  @media (prefers-color-scheme: dark) {\n",
       "    /* Redefinition of color scheme for dark theme */\n",
       "    --sklearn-color-text-on-default-background: var(--sg-text-color, var(--theme-code-foreground, var(--jp-content-font-color1, white)));\n",
       "    --sklearn-color-background: var(--sg-background-color, var(--theme-background, var(--jp-layout-color0, #111)));\n",
       "    --sklearn-color-border-box: var(--sg-text-color, var(--theme-code-foreground, var(--jp-content-font-color1, white)));\n",
       "    --sklearn-color-icon: #878787;\n",
       "  }\n",
       "}\n",
       "\n",
       "#sk-container-id-1 {\n",
       "  color: var(--sklearn-color-text);\n",
       "}\n",
       "\n",
       "#sk-container-id-1 pre {\n",
       "  padding: 0;\n",
       "}\n",
       "\n",
       "#sk-container-id-1 input.sk-hidden--visually {\n",
       "  border: 0;\n",
       "  clip: rect(1px 1px 1px 1px);\n",
       "  clip: rect(1px, 1px, 1px, 1px);\n",
       "  height: 1px;\n",
       "  margin: -1px;\n",
       "  overflow: hidden;\n",
       "  padding: 0;\n",
       "  position: absolute;\n",
       "  width: 1px;\n",
       "}\n",
       "\n",
       "#sk-container-id-1 div.sk-dashed-wrapped {\n",
       "  border: 1px dashed var(--sklearn-color-line);\n",
       "  margin: 0 0.4em 0.5em 0.4em;\n",
       "  box-sizing: border-box;\n",
       "  padding-bottom: 0.4em;\n",
       "  background-color: var(--sklearn-color-background);\n",
       "}\n",
       "\n",
       "#sk-container-id-1 div.sk-container {\n",
       "  /* jupyter's `normalize.less` sets `[hidden] { display: none; }`\n",
       "     but bootstrap.min.css set `[hidden] { display: none !important; }`\n",
       "     so we also need the `!important` here to be able to override the\n",
       "     default hidden behavior on the sphinx rendered scikit-learn.org.\n",
       "     See: https://github.com/scikit-learn/scikit-learn/issues/21755 */\n",
       "  display: inline-block !important;\n",
       "  position: relative;\n",
       "}\n",
       "\n",
       "#sk-container-id-1 div.sk-text-repr-fallback {\n",
       "  display: none;\n",
       "}\n",
       "\n",
       "div.sk-parallel-item,\n",
       "div.sk-serial,\n",
       "div.sk-item {\n",
       "  /* draw centered vertical line to link estimators */\n",
       "  background-image: linear-gradient(var(--sklearn-color-text-on-default-background), var(--sklearn-color-text-on-default-background));\n",
       "  background-size: 2px 100%;\n",
       "  background-repeat: no-repeat;\n",
       "  background-position: center center;\n",
       "}\n",
       "\n",
       "/* Parallel-specific style estimator block */\n",
       "\n",
       "#sk-container-id-1 div.sk-parallel-item::after {\n",
       "  content: \"\";\n",
       "  width: 100%;\n",
       "  border-bottom: 2px solid var(--sklearn-color-text-on-default-background);\n",
       "  flex-grow: 1;\n",
       "}\n",
       "\n",
       "#sk-container-id-1 div.sk-parallel {\n",
       "  display: flex;\n",
       "  align-items: stretch;\n",
       "  justify-content: center;\n",
       "  background-color: var(--sklearn-color-background);\n",
       "  position: relative;\n",
       "}\n",
       "\n",
       "#sk-container-id-1 div.sk-parallel-item {\n",
       "  display: flex;\n",
       "  flex-direction: column;\n",
       "}\n",
       "\n",
       "#sk-container-id-1 div.sk-parallel-item:first-child::after {\n",
       "  align-self: flex-end;\n",
       "  width: 50%;\n",
       "}\n",
       "\n",
       "#sk-container-id-1 div.sk-parallel-item:last-child::after {\n",
       "  align-self: flex-start;\n",
       "  width: 50%;\n",
       "}\n",
       "\n",
       "#sk-container-id-1 div.sk-parallel-item:only-child::after {\n",
       "  width: 0;\n",
       "}\n",
       "\n",
       "/* Serial-specific style estimator block */\n",
       "\n",
       "#sk-container-id-1 div.sk-serial {\n",
       "  display: flex;\n",
       "  flex-direction: column;\n",
       "  align-items: center;\n",
       "  background-color: var(--sklearn-color-background);\n",
       "  padding-right: 1em;\n",
       "  padding-left: 1em;\n",
       "}\n",
       "\n",
       "\n",
       "/* Toggleable style: style used for estimator/Pipeline/ColumnTransformer box that is\n",
       "clickable and can be expanded/collapsed.\n",
       "- Pipeline and ColumnTransformer use this feature and define the default style\n",
       "- Estimators will overwrite some part of the style using the `sk-estimator` class\n",
       "*/\n",
       "\n",
       "/* Pipeline and ColumnTransformer style (default) */\n",
       "\n",
       "#sk-container-id-1 div.sk-toggleable {\n",
       "  /* Default theme specific background. It is overwritten whether we have a\n",
       "  specific estimator or a Pipeline/ColumnTransformer */\n",
       "  background-color: var(--sklearn-color-background);\n",
       "}\n",
       "\n",
       "/* Toggleable label */\n",
       "#sk-container-id-1 label.sk-toggleable__label {\n",
       "  cursor: pointer;\n",
       "  display: block;\n",
       "  width: 100%;\n",
       "  margin-bottom: 0;\n",
       "  padding: 0.5em;\n",
       "  box-sizing: border-box;\n",
       "  text-align: center;\n",
       "}\n",
       "\n",
       "#sk-container-id-1 label.sk-toggleable__label-arrow:before {\n",
       "  /* Arrow on the left of the label */\n",
       "  content: \"▸\";\n",
       "  float: left;\n",
       "  margin-right: 0.25em;\n",
       "  color: var(--sklearn-color-icon);\n",
       "}\n",
       "\n",
       "#sk-container-id-1 label.sk-toggleable__label-arrow:hover:before {\n",
       "  color: var(--sklearn-color-text);\n",
       "}\n",
       "\n",
       "/* Toggleable content - dropdown */\n",
       "\n",
       "#sk-container-id-1 div.sk-toggleable__content {\n",
       "  max-height: 0;\n",
       "  max-width: 0;\n",
       "  overflow: hidden;\n",
       "  text-align: left;\n",
       "  /* unfitted */\n",
       "  background-color: var(--sklearn-color-unfitted-level-0);\n",
       "}\n",
       "\n",
       "#sk-container-id-1 div.sk-toggleable__content.fitted {\n",
       "  /* fitted */\n",
       "  background-color: var(--sklearn-color-fitted-level-0);\n",
       "}\n",
       "\n",
       "#sk-container-id-1 div.sk-toggleable__content pre {\n",
       "  margin: 0.2em;\n",
       "  border-radius: 0.25em;\n",
       "  color: var(--sklearn-color-text);\n",
       "  /* unfitted */\n",
       "  background-color: var(--sklearn-color-unfitted-level-0);\n",
       "}\n",
       "\n",
       "#sk-container-id-1 div.sk-toggleable__content.fitted pre {\n",
       "  /* unfitted */\n",
       "  background-color: var(--sklearn-color-fitted-level-0);\n",
       "}\n",
       "\n",
       "#sk-container-id-1 input.sk-toggleable__control:checked~div.sk-toggleable__content {\n",
       "  /* Expand drop-down */\n",
       "  max-height: 200px;\n",
       "  max-width: 100%;\n",
       "  overflow: auto;\n",
       "}\n",
       "\n",
       "#sk-container-id-1 input.sk-toggleable__control:checked~label.sk-toggleable__label-arrow:before {\n",
       "  content: \"▾\";\n",
       "}\n",
       "\n",
       "/* Pipeline/ColumnTransformer-specific style */\n",
       "\n",
       "#sk-container-id-1 div.sk-label input.sk-toggleable__control:checked~label.sk-toggleable__label {\n",
       "  color: var(--sklearn-color-text);\n",
       "  background-color: var(--sklearn-color-unfitted-level-2);\n",
       "}\n",
       "\n",
       "#sk-container-id-1 div.sk-label.fitted input.sk-toggleable__control:checked~label.sk-toggleable__label {\n",
       "  background-color: var(--sklearn-color-fitted-level-2);\n",
       "}\n",
       "\n",
       "/* Estimator-specific style */\n",
       "\n",
       "/* Colorize estimator box */\n",
       "#sk-container-id-1 div.sk-estimator input.sk-toggleable__control:checked~label.sk-toggleable__label {\n",
       "  /* unfitted */\n",
       "  background-color: var(--sklearn-color-unfitted-level-2);\n",
       "}\n",
       "\n",
       "#sk-container-id-1 div.sk-estimator.fitted input.sk-toggleable__control:checked~label.sk-toggleable__label {\n",
       "  /* fitted */\n",
       "  background-color: var(--sklearn-color-fitted-level-2);\n",
       "}\n",
       "\n",
       "#sk-container-id-1 div.sk-label label.sk-toggleable__label,\n",
       "#sk-container-id-1 div.sk-label label {\n",
       "  /* The background is the default theme color */\n",
       "  color: var(--sklearn-color-text-on-default-background);\n",
       "}\n",
       "\n",
       "/* On hover, darken the color of the background */\n",
       "#sk-container-id-1 div.sk-label:hover label.sk-toggleable__label {\n",
       "  color: var(--sklearn-color-text);\n",
       "  background-color: var(--sklearn-color-unfitted-level-2);\n",
       "}\n",
       "\n",
       "/* Label box, darken color on hover, fitted */\n",
       "#sk-container-id-1 div.sk-label.fitted:hover label.sk-toggleable__label.fitted {\n",
       "  color: var(--sklearn-color-text);\n",
       "  background-color: var(--sklearn-color-fitted-level-2);\n",
       "}\n",
       "\n",
       "/* Estimator label */\n",
       "\n",
       "#sk-container-id-1 div.sk-label label {\n",
       "  font-family: monospace;\n",
       "  font-weight: bold;\n",
       "  display: inline-block;\n",
       "  line-height: 1.2em;\n",
       "}\n",
       "\n",
       "#sk-container-id-1 div.sk-label-container {\n",
       "  text-align: center;\n",
       "}\n",
       "\n",
       "/* Estimator-specific */\n",
       "#sk-container-id-1 div.sk-estimator {\n",
       "  font-family: monospace;\n",
       "  border: 1px dotted var(--sklearn-color-border-box);\n",
       "  border-radius: 0.25em;\n",
       "  box-sizing: border-box;\n",
       "  margin-bottom: 0.5em;\n",
       "  /* unfitted */\n",
       "  background-color: var(--sklearn-color-unfitted-level-0);\n",
       "}\n",
       "\n",
       "#sk-container-id-1 div.sk-estimator.fitted {\n",
       "  /* fitted */\n",
       "  background-color: var(--sklearn-color-fitted-level-0);\n",
       "}\n",
       "\n",
       "/* on hover */\n",
       "#sk-container-id-1 div.sk-estimator:hover {\n",
       "  /* unfitted */\n",
       "  background-color: var(--sklearn-color-unfitted-level-2);\n",
       "}\n",
       "\n",
       "#sk-container-id-1 div.sk-estimator.fitted:hover {\n",
       "  /* fitted */\n",
       "  background-color: var(--sklearn-color-fitted-level-2);\n",
       "}\n",
       "\n",
       "/* Specification for estimator info (e.g. \"i\" and \"?\") */\n",
       "\n",
       "/* Common style for \"i\" and \"?\" */\n",
       "\n",
       ".sk-estimator-doc-link,\n",
       "a:link.sk-estimator-doc-link,\n",
       "a:visited.sk-estimator-doc-link {\n",
       "  float: right;\n",
       "  font-size: smaller;\n",
       "  line-height: 1em;\n",
       "  font-family: monospace;\n",
       "  background-color: var(--sklearn-color-background);\n",
       "  border-radius: 1em;\n",
       "  height: 1em;\n",
       "  width: 1em;\n",
       "  text-decoration: none !important;\n",
       "  margin-left: 1ex;\n",
       "  /* unfitted */\n",
       "  border: var(--sklearn-color-unfitted-level-1) 1pt solid;\n",
       "  color: var(--sklearn-color-unfitted-level-1);\n",
       "}\n",
       "\n",
       ".sk-estimator-doc-link.fitted,\n",
       "a:link.sk-estimator-doc-link.fitted,\n",
       "a:visited.sk-estimator-doc-link.fitted {\n",
       "  /* fitted */\n",
       "  border: var(--sklearn-color-fitted-level-1) 1pt solid;\n",
       "  color: var(--sklearn-color-fitted-level-1);\n",
       "}\n",
       "\n",
       "/* On hover */\n",
       "div.sk-estimator:hover .sk-estimator-doc-link:hover,\n",
       ".sk-estimator-doc-link:hover,\n",
       "div.sk-label-container:hover .sk-estimator-doc-link:hover,\n",
       ".sk-estimator-doc-link:hover {\n",
       "  /* unfitted */\n",
       "  background-color: var(--sklearn-color-unfitted-level-3);\n",
       "  color: var(--sklearn-color-background);\n",
       "  text-decoration: none;\n",
       "}\n",
       "\n",
       "div.sk-estimator.fitted:hover .sk-estimator-doc-link.fitted:hover,\n",
       ".sk-estimator-doc-link.fitted:hover,\n",
       "div.sk-label-container:hover .sk-estimator-doc-link.fitted:hover,\n",
       ".sk-estimator-doc-link.fitted:hover {\n",
       "  /* fitted */\n",
       "  background-color: var(--sklearn-color-fitted-level-3);\n",
       "  color: var(--sklearn-color-background);\n",
       "  text-decoration: none;\n",
       "}\n",
       "\n",
       "/* Span, style for the box shown on hovering the info icon */\n",
       ".sk-estimator-doc-link span {\n",
       "  display: none;\n",
       "  z-index: 9999;\n",
       "  position: relative;\n",
       "  font-weight: normal;\n",
       "  right: .2ex;\n",
       "  padding: .5ex;\n",
       "  margin: .5ex;\n",
       "  width: min-content;\n",
       "  min-width: 20ex;\n",
       "  max-width: 50ex;\n",
       "  color: var(--sklearn-color-text);\n",
       "  box-shadow: 2pt 2pt 4pt #999;\n",
       "  /* unfitted */\n",
       "  background: var(--sklearn-color-unfitted-level-0);\n",
       "  border: .5pt solid var(--sklearn-color-unfitted-level-3);\n",
       "}\n",
       "\n",
       ".sk-estimator-doc-link.fitted span {\n",
       "  /* fitted */\n",
       "  background: var(--sklearn-color-fitted-level-0);\n",
       "  border: var(--sklearn-color-fitted-level-3);\n",
       "}\n",
       "\n",
       ".sk-estimator-doc-link:hover span {\n",
       "  display: block;\n",
       "}\n",
       "\n",
       "/* \"?\"-specific style due to the `<a>` HTML tag */\n",
       "\n",
       "#sk-container-id-1 a.estimator_doc_link {\n",
       "  float: right;\n",
       "  font-size: 1rem;\n",
       "  line-height: 1em;\n",
       "  font-family: monospace;\n",
       "  background-color: var(--sklearn-color-background);\n",
       "  border-radius: 1rem;\n",
       "  height: 1rem;\n",
       "  width: 1rem;\n",
       "  text-decoration: none;\n",
       "  /* unfitted */\n",
       "  color: var(--sklearn-color-unfitted-level-1);\n",
       "  border: var(--sklearn-color-unfitted-level-1) 1pt solid;\n",
       "}\n",
       "\n",
       "#sk-container-id-1 a.estimator_doc_link.fitted {\n",
       "  /* fitted */\n",
       "  border: var(--sklearn-color-fitted-level-1) 1pt solid;\n",
       "  color: var(--sklearn-color-fitted-level-1);\n",
       "}\n",
       "\n",
       "/* On hover */\n",
       "#sk-container-id-1 a.estimator_doc_link:hover {\n",
       "  /* unfitted */\n",
       "  background-color: var(--sklearn-color-unfitted-level-3);\n",
       "  color: var(--sklearn-color-background);\n",
       "  text-decoration: none;\n",
       "}\n",
       "\n",
       "#sk-container-id-1 a.estimator_doc_link.fitted:hover {\n",
       "  /* fitted */\n",
       "  background-color: var(--sklearn-color-fitted-level-3);\n",
       "}\n",
       "</style><div id=\"sk-container-id-1\" class=\"sk-top-container\"><div class=\"sk-text-repr-fallback\"><pre>DecisionTreeRegressor(max_depth=7, min_samples_leaf=6, min_samples_split=4)</pre><b>In a Jupyter environment, please rerun this cell to show the HTML representation or trust the notebook. <br />On GitHub, the HTML representation is unable to render, please try loading this page with nbviewer.org.</b></div><div class=\"sk-container\" hidden><div class=\"sk-item\"><div class=\"sk-estimator fitted sk-toggleable\"><input class=\"sk-toggleable__control sk-hidden--visually\" id=\"sk-estimator-id-1\" type=\"checkbox\" checked><label for=\"sk-estimator-id-1\" class=\"sk-toggleable__label fitted sk-toggleable__label-arrow fitted\">&nbsp;&nbsp;DecisionTreeRegressor<a class=\"sk-estimator-doc-link fitted\" rel=\"noreferrer\" target=\"_blank\" href=\"https://scikit-learn.org/1.4/modules/generated/sklearn.tree.DecisionTreeRegressor.html\">?<span>Documentation for DecisionTreeRegressor</span></a><span class=\"sk-estimator-doc-link fitted\">i<span>Fitted</span></span></label><div class=\"sk-toggleable__content fitted\"><pre>DecisionTreeRegressor(max_depth=7, min_samples_leaf=6, min_samples_split=4)</pre></div> </div></div></div></div>"
      ],
      "text/plain": [
       "DecisionTreeRegressor(max_depth=7, min_samples_leaf=6, min_samples_split=4)"
      ]
     },
     "execution_count": 42,
     "metadata": {},
     "output_type": "execute_result"
    }
   ],
   "source": [
    "%%time\n",
    "# Обучение модели\n",
    "best_tree_time_test.fit(X_train_transformed, y_train)"
   ]
  },
  {
   "cell_type": "code",
   "execution_count": 43,
   "id": "cf48f89a",
   "metadata": {
    "scrolled": true
   },
   "outputs": [
    {
     "name": "stdout",
     "output_type": "stream",
     "text": [
      "CPU times: user 12 ms, sys: 1.76 ms, total: 13.8 ms\n",
      "Wall time: 12.7 ms\n"
     ]
    }
   ],
   "source": [
    "%%time\n",
    "# Предсказание модели\n",
    "tree_prediction = best_tree_time_test.predict(X_train_transformed)"
   ]
  },
  {
   "cell_type": "markdown",
   "id": "8f5fe303",
   "metadata": {},
   "source": [
    "#### Показатели Дерева решений\n",
    "- RMSE на кросс-валидации 2302\n",
    "- Время обучения 221 милисекунда\n",
    "- Время предсказания 12.1 милисекунд"
   ]
  },
  {
   "cell_type": "code",
   "execution_count": 44,
   "id": "a872c9c9",
   "metadata": {
    "colab": {
     "base_uri": "https://localhost:8080/"
    },
    "id": "a872c9c9",
    "outputId": "f975ac09-ffac-42f1-a30b-527927aca62e",
    "scrolled": true
   },
   "outputs": [
    {
     "name": "stderr",
     "output_type": "stream",
     "text": [
      "[LightGBM] [Fatal] Check failed: (config->bagging_freq > 0 && config->bagging_fraction < 1.0f && config->bagging_fraction > 0.0f) || (config->feature_fraction < 1.0f && config->feature_fraction > 0.0f) at /private/var/folders/k1/30mswbxs7r1g6zwn8y4fyt500000gp/T/abs_0e15gqmeju/croot/lightgbm_1723565410808/work/src/boosting/rf.hpp, line 37 .\n",
      "\n",
      "[LightGBM] [Fatal] Check failed: (config->bagging_freq > 0 && config->bagging_fraction < 1.0f && config->bagging_fraction > 0.0f) || (config->feature_fraction < 1.0f && config->feature_fraction > 0.0f) at /private/var/folders/k1/30mswbxs7r1g6zwn8y4fyt500000gp/T/abs_0e15gqmeju/croot/lightgbm_1723565410808/work/src/boosting/rf.hpp, line 37 .\n",
      "\n",
      "[LightGBM] [Fatal] Check failed: (config->bagging_freq > 0 && config->bagging_fraction < 1.0f && config->bagging_fraction > 0.0f) || (config->feature_fraction < 1.0f && config->feature_fraction > 0.0f) at /private/var/folders/k1/30mswbxs7r1g6zwn8y4fyt500000gp/T/abs_0e15gqmeju/croot/lightgbm_1723565410808/work/src/boosting/rf.hpp, line 37 .\n",
      "\n",
      "[LightGBM] [Fatal] Check failed: (config->bagging_freq > 0 && config->bagging_fraction < 1.0f && config->bagging_fraction > 0.0f) || (config->feature_fraction < 1.0f && config->feature_fraction > 0.0f) at /private/var/folders/k1/30mswbxs7r1g6zwn8y4fyt500000gp/T/abs_0e15gqmeju/croot/lightgbm_1723565410808/work/src/boosting/rf.hpp, line 37 .\n",
      "\n",
      "[LightGBM] [Fatal] Check failed: (config->bagging_freq > 0 && config->bagging_fraction < 1.0f && config->bagging_fraction > 0.0f) || (config->feature_fraction < 1.0f && config->feature_fraction > 0.0f) at /private/var/folders/k1/30mswbxs7r1g6zwn8y4fyt500000gp/T/abs_0e15gqmeju/croot/lightgbm_1723565410808/work/src/boosting/rf.hpp, line 37 .\n",
      "\n"
     ]
    },
    {
     "name": "stdout",
     "output_type": "stream",
     "text": [
      "[LightGBM] [Info] Auto-choosing row-wise multi-threading, the overhead of testing was 0.004617 seconds.\n",
      "You can set `force_row_wise=true` to remove the overhead.\n",
      "And if memory is not enough, you can set `force_col_wise=true`.\n",
      "[LightGBM] [Info] Total Bins 532\n",
      "[LightGBM] [Info] Number of data points in the train set: 280646, number of used features: 8\n",
      "[LightGBM] [Info] Start training from score 4483.850434\n",
      "Лучшая модель: Pipeline(steps=[('preprocessor',\n",
      "                 ColumnTransformer(remainder='passthrough',\n",
      "                                   transformers=[('ord',\n",
      "                                                  Pipeline(steps=[('ord',\n",
      "                                                                   OrdinalEncoder(categories=[['unknown',\n",
      "                                                                                               'manual',\n",
      "                                                                                               'auto'],\n",
      "                                                                                              ['unknown',\n",
      "                                                                                               'no',\n",
      "                                                                                               'yes']],\n",
      "                                                                                  handle_unknown='use_encoded_value',\n",
      "                                                                                  unknown_value=-1))]),\n",
      "                                                  ['gearbox', 'repaired']),\n",
      "                                                 ('ord_2',\n",
      "                                                  Pipeline(steps=[('ord',\n",
      "                                                                   OrdinalEncoder(handle_unknown='use_encoded_value',\n",
      "                                                                                  unknown_value=-1))]),\n",
      "                                                  ['vehicle_type', 'model',\n",
      "                                                   'fuel_type']),\n",
      "                                                 ('num', StandardScaler(),\n",
      "                                                  ['power', 'kilometer'])])),\n",
      "                ('models', LGBMRegressor())])\n",
      "Метрика RMSE на кросс-валидации: 1813.7562068680522\n"
     ]
    }
   ],
   "source": [
    "best_boosting = learn_model(lgbm_params)"
   ]
  },
  {
   "cell_type": "markdown",
   "id": "b9f862d2",
   "metadata": {},
   "source": [
    "Лучшие гиперпараметры для модели получены, а теперь обучим ее не используя поиск, чтобы вычислить время обучения и предсказания отдельно."
   ]
  },
  {
   "cell_type": "code",
   "execution_count": 45,
   "id": "55b4fe11",
   "metadata": {},
   "outputs": [],
   "source": [
    "# Модель\n",
    "best_lgbm_time_test = LGBMRegressor(max_depth=6)"
   ]
  },
  {
   "cell_type": "code",
   "execution_count": 46,
   "id": "3e6871bc",
   "metadata": {},
   "outputs": [
    {
     "name": "stdout",
     "output_type": "stream",
     "text": [
      "[LightGBM] [Info] Auto-choosing row-wise multi-threading, the overhead of testing was 0.004208 seconds.\n",
      "You can set `force_row_wise=true` to remove the overhead.\n",
      "And if memory is not enough, you can set `force_col_wise=true`.\n",
      "[LightGBM] [Info] Total Bins 532\n",
      "[LightGBM] [Info] Number of data points in the train set: 280646, number of used features: 8\n",
      "[LightGBM] [Info] Start training from score 4483.850434\n",
      "CPU times: user 2.85 s, sys: 730 ms, total: 3.58 s\n",
      "Wall time: 514 ms\n"
     ]
    },
    {
     "data": {
      "text/html": [
       "<style>#sk-container-id-2 {\n",
       "  /* Definition of color scheme common for light and dark mode */\n",
       "  --sklearn-color-text: black;\n",
       "  --sklearn-color-line: gray;\n",
       "  /* Definition of color scheme for unfitted estimators */\n",
       "  --sklearn-color-unfitted-level-0: #fff5e6;\n",
       "  --sklearn-color-unfitted-level-1: #f6e4d2;\n",
       "  --sklearn-color-unfitted-level-2: #ffe0b3;\n",
       "  --sklearn-color-unfitted-level-3: chocolate;\n",
       "  /* Definition of color scheme for fitted estimators */\n",
       "  --sklearn-color-fitted-level-0: #f0f8ff;\n",
       "  --sklearn-color-fitted-level-1: #d4ebff;\n",
       "  --sklearn-color-fitted-level-2: #b3dbfd;\n",
       "  --sklearn-color-fitted-level-3: cornflowerblue;\n",
       "\n",
       "  /* Specific color for light theme */\n",
       "  --sklearn-color-text-on-default-background: var(--sg-text-color, var(--theme-code-foreground, var(--jp-content-font-color1, black)));\n",
       "  --sklearn-color-background: var(--sg-background-color, var(--theme-background, var(--jp-layout-color0, white)));\n",
       "  --sklearn-color-border-box: var(--sg-text-color, var(--theme-code-foreground, var(--jp-content-font-color1, black)));\n",
       "  --sklearn-color-icon: #696969;\n",
       "\n",
       "  @media (prefers-color-scheme: dark) {\n",
       "    /* Redefinition of color scheme for dark theme */\n",
       "    --sklearn-color-text-on-default-background: var(--sg-text-color, var(--theme-code-foreground, var(--jp-content-font-color1, white)));\n",
       "    --sklearn-color-background: var(--sg-background-color, var(--theme-background, var(--jp-layout-color0, #111)));\n",
       "    --sklearn-color-border-box: var(--sg-text-color, var(--theme-code-foreground, var(--jp-content-font-color1, white)));\n",
       "    --sklearn-color-icon: #878787;\n",
       "  }\n",
       "}\n",
       "\n",
       "#sk-container-id-2 {\n",
       "  color: var(--sklearn-color-text);\n",
       "}\n",
       "\n",
       "#sk-container-id-2 pre {\n",
       "  padding: 0;\n",
       "}\n",
       "\n",
       "#sk-container-id-2 input.sk-hidden--visually {\n",
       "  border: 0;\n",
       "  clip: rect(1px 1px 1px 1px);\n",
       "  clip: rect(1px, 1px, 1px, 1px);\n",
       "  height: 1px;\n",
       "  margin: -1px;\n",
       "  overflow: hidden;\n",
       "  padding: 0;\n",
       "  position: absolute;\n",
       "  width: 1px;\n",
       "}\n",
       "\n",
       "#sk-container-id-2 div.sk-dashed-wrapped {\n",
       "  border: 1px dashed var(--sklearn-color-line);\n",
       "  margin: 0 0.4em 0.5em 0.4em;\n",
       "  box-sizing: border-box;\n",
       "  padding-bottom: 0.4em;\n",
       "  background-color: var(--sklearn-color-background);\n",
       "}\n",
       "\n",
       "#sk-container-id-2 div.sk-container {\n",
       "  /* jupyter's `normalize.less` sets `[hidden] { display: none; }`\n",
       "     but bootstrap.min.css set `[hidden] { display: none !important; }`\n",
       "     so we also need the `!important` here to be able to override the\n",
       "     default hidden behavior on the sphinx rendered scikit-learn.org.\n",
       "     See: https://github.com/scikit-learn/scikit-learn/issues/21755 */\n",
       "  display: inline-block !important;\n",
       "  position: relative;\n",
       "}\n",
       "\n",
       "#sk-container-id-2 div.sk-text-repr-fallback {\n",
       "  display: none;\n",
       "}\n",
       "\n",
       "div.sk-parallel-item,\n",
       "div.sk-serial,\n",
       "div.sk-item {\n",
       "  /* draw centered vertical line to link estimators */\n",
       "  background-image: linear-gradient(var(--sklearn-color-text-on-default-background), var(--sklearn-color-text-on-default-background));\n",
       "  background-size: 2px 100%;\n",
       "  background-repeat: no-repeat;\n",
       "  background-position: center center;\n",
       "}\n",
       "\n",
       "/* Parallel-specific style estimator block */\n",
       "\n",
       "#sk-container-id-2 div.sk-parallel-item::after {\n",
       "  content: \"\";\n",
       "  width: 100%;\n",
       "  border-bottom: 2px solid var(--sklearn-color-text-on-default-background);\n",
       "  flex-grow: 1;\n",
       "}\n",
       "\n",
       "#sk-container-id-2 div.sk-parallel {\n",
       "  display: flex;\n",
       "  align-items: stretch;\n",
       "  justify-content: center;\n",
       "  background-color: var(--sklearn-color-background);\n",
       "  position: relative;\n",
       "}\n",
       "\n",
       "#sk-container-id-2 div.sk-parallel-item {\n",
       "  display: flex;\n",
       "  flex-direction: column;\n",
       "}\n",
       "\n",
       "#sk-container-id-2 div.sk-parallel-item:first-child::after {\n",
       "  align-self: flex-end;\n",
       "  width: 50%;\n",
       "}\n",
       "\n",
       "#sk-container-id-2 div.sk-parallel-item:last-child::after {\n",
       "  align-self: flex-start;\n",
       "  width: 50%;\n",
       "}\n",
       "\n",
       "#sk-container-id-2 div.sk-parallel-item:only-child::after {\n",
       "  width: 0;\n",
       "}\n",
       "\n",
       "/* Serial-specific style estimator block */\n",
       "\n",
       "#sk-container-id-2 div.sk-serial {\n",
       "  display: flex;\n",
       "  flex-direction: column;\n",
       "  align-items: center;\n",
       "  background-color: var(--sklearn-color-background);\n",
       "  padding-right: 1em;\n",
       "  padding-left: 1em;\n",
       "}\n",
       "\n",
       "\n",
       "/* Toggleable style: style used for estimator/Pipeline/ColumnTransformer box that is\n",
       "clickable and can be expanded/collapsed.\n",
       "- Pipeline and ColumnTransformer use this feature and define the default style\n",
       "- Estimators will overwrite some part of the style using the `sk-estimator` class\n",
       "*/\n",
       "\n",
       "/* Pipeline and ColumnTransformer style (default) */\n",
       "\n",
       "#sk-container-id-2 div.sk-toggleable {\n",
       "  /* Default theme specific background. It is overwritten whether we have a\n",
       "  specific estimator or a Pipeline/ColumnTransformer */\n",
       "  background-color: var(--sklearn-color-background);\n",
       "}\n",
       "\n",
       "/* Toggleable label */\n",
       "#sk-container-id-2 label.sk-toggleable__label {\n",
       "  cursor: pointer;\n",
       "  display: block;\n",
       "  width: 100%;\n",
       "  margin-bottom: 0;\n",
       "  padding: 0.5em;\n",
       "  box-sizing: border-box;\n",
       "  text-align: center;\n",
       "}\n",
       "\n",
       "#sk-container-id-2 label.sk-toggleable__label-arrow:before {\n",
       "  /* Arrow on the left of the label */\n",
       "  content: \"▸\";\n",
       "  float: left;\n",
       "  margin-right: 0.25em;\n",
       "  color: var(--sklearn-color-icon);\n",
       "}\n",
       "\n",
       "#sk-container-id-2 label.sk-toggleable__label-arrow:hover:before {\n",
       "  color: var(--sklearn-color-text);\n",
       "}\n",
       "\n",
       "/* Toggleable content - dropdown */\n",
       "\n",
       "#sk-container-id-2 div.sk-toggleable__content {\n",
       "  max-height: 0;\n",
       "  max-width: 0;\n",
       "  overflow: hidden;\n",
       "  text-align: left;\n",
       "  /* unfitted */\n",
       "  background-color: var(--sklearn-color-unfitted-level-0);\n",
       "}\n",
       "\n",
       "#sk-container-id-2 div.sk-toggleable__content.fitted {\n",
       "  /* fitted */\n",
       "  background-color: var(--sklearn-color-fitted-level-0);\n",
       "}\n",
       "\n",
       "#sk-container-id-2 div.sk-toggleable__content pre {\n",
       "  margin: 0.2em;\n",
       "  border-radius: 0.25em;\n",
       "  color: var(--sklearn-color-text);\n",
       "  /* unfitted */\n",
       "  background-color: var(--sklearn-color-unfitted-level-0);\n",
       "}\n",
       "\n",
       "#sk-container-id-2 div.sk-toggleable__content.fitted pre {\n",
       "  /* unfitted */\n",
       "  background-color: var(--sklearn-color-fitted-level-0);\n",
       "}\n",
       "\n",
       "#sk-container-id-2 input.sk-toggleable__control:checked~div.sk-toggleable__content {\n",
       "  /* Expand drop-down */\n",
       "  max-height: 200px;\n",
       "  max-width: 100%;\n",
       "  overflow: auto;\n",
       "}\n",
       "\n",
       "#sk-container-id-2 input.sk-toggleable__control:checked~label.sk-toggleable__label-arrow:before {\n",
       "  content: \"▾\";\n",
       "}\n",
       "\n",
       "/* Pipeline/ColumnTransformer-specific style */\n",
       "\n",
       "#sk-container-id-2 div.sk-label input.sk-toggleable__control:checked~label.sk-toggleable__label {\n",
       "  color: var(--sklearn-color-text);\n",
       "  background-color: var(--sklearn-color-unfitted-level-2);\n",
       "}\n",
       "\n",
       "#sk-container-id-2 div.sk-label.fitted input.sk-toggleable__control:checked~label.sk-toggleable__label {\n",
       "  background-color: var(--sklearn-color-fitted-level-2);\n",
       "}\n",
       "\n",
       "/* Estimator-specific style */\n",
       "\n",
       "/* Colorize estimator box */\n",
       "#sk-container-id-2 div.sk-estimator input.sk-toggleable__control:checked~label.sk-toggleable__label {\n",
       "  /* unfitted */\n",
       "  background-color: var(--sklearn-color-unfitted-level-2);\n",
       "}\n",
       "\n",
       "#sk-container-id-2 div.sk-estimator.fitted input.sk-toggleable__control:checked~label.sk-toggleable__label {\n",
       "  /* fitted */\n",
       "  background-color: var(--sklearn-color-fitted-level-2);\n",
       "}\n",
       "\n",
       "#sk-container-id-2 div.sk-label label.sk-toggleable__label,\n",
       "#sk-container-id-2 div.sk-label label {\n",
       "  /* The background is the default theme color */\n",
       "  color: var(--sklearn-color-text-on-default-background);\n",
       "}\n",
       "\n",
       "/* On hover, darken the color of the background */\n",
       "#sk-container-id-2 div.sk-label:hover label.sk-toggleable__label {\n",
       "  color: var(--sklearn-color-text);\n",
       "  background-color: var(--sklearn-color-unfitted-level-2);\n",
       "}\n",
       "\n",
       "/* Label box, darken color on hover, fitted */\n",
       "#sk-container-id-2 div.sk-label.fitted:hover label.sk-toggleable__label.fitted {\n",
       "  color: var(--sklearn-color-text);\n",
       "  background-color: var(--sklearn-color-fitted-level-2);\n",
       "}\n",
       "\n",
       "/* Estimator label */\n",
       "\n",
       "#sk-container-id-2 div.sk-label label {\n",
       "  font-family: monospace;\n",
       "  font-weight: bold;\n",
       "  display: inline-block;\n",
       "  line-height: 1.2em;\n",
       "}\n",
       "\n",
       "#sk-container-id-2 div.sk-label-container {\n",
       "  text-align: center;\n",
       "}\n",
       "\n",
       "/* Estimator-specific */\n",
       "#sk-container-id-2 div.sk-estimator {\n",
       "  font-family: monospace;\n",
       "  border: 1px dotted var(--sklearn-color-border-box);\n",
       "  border-radius: 0.25em;\n",
       "  box-sizing: border-box;\n",
       "  margin-bottom: 0.5em;\n",
       "  /* unfitted */\n",
       "  background-color: var(--sklearn-color-unfitted-level-0);\n",
       "}\n",
       "\n",
       "#sk-container-id-2 div.sk-estimator.fitted {\n",
       "  /* fitted */\n",
       "  background-color: var(--sklearn-color-fitted-level-0);\n",
       "}\n",
       "\n",
       "/* on hover */\n",
       "#sk-container-id-2 div.sk-estimator:hover {\n",
       "  /* unfitted */\n",
       "  background-color: var(--sklearn-color-unfitted-level-2);\n",
       "}\n",
       "\n",
       "#sk-container-id-2 div.sk-estimator.fitted:hover {\n",
       "  /* fitted */\n",
       "  background-color: var(--sklearn-color-fitted-level-2);\n",
       "}\n",
       "\n",
       "/* Specification for estimator info (e.g. \"i\" and \"?\") */\n",
       "\n",
       "/* Common style for \"i\" and \"?\" */\n",
       "\n",
       ".sk-estimator-doc-link,\n",
       "a:link.sk-estimator-doc-link,\n",
       "a:visited.sk-estimator-doc-link {\n",
       "  float: right;\n",
       "  font-size: smaller;\n",
       "  line-height: 1em;\n",
       "  font-family: monospace;\n",
       "  background-color: var(--sklearn-color-background);\n",
       "  border-radius: 1em;\n",
       "  height: 1em;\n",
       "  width: 1em;\n",
       "  text-decoration: none !important;\n",
       "  margin-left: 1ex;\n",
       "  /* unfitted */\n",
       "  border: var(--sklearn-color-unfitted-level-1) 1pt solid;\n",
       "  color: var(--sklearn-color-unfitted-level-1);\n",
       "}\n",
       "\n",
       ".sk-estimator-doc-link.fitted,\n",
       "a:link.sk-estimator-doc-link.fitted,\n",
       "a:visited.sk-estimator-doc-link.fitted {\n",
       "  /* fitted */\n",
       "  border: var(--sklearn-color-fitted-level-1) 1pt solid;\n",
       "  color: var(--sklearn-color-fitted-level-1);\n",
       "}\n",
       "\n",
       "/* On hover */\n",
       "div.sk-estimator:hover .sk-estimator-doc-link:hover,\n",
       ".sk-estimator-doc-link:hover,\n",
       "div.sk-label-container:hover .sk-estimator-doc-link:hover,\n",
       ".sk-estimator-doc-link:hover {\n",
       "  /* unfitted */\n",
       "  background-color: var(--sklearn-color-unfitted-level-3);\n",
       "  color: var(--sklearn-color-background);\n",
       "  text-decoration: none;\n",
       "}\n",
       "\n",
       "div.sk-estimator.fitted:hover .sk-estimator-doc-link.fitted:hover,\n",
       ".sk-estimator-doc-link.fitted:hover,\n",
       "div.sk-label-container:hover .sk-estimator-doc-link.fitted:hover,\n",
       ".sk-estimator-doc-link.fitted:hover {\n",
       "  /* fitted */\n",
       "  background-color: var(--sklearn-color-fitted-level-3);\n",
       "  color: var(--sklearn-color-background);\n",
       "  text-decoration: none;\n",
       "}\n",
       "\n",
       "/* Span, style for the box shown on hovering the info icon */\n",
       ".sk-estimator-doc-link span {\n",
       "  display: none;\n",
       "  z-index: 9999;\n",
       "  position: relative;\n",
       "  font-weight: normal;\n",
       "  right: .2ex;\n",
       "  padding: .5ex;\n",
       "  margin: .5ex;\n",
       "  width: min-content;\n",
       "  min-width: 20ex;\n",
       "  max-width: 50ex;\n",
       "  color: var(--sklearn-color-text);\n",
       "  box-shadow: 2pt 2pt 4pt #999;\n",
       "  /* unfitted */\n",
       "  background: var(--sklearn-color-unfitted-level-0);\n",
       "  border: .5pt solid var(--sklearn-color-unfitted-level-3);\n",
       "}\n",
       "\n",
       ".sk-estimator-doc-link.fitted span {\n",
       "  /* fitted */\n",
       "  background: var(--sklearn-color-fitted-level-0);\n",
       "  border: var(--sklearn-color-fitted-level-3);\n",
       "}\n",
       "\n",
       ".sk-estimator-doc-link:hover span {\n",
       "  display: block;\n",
       "}\n",
       "\n",
       "/* \"?\"-specific style due to the `<a>` HTML tag */\n",
       "\n",
       "#sk-container-id-2 a.estimator_doc_link {\n",
       "  float: right;\n",
       "  font-size: 1rem;\n",
       "  line-height: 1em;\n",
       "  font-family: monospace;\n",
       "  background-color: var(--sklearn-color-background);\n",
       "  border-radius: 1rem;\n",
       "  height: 1rem;\n",
       "  width: 1rem;\n",
       "  text-decoration: none;\n",
       "  /* unfitted */\n",
       "  color: var(--sklearn-color-unfitted-level-1);\n",
       "  border: var(--sklearn-color-unfitted-level-1) 1pt solid;\n",
       "}\n",
       "\n",
       "#sk-container-id-2 a.estimator_doc_link.fitted {\n",
       "  /* fitted */\n",
       "  border: var(--sklearn-color-fitted-level-1) 1pt solid;\n",
       "  color: var(--sklearn-color-fitted-level-1);\n",
       "}\n",
       "\n",
       "/* On hover */\n",
       "#sk-container-id-2 a.estimator_doc_link:hover {\n",
       "  /* unfitted */\n",
       "  background-color: var(--sklearn-color-unfitted-level-3);\n",
       "  color: var(--sklearn-color-background);\n",
       "  text-decoration: none;\n",
       "}\n",
       "\n",
       "#sk-container-id-2 a.estimator_doc_link.fitted:hover {\n",
       "  /* fitted */\n",
       "  background-color: var(--sklearn-color-fitted-level-3);\n",
       "}\n",
       "</style><div id=\"sk-container-id-2\" class=\"sk-top-container\"><div class=\"sk-text-repr-fallback\"><pre>LGBMRegressor(max_depth=6)</pre><b>In a Jupyter environment, please rerun this cell to show the HTML representation or trust the notebook. <br />On GitHub, the HTML representation is unable to render, please try loading this page with nbviewer.org.</b></div><div class=\"sk-container\" hidden><div class=\"sk-item\"><div class=\"sk-estimator fitted sk-toggleable\"><input class=\"sk-toggleable__control sk-hidden--visually\" id=\"sk-estimator-id-2\" type=\"checkbox\" checked><label for=\"sk-estimator-id-2\" class=\"sk-toggleable__label fitted sk-toggleable__label-arrow fitted\">&nbsp;LGBMRegressor<span class=\"sk-estimator-doc-link fitted\">i<span>Fitted</span></span></label><div class=\"sk-toggleable__content fitted\"><pre>LGBMRegressor(max_depth=6)</pre></div> </div></div></div></div>"
      ],
      "text/plain": [
       "LGBMRegressor(max_depth=6)"
      ]
     },
     "execution_count": 46,
     "metadata": {},
     "output_type": "execute_result"
    }
   ],
   "source": [
    "%%time\n",
    "# Обучение\n",
    "best_lgbm_time_test.fit(X_train_transformed, y_train)"
   ]
  },
  {
   "cell_type": "code",
   "execution_count": 47,
   "id": "86bd5bf7",
   "metadata": {},
   "outputs": [
    {
     "name": "stdout",
     "output_type": "stream",
     "text": [
      "CPU times: user 1.48 s, sys: 34.7 ms, total: 1.52 s\n",
      "Wall time: 206 ms\n"
     ]
    }
   ],
   "source": [
    "%%time\n",
    "# Предсказание\n",
    "prediction = best_lgbm_time_test.predict(X_train_transformed)"
   ]
  },
  {
   "cell_type": "markdown",
   "id": "f2ebf802",
   "metadata": {},
   "source": [
    "#### Показатели LightGBM\n",
    "- RMSE на кросс-валидации 1813\n",
    "- Время обучения 364 милисекунды\n",
    "- Время предсказания 81.2 милисекунды"
   ]
  },
  {
   "cell_type": "markdown",
   "id": "84QN0s8yAvCQ",
   "metadata": {
    "id": "84QN0s8yAvCQ"
   },
   "source": [
    "Модели обучены, лучший результат показывает бустинг. Выведем метрику RMSE на тестовой выборке.\n",
    "\n",
    "#### Проверка лучшей модели на тестовой выборке"
   ]
  },
  {
   "cell_type": "code",
   "execution_count": 48,
   "id": "y_aLsf7-A1u6",
   "metadata": {
    "colab": {
     "base_uri": "https://localhost:8080/"
    },
    "id": "y_aLsf7-A1u6",
    "outputId": "f266e1ad-8491-46fd-bea6-8471eb8e3ce8"
   },
   "outputs": [
    {
     "name": "stdout",
     "output_type": "stream",
     "text": [
      "Значение RMSE на тестовой выборке: 1809.1767191427452\n"
     ]
    }
   ],
   "source": [
    "print(f'Значение RMSE на тестовой выборке: {root_mean_squared_error(y_test, best_boosting.predict(X_test))}')"
   ]
  },
  {
   "cell_type": "markdown",
   "id": "OV38jRD_LeN3",
   "metadata": {
    "id": "OV38jRD_LeN3"
   },
   "source": [
    "### Общий вывод по Обучению моделей МО\n",
    "- Обучены модели Регрессор на базе дерева решений, LightGBM. Выбраны лучшие комбинации гиперпараметров для минимизации RMSE.\n",
    "\n",
    "#### Показатели Дерева решений\n",
    "- RMSE на кросс-валидации 2302\n",
    "- Время обучения 221 милисекунда\n",
    "- Время предсказания 12.1 милисекунд\n",
    "\n",
    "#### Показатели LightGBM\n",
    "- RMSE на кросс-валидации 1813\n",
    "- Время обучения 364 милисекунды\n",
    "- Время предсказания 81.2 милисекунды\n",
    "\n",
    "#### Рекомендации для Заказчика:\n",
    "- Модель на основе LightGBM точнее на 21%, но обучается примерно на 50% дольше, пронгозирует почти 6 раз дольше. Но не смотря на это, мы рекомендуем выбрать именно эту модель.\n",
    "- Если есть возможность пожертвовать 21% точности, чтобы достичь максимальной скорости, рекомендуем использовать в приложении модель на базе дерева решений, а если критично важна точность и не так важно время обучения, то рекомендуем выбрать модель на базе LightGBM."
   ]
  },
  {
   "cell_type": "markdown",
   "id": "GSRwXIRBN_-k",
   "metadata": {
    "id": "GSRwXIRBN_-k"
   },
   "source": [
    "## Общий вывод по Проекту:\n",
    "- Загружены, проверены данные для обучения моделей.\n",
    "- Проведена предобработка данных: обработаны пропущенные значения, обработаны дубликаты, названия столбцов, устранены не информативные для обучения моделей МО данные.\n",
    "- Проведен исследовательский анализ данных: устранены аномалии и выбросы во входных признаках, изучены и проанализированы распределения признаков.\n",
    "- Проведен корреляционный анализ данных: устранена мультиколлинеарность между входными признаками, установлен уровень зависимости целевого признака (цена) от входных.\n",
    "- Разработаны пайплайны для обучения моделей МО. Использован алгоритм рандомного поиска для выбора лучшей комбинации гиперпараметров моделей МО.\n",
    "- Обучены модели Регрессор на базе дерева решений, LightGBM. Выбраны лучшие комбинации гиперпараметров для минимизации RMSE.\n",
    "    - Показатели Дерева решений\n",
    "        - RMSE на кросс-валидации 2302\n",
    "        - Время обучения 221 милисекунда\n",
    "        - Время предсказания 12.1 милисекунд\n",
    "\n",
    "    - Показатели LightGBM\n",
    "        - RMSE на кросс-валидации 1813\n",
    "        - Время обучения 364 милисекунды\n",
    "        - Время предсказания 81.2 милисекунды\n",
    "## Рекомендации для Заказчика\n",
    "- Модель на основе LightGBM точнее на 21%, но обучается примерно на 50% дольше, пронгозирует значительно дольше. Рекомендуем использовать именно ее.\n",
    "- Если есть возможность пожертвовать 21% точности, чтобы достичь максимальной скорости, рекомендуем использовать в приложении модель на базе дерева решений, а если критично важна точность и не так важно время обучения, то рекомендуем выбрать модель на базе LightGBM."
   ]
  }
 ],
 "metadata": {
  "ExecuteTimeLog": [
   {
    "duration": 5978,
    "start_time": "2024-12-20T08:56:55.208Z"
   },
   {
    "duration": 1853,
    "start_time": "2024-12-20T08:57:01.188Z"
   },
   {
    "duration": 0,
    "start_time": "2024-12-20T08:57:03.044Z"
   },
   {
    "duration": 0,
    "start_time": "2024-12-20T08:57:03.046Z"
   },
   {
    "duration": 0,
    "start_time": "2024-12-20T08:57:03.047Z"
   },
   {
    "duration": 0,
    "start_time": "2024-12-20T08:57:03.048Z"
   },
   {
    "duration": 0,
    "start_time": "2024-12-20T08:57:03.049Z"
   },
   {
    "duration": 0,
    "start_time": "2024-12-20T08:57:03.050Z"
   },
   {
    "duration": 0,
    "start_time": "2024-12-20T08:57:03.052Z"
   },
   {
    "duration": 0,
    "start_time": "2024-12-20T08:57:03.053Z"
   },
   {
    "duration": 0,
    "start_time": "2024-12-20T08:57:03.054Z"
   },
   {
    "duration": 0,
    "start_time": "2024-12-20T08:57:03.055Z"
   },
   {
    "duration": 0,
    "start_time": "2024-12-20T08:57:03.056Z"
   },
   {
    "duration": 0,
    "start_time": "2024-12-20T08:57:03.057Z"
   },
   {
    "duration": 0,
    "start_time": "2024-12-20T08:57:03.058Z"
   },
   {
    "duration": 0,
    "start_time": "2024-12-20T08:57:03.059Z"
   },
   {
    "duration": 0,
    "start_time": "2024-12-20T08:57:03.061Z"
   },
   {
    "duration": 1,
    "start_time": "2024-12-20T08:57:03.061Z"
   },
   {
    "duration": 0,
    "start_time": "2024-12-20T08:57:03.062Z"
   },
   {
    "duration": 0,
    "start_time": "2024-12-20T08:57:03.064Z"
   },
   {
    "duration": 0,
    "start_time": "2024-12-20T08:57:03.065Z"
   },
   {
    "duration": 0,
    "start_time": "2024-12-20T08:57:03.066Z"
   },
   {
    "duration": 0,
    "start_time": "2024-12-20T08:57:03.067Z"
   },
   {
    "duration": 0,
    "start_time": "2024-12-20T08:57:03.068Z"
   },
   {
    "duration": 0,
    "start_time": "2024-12-20T08:57:03.069Z"
   },
   {
    "duration": 0,
    "start_time": "2024-12-20T08:57:03.070Z"
   },
   {
    "duration": 0,
    "start_time": "2024-12-20T08:57:03.071Z"
   },
   {
    "duration": 0,
    "start_time": "2024-12-20T08:57:03.072Z"
   },
   {
    "duration": 0,
    "start_time": "2024-12-20T08:57:03.073Z"
   },
   {
    "duration": 0,
    "start_time": "2024-12-20T08:57:03.076Z"
   },
   {
    "duration": 0,
    "start_time": "2024-12-20T08:57:03.077Z"
   },
   {
    "duration": 0,
    "start_time": "2024-12-20T08:57:03.078Z"
   },
   {
    "duration": 0,
    "start_time": "2024-12-20T08:57:03.079Z"
   },
   {
    "duration": 0,
    "start_time": "2024-12-20T08:57:03.137Z"
   },
   {
    "duration": 0,
    "start_time": "2024-12-20T08:57:03.138Z"
   },
   {
    "duration": 0,
    "start_time": "2024-12-20T08:57:03.139Z"
   },
   {
    "duration": 0,
    "start_time": "2024-12-20T08:57:03.141Z"
   },
   {
    "duration": 0,
    "start_time": "2024-12-20T08:57:03.142Z"
   },
   {
    "duration": 0,
    "start_time": "2024-12-20T08:57:03.143Z"
   },
   {
    "duration": 0,
    "start_time": "2024-12-20T08:57:03.144Z"
   },
   {
    "duration": 0,
    "start_time": "2024-12-20T08:57:03.145Z"
   },
   {
    "duration": 12728,
    "start_time": "2024-12-20T09:01:59.728Z"
   },
   {
    "duration": 17,
    "start_time": "2024-12-20T09:02:21.735Z"
   },
   {
    "duration": 17280,
    "start_time": "2024-12-20T09:02:47.611Z"
   },
   {
    "duration": 18,
    "start_time": "2024-12-20T09:03:08.799Z"
   },
   {
    "duration": 12735,
    "start_time": "2024-12-20T09:03:21.607Z"
   },
   {
    "duration": 1393,
    "start_time": "2024-12-20T09:03:34.344Z"
   },
   {
    "duration": 1633,
    "start_time": "2024-12-20T09:03:35.738Z"
   },
   {
    "duration": 194,
    "start_time": "2024-12-20T09:03:37.373Z"
   },
   {
    "duration": 5,
    "start_time": "2024-12-20T09:03:37.570Z"
   },
   {
    "duration": 62,
    "start_time": "2024-12-20T09:03:37.577Z"
   },
   {
    "duration": 28,
    "start_time": "2024-12-20T09:03:37.641Z"
   },
   {
    "duration": 42,
    "start_time": "2024-12-20T09:03:37.671Z"
   },
   {
    "duration": 61,
    "start_time": "2024-12-20T09:03:37.715Z"
   },
   {
    "duration": 59,
    "start_time": "2024-12-20T09:03:37.778Z"
   },
   {
    "duration": 49,
    "start_time": "2024-12-20T09:03:37.839Z"
   },
   {
    "duration": 262,
    "start_time": "2024-12-20T09:03:37.890Z"
   },
   {
    "duration": 503,
    "start_time": "2024-12-20T09:03:38.153Z"
   },
   {
    "duration": 1020,
    "start_time": "2024-12-20T09:03:38.659Z"
   },
   {
    "duration": 131,
    "start_time": "2024-12-20T09:03:39.680Z"
   },
   {
    "duration": 59,
    "start_time": "2024-12-20T09:03:39.812Z"
   },
   {
    "duration": 4,
    "start_time": "2024-12-20T09:03:39.872Z"
   },
   {
    "duration": 216,
    "start_time": "2024-12-20T09:03:39.878Z"
   },
   {
    "duration": 23,
    "start_time": "2024-12-20T09:03:40.096Z"
   },
   {
    "duration": 10867,
    "start_time": "2024-12-20T09:03:40.137Z"
   },
   {
    "duration": 188,
    "start_time": "2024-12-20T09:03:51.005Z"
   },
   {
    "duration": 486,
    "start_time": "2024-12-20T09:03:51.194Z"
   },
   {
    "duration": 20,
    "start_time": "2024-12-20T09:03:51.681Z"
   },
   {
    "duration": 10991,
    "start_time": "2024-12-20T09:03:51.703Z"
   },
   {
    "duration": 203,
    "start_time": "2024-12-20T09:04:02.696Z"
   },
   {
    "duration": 188,
    "start_time": "2024-12-20T09:04:02.900Z"
   },
   {
    "duration": 7,
    "start_time": "2024-12-20T09:04:03.089Z"
   },
   {
    "duration": 259,
    "start_time": "2024-12-20T09:04:03.098Z"
   },
   {
    "duration": 740,
    "start_time": "2024-12-20T09:04:03.359Z"
   },
   {
    "duration": 234,
    "start_time": "2024-12-20T09:04:04.101Z"
   },
   {
    "duration": 6569,
    "start_time": "2024-12-20T09:04:04.337Z"
   },
   {
    "duration": 17,
    "start_time": "2024-12-20T09:04:10.907Z"
   },
   {
    "duration": 6,
    "start_time": "2024-12-20T09:04:10.926Z"
   },
   {
    "duration": 10,
    "start_time": "2024-12-20T09:04:10.933Z"
   },
   {
    "duration": 8,
    "start_time": "2024-12-20T09:04:10.944Z"
   },
   {
    "duration": 112,
    "start_time": "2024-12-20T09:04:10.953Z"
   },
   {
    "duration": 3,
    "start_time": "2024-12-20T09:04:11.067Z"
   },
   {
    "duration": 97,
    "start_time": "2024-12-20T09:04:11.072Z"
   },
   {
    "duration": 209152,
    "start_time": "2024-12-20T09:04:11.171Z"
   },
   {
    "duration": 1086518,
    "start_time": "2024-12-20T09:07:40.325Z"
   },
   {
    "duration": 1474,
    "start_time": "2024-12-20T09:25:46.849Z"
   },
   {
    "duration": 18659,
    "start_time": "2024-12-20T21:38:28.018Z"
   },
   {
    "duration": 7512,
    "start_time": "2024-12-20T21:38:46.680Z"
   },
   {
    "duration": 1455,
    "start_time": "2024-12-20T21:38:54.193Z"
   },
   {
    "duration": 32,
    "start_time": "2024-12-20T21:39:06.736Z"
   },
   {
    "duration": 27,
    "start_time": "2024-12-20T21:39:09.662Z"
   },
   {
    "duration": 29,
    "start_time": "2024-12-20T21:39:09.691Z"
   },
   {
    "duration": 46,
    "start_time": "2024-12-20T21:39:09.721Z"
   },
   {
    "duration": 30,
    "start_time": "2024-12-20T21:39:09.769Z"
   },
   {
    "duration": 27,
    "start_time": "2024-12-20T21:39:09.800Z"
   },
   {
    "duration": 29,
    "start_time": "2024-12-20T21:39:09.829Z"
   },
   {
    "duration": 41,
    "start_time": "2024-12-20T21:39:09.859Z"
   },
   {
    "duration": 27,
    "start_time": "2024-12-20T21:39:09.901Z"
   },
   {
    "duration": 19,
    "start_time": "2024-12-20T21:39:09.930Z"
   },
   {
    "duration": 6,
    "start_time": "2024-12-20T21:39:09.952Z"
   },
   {
    "duration": 19,
    "start_time": "2024-12-20T21:39:09.959Z"
   },
   {
    "duration": 7,
    "start_time": "2024-12-20T21:39:09.980Z"
   },
   {
    "duration": 27,
    "start_time": "2024-12-20T21:39:09.989Z"
   },
   {
    "duration": 51,
    "start_time": "2024-12-20T21:39:10.018Z"
   },
   {
    "duration": 20,
    "start_time": "2024-12-20T21:39:10.070Z"
   },
   {
    "duration": 196,
    "start_time": "2024-12-20T21:39:10.091Z"
   },
   {
    "duration": 22,
    "start_time": "2024-12-20T21:39:10.289Z"
   },
   {
    "duration": 170,
    "start_time": "2024-12-20T21:39:10.312Z"
   },
   {
    "duration": 167,
    "start_time": "2024-12-20T21:39:10.483Z"
   },
   {
    "duration": 387,
    "start_time": "2024-12-20T21:39:10.653Z"
   },
   {
    "duration": 11,
    "start_time": "2024-12-20T21:39:11.041Z"
   },
   {
    "duration": 203,
    "start_time": "2024-12-20T21:39:11.053Z"
   },
   {
    "duration": 158,
    "start_time": "2024-12-20T21:39:11.257Z"
   },
   {
    "duration": 170,
    "start_time": "2024-12-20T21:39:11.416Z"
   },
   {
    "duration": 6,
    "start_time": "2024-12-20T21:39:11.588Z"
   },
   {
    "duration": 172,
    "start_time": "2024-12-20T21:39:11.596Z"
   },
   {
    "duration": 489,
    "start_time": "2024-12-20T21:39:11.769Z"
   },
   {
    "duration": 160,
    "start_time": "2024-12-20T21:39:12.261Z"
   },
   {
    "duration": 1729,
    "start_time": "2024-12-20T21:39:12.423Z"
   },
   {
    "duration": 5,
    "start_time": "2024-12-20T21:39:14.154Z"
   },
   {
    "duration": 5,
    "start_time": "2024-12-20T21:39:14.161Z"
   },
   {
    "duration": 3,
    "start_time": "2024-12-20T21:39:14.168Z"
   },
   {
    "duration": 3,
    "start_time": "2024-12-20T21:39:14.173Z"
   },
   {
    "duration": 7,
    "start_time": "2024-12-20T21:39:14.177Z"
   },
   {
    "duration": 13,
    "start_time": "2024-12-20T21:39:14.185Z"
   },
   {
    "duration": 9,
    "start_time": "2024-12-20T21:39:14.200Z"
   },
   {
    "duration": 932,
    "start_time": "2024-12-20T21:39:14.211Z"
   },
   {
    "duration": 15,
    "start_time": "2024-12-20T21:39:15.145Z"
   },
   {
    "duration": 182,
    "start_time": "2024-12-20T21:39:15.162Z"
   },
   {
    "duration": 40,
    "start_time": "2024-12-20T21:39:15.345Z"
   },
   {
    "duration": 19929,
    "start_time": "2024-12-20T21:39:15.387Z"
   },
   {
    "duration": 2,
    "start_time": "2024-12-20T21:39:35.319Z"
   },
   {
    "duration": 394,
    "start_time": "2024-12-20T21:39:35.323Z"
   },
   {
    "duration": 96,
    "start_time": "2024-12-20T21:39:35.719Z"
   },
   {
    "duration": 95,
    "start_time": "2024-12-20T21:39:35.818Z"
   },
   {
    "duration": 31,
    "start_time": "2024-12-20T21:39:35.915Z"
   },
   {
    "duration": 3,
    "start_time": "2024-12-20T21:39:52.938Z"
   },
   {
    "duration": 6,
    "start_time": "2024-12-20T21:39:53.120Z"
   },
   {
    "duration": 945,
    "start_time": "2024-12-20T21:39:54.016Z"
   },
   {
    "duration": 16,
    "start_time": "2024-12-20T21:39:54.963Z"
   },
   {
    "duration": 7,
    "start_time": "2024-12-20T21:39:55.131Z"
   },
   {
    "duration": 5,
    "start_time": "2024-12-20T21:39:55.530Z"
   },
   {
    "duration": 3671,
    "start_time": "2024-12-20T21:39:56.840Z"
   },
   {
    "duration": 3,
    "start_time": "2024-12-20T21:40:10.754Z"
   },
   {
    "duration": 6,
    "start_time": "2024-12-20T21:40:11.002Z"
   },
   {
    "duration": 920,
    "start_time": "2024-12-20T21:40:11.752Z"
   },
   {
    "duration": 15,
    "start_time": "2024-12-20T21:40:12.674Z"
   },
   {
    "duration": 22,
    "start_time": "2024-12-20T21:40:12.690Z"
   },
   {
    "duration": 5,
    "start_time": "2024-12-20T21:40:12.714Z"
   },
   {
    "duration": 7886,
    "start_time": "2024-12-20T21:40:13.544Z"
   },
   {
    "duration": 3,
    "start_time": "2024-12-20T21:40:35.528Z"
   },
   {
    "duration": 6,
    "start_time": "2024-12-20T21:40:35.744Z"
   },
   {
    "duration": 944,
    "start_time": "2024-12-20T21:40:36.575Z"
   },
   {
    "duration": 15,
    "start_time": "2024-12-20T21:40:37.522Z"
   },
   {
    "duration": 9,
    "start_time": "2024-12-20T21:40:37.538Z"
   },
   {
    "duration": 3,
    "start_time": "2024-12-20T21:40:37.549Z"
   },
   {
    "duration": 12560,
    "start_time": "2024-12-20T21:40:37.773Z"
   },
   {
    "duration": 3,
    "start_time": "2024-12-20T21:40:59.214Z"
   },
   {
    "duration": 6,
    "start_time": "2024-12-20T21:40:59.366Z"
   },
   {
    "duration": 953,
    "start_time": "2024-12-20T21:41:00.082Z"
   },
   {
    "duration": 15,
    "start_time": "2024-12-20T21:41:01.037Z"
   },
   {
    "duration": 7,
    "start_time": "2024-12-20T21:41:01.053Z"
   },
   {
    "duration": 4,
    "start_time": "2024-12-20T21:41:01.061Z"
   },
   {
    "duration": 18544,
    "start_time": "2024-12-20T21:41:01.066Z"
   },
   {
    "duration": 3,
    "start_time": "2024-12-20T21:41:27.328Z"
   },
   {
    "duration": 5,
    "start_time": "2024-12-20T21:41:27.488Z"
   },
   {
    "duration": 936,
    "start_time": "2024-12-20T21:41:28.210Z"
   },
   {
    "duration": 16,
    "start_time": "2024-12-20T21:41:29.290Z"
   },
   {
    "duration": 7,
    "start_time": "2024-12-20T21:41:29.461Z"
   },
   {
    "duration": 4,
    "start_time": "2024-12-20T21:41:29.719Z"
   },
   {
    "duration": 2434,
    "start_time": "2024-12-20T21:41:31.771Z"
   },
   {
    "duration": 4,
    "start_time": "2024-12-20T21:43:22.707Z"
   },
   {
    "duration": 5,
    "start_time": "2024-12-20T21:43:23.436Z"
   },
   {
    "duration": 898,
    "start_time": "2024-12-20T21:43:24.655Z"
   },
   {
    "duration": 16,
    "start_time": "2024-12-20T21:43:26.027Z"
   },
   {
    "duration": 7,
    "start_time": "2024-12-20T21:43:26.201Z"
   },
   {
    "duration": 4,
    "start_time": "2024-12-20T21:43:26.461Z"
   },
   {
    "duration": 17217,
    "start_time": "2024-12-20T21:43:27.304Z"
   }
  ],
  "colab": {
   "provenance": []
  },
  "kernelspec": {
   "display_name": "Python 3 (ipykernel)",
   "language": "python",
   "name": "python3"
  },
  "language_info": {
   "codemirror_mode": {
    "name": "ipython",
    "version": 3
   },
   "file_extension": ".py",
   "mimetype": "text/x-python",
   "name": "python",
   "nbconvert_exporter": "python",
   "pygments_lexer": "ipython3",
   "version": "3.11.11"
  },
  "toc": {
   "base_numbering": 1,
   "nav_menu": {},
   "number_sections": true,
   "sideBar": true,
   "skip_h1_title": true,
   "title_cell": "Table of Contents",
   "title_sidebar": "Contents",
   "toc_cell": false,
   "toc_position": {},
   "toc_section_display": true,
   "toc_window_display": false
  },
  "varInspector": {
   "cols": {
    "lenName": 16,
    "lenType": 16,
    "lenVar": 40
   },
   "kernels_config": {
    "python": {
     "delete_cmd_postfix": "",
     "delete_cmd_prefix": "del ",
     "library": "var_list.py",
     "varRefreshCmd": "print(var_dic_list())"
    },
    "r": {
     "delete_cmd_postfix": ") ",
     "delete_cmd_prefix": "rm(",
     "library": "var_list.r",
     "varRefreshCmd": "cat(var_dic_list()) "
    }
   },
   "types_to_exclude": [
    "module",
    "function",
    "builtin_function_or_method",
    "instance",
    "_Feature"
   ],
   "window_display": false
  }
 },
 "nbformat": 4,
 "nbformat_minor": 5
}
